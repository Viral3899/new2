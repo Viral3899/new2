{
 "cells": [
  {
   "cell_type": "markdown",
   "id": "3c77c3c5",
   "metadata": {},
   "source": [
    "# Titanic Survival Prediction"
   ]
  },
  {
   "cell_type": "markdown",
   "id": "95066c37",
   "metadata": {},
   "source": [
    "## Importing Libraries "
   ]
  },
  {
   "cell_type": "code",
   "execution_count": 1,
   "id": "6356b3cb",
   "metadata": {},
   "outputs": [],
   "source": [
    "import pandas as pd\n",
    "import numpy as np\n",
    "import matplotlib.pyplot as plt\n",
    "%matplotlib inline\n",
    "import seaborn as sns\n",
    "from sklearn.svm import SVC\n",
    "from sklearn.linear_model import LogisticRegression\n",
    "from  sklearn.metrics import confusion_matrix,precision_score,recall_score,f1_score,accuracy_score,classification_report\n",
    "from sklearn.model_selection import train_test_split\n",
    "from sklearn.preprocessing import RobustScaler\n",
    "from sklearn.preprocessing import LabelEncoder,OneHotEncoder"
   ]
  },
  {
   "cell_type": "code",
   "execution_count": 2,
   "id": "b4e59d2a",
   "metadata": {},
   "outputs": [],
   "source": [
    "import warnings\n",
    "warnings.filterwarnings(\"ignore\")"
   ]
  },
  {
   "cell_type": "markdown",
   "id": "46ccc9e4",
   "metadata": {},
   "source": [
    "## Reading Dataset"
   ]
  },
  {
   "cell_type": "code",
   "execution_count": 3,
   "id": "ca433fa2",
   "metadata": {},
   "outputs": [],
   "source": [
    "df=pd.read_csv(\"ML4 Logi Reg Titanic Survival.csv\")"
   ]
  },
  {
   "cell_type": "code",
   "execution_count": 4,
   "id": "0034440c",
   "metadata": {},
   "outputs": [
    {
     "data": {
      "text/html": [
       "<div>\n",
       "<style scoped>\n",
       "    .dataframe tbody tr th:only-of-type {\n",
       "        vertical-align: middle;\n",
       "    }\n",
       "\n",
       "    .dataframe tbody tr th {\n",
       "        vertical-align: top;\n",
       "    }\n",
       "\n",
       "    .dataframe thead th {\n",
       "        text-align: right;\n",
       "    }\n",
       "</style>\n",
       "<table border=\"1\" class=\"dataframe\">\n",
       "  <thead>\n",
       "    <tr style=\"text-align: right;\">\n",
       "      <th></th>\n",
       "      <th>PassengerId</th>\n",
       "      <th>Survived</th>\n",
       "      <th>Pclass</th>\n",
       "      <th>Name</th>\n",
       "      <th>Sex</th>\n",
       "      <th>Age</th>\n",
       "      <th>SibSp</th>\n",
       "      <th>Parch</th>\n",
       "      <th>Ticket</th>\n",
       "      <th>Fare</th>\n",
       "      <th>Cabin</th>\n",
       "      <th>Embarked</th>\n",
       "    </tr>\n",
       "  </thead>\n",
       "  <tbody>\n",
       "    <tr>\n",
       "      <th>0</th>\n",
       "      <td>1</td>\n",
       "      <td>0</td>\n",
       "      <td>3</td>\n",
       "      <td>Braund, Mr. Owen Harris</td>\n",
       "      <td>male</td>\n",
       "      <td>22.0</td>\n",
       "      <td>1</td>\n",
       "      <td>0</td>\n",
       "      <td>A/5 21171</td>\n",
       "      <td>7.2500</td>\n",
       "      <td>NaN</td>\n",
       "      <td>S</td>\n",
       "    </tr>\n",
       "    <tr>\n",
       "      <th>1</th>\n",
       "      <td>2</td>\n",
       "      <td>1</td>\n",
       "      <td>1</td>\n",
       "      <td>Cumings, Mrs. John Bradley (Florence Briggs Th...</td>\n",
       "      <td>female</td>\n",
       "      <td>38.0</td>\n",
       "      <td>1</td>\n",
       "      <td>0</td>\n",
       "      <td>PC 17599</td>\n",
       "      <td>71.2833</td>\n",
       "      <td>C85</td>\n",
       "      <td>C</td>\n",
       "    </tr>\n",
       "    <tr>\n",
       "      <th>2</th>\n",
       "      <td>3</td>\n",
       "      <td>1</td>\n",
       "      <td>3</td>\n",
       "      <td>Heikkinen, Miss. Laina</td>\n",
       "      <td>female</td>\n",
       "      <td>26.0</td>\n",
       "      <td>0</td>\n",
       "      <td>0</td>\n",
       "      <td>STON/O2. 3101282</td>\n",
       "      <td>7.9250</td>\n",
       "      <td>NaN</td>\n",
       "      <td>S</td>\n",
       "    </tr>\n",
       "    <tr>\n",
       "      <th>3</th>\n",
       "      <td>4</td>\n",
       "      <td>1</td>\n",
       "      <td>1</td>\n",
       "      <td>Futrelle, Mrs. Jacques Heath (Lily May Peel)</td>\n",
       "      <td>female</td>\n",
       "      <td>35.0</td>\n",
       "      <td>1</td>\n",
       "      <td>0</td>\n",
       "      <td>113803</td>\n",
       "      <td>53.1000</td>\n",
       "      <td>C123</td>\n",
       "      <td>S</td>\n",
       "    </tr>\n",
       "    <tr>\n",
       "      <th>4</th>\n",
       "      <td>5</td>\n",
       "      <td>0</td>\n",
       "      <td>3</td>\n",
       "      <td>Allen, Mr. William Henry</td>\n",
       "      <td>male</td>\n",
       "      <td>35.0</td>\n",
       "      <td>0</td>\n",
       "      <td>0</td>\n",
       "      <td>373450</td>\n",
       "      <td>8.0500</td>\n",
       "      <td>NaN</td>\n",
       "      <td>S</td>\n",
       "    </tr>\n",
       "  </tbody>\n",
       "</table>\n",
       "</div>"
      ],
      "text/plain": [
       "   PassengerId  Survived  Pclass  \\\n",
       "0            1         0       3   \n",
       "1            2         1       1   \n",
       "2            3         1       3   \n",
       "3            4         1       1   \n",
       "4            5         0       3   \n",
       "\n",
       "                                                Name     Sex   Age  SibSp  \\\n",
       "0                            Braund, Mr. Owen Harris    male  22.0      1   \n",
       "1  Cumings, Mrs. John Bradley (Florence Briggs Th...  female  38.0      1   \n",
       "2                             Heikkinen, Miss. Laina  female  26.0      0   \n",
       "3       Futrelle, Mrs. Jacques Heath (Lily May Peel)  female  35.0      1   \n",
       "4                           Allen, Mr. William Henry    male  35.0      0   \n",
       "\n",
       "   Parch            Ticket     Fare Cabin Embarked  \n",
       "0      0         A/5 21171   7.2500   NaN        S  \n",
       "1      0          PC 17599  71.2833   C85        C  \n",
       "2      0  STON/O2. 3101282   7.9250   NaN        S  \n",
       "3      0            113803  53.1000  C123        S  \n",
       "4      0            373450   8.0500   NaN        S  "
      ]
     },
     "execution_count": 4,
     "metadata": {},
     "output_type": "execute_result"
    }
   ],
   "source": [
    "df.head()"
   ]
  },
  {
   "cell_type": "code",
   "execution_count": 5,
   "id": "714ecc98",
   "metadata": {},
   "outputs": [
    {
     "data": {
      "text/plain": [
       "(891, 12)"
      ]
     },
     "execution_count": 5,
     "metadata": {},
     "output_type": "execute_result"
    }
   ],
   "source": [
    "df.shape"
   ]
  },
  {
   "cell_type": "markdown",
   "id": "fcbeb210",
   "metadata": {},
   "source": [
    "## Cleaning & EDA"
   ]
  },
  {
   "cell_type": "code",
   "execution_count": 6,
   "id": "3937c0fd",
   "metadata": {},
   "outputs": [
    {
     "data": {
      "text/plain": [
       "PassengerId      0\n",
       "Survived         0\n",
       "Pclass           0\n",
       "Name             0\n",
       "Sex              0\n",
       "Age            177\n",
       "SibSp            0\n",
       "Parch            0\n",
       "Ticket           0\n",
       "Fare             0\n",
       "Cabin          687\n",
       "Embarked         2\n",
       "dtype: int64"
      ]
     },
     "execution_count": 6,
     "metadata": {},
     "output_type": "execute_result"
    }
   ],
   "source": [
    "df.isna().sum()"
   ]
  },
  {
   "cell_type": "code",
   "execution_count": 7,
   "id": "226b7cd4",
   "metadata": {},
   "outputs": [
    {
     "data": {
      "text/plain": [
       "PassengerId    0.000000\n",
       "Survived       0.000000\n",
       "Pclass         0.000000\n",
       "Name           0.000000\n",
       "Sex            0.000000\n",
       "Age            0.198653\n",
       "SibSp          0.000000\n",
       "Parch          0.000000\n",
       "Ticket         0.000000\n",
       "Fare           0.000000\n",
       "Cabin          0.771044\n",
       "Embarked       0.002245\n",
       "dtype: float64"
      ]
     },
     "execution_count": 7,
     "metadata": {},
     "output_type": "execute_result"
    }
   ],
   "source": [
    "df.isna().mean()"
   ]
  },
  {
   "cell_type": "markdown",
   "id": "8fc21f84",
   "metadata": {},
   "source": [
    "#### Removing Null Values"
   ]
  },
  {
   "cell_type": "code",
   "execution_count": 8,
   "id": "1db41b75",
   "metadata": {},
   "outputs": [],
   "source": [
    "df=df.drop([\"Cabin\",'Name','Ticket'],axis=1)"
   ]
  },
  {
   "cell_type": "code",
   "execution_count": 9,
   "id": "45e1ed71",
   "metadata": {},
   "outputs": [
    {
     "data": {
      "text/plain": [
       "array([22.  , 38.  , 26.  , 35.  ,   nan, 54.  ,  2.  , 27.  , 14.  ,\n",
       "        4.  , 58.  , 20.  , 39.  , 55.  , 31.  , 34.  , 15.  , 28.  ,\n",
       "        8.  , 19.  , 40.  , 66.  , 42.  , 21.  , 18.  ,  3.  ,  7.  ,\n",
       "       49.  , 29.  , 65.  , 28.5 ,  5.  , 11.  , 45.  , 17.  , 32.  ,\n",
       "       16.  , 25.  ,  0.83, 30.  , 33.  , 23.  , 24.  , 46.  , 59.  ,\n",
       "       71.  , 37.  , 47.  , 14.5 , 70.5 , 32.5 , 12.  ,  9.  , 36.5 ,\n",
       "       51.  , 55.5 , 40.5 , 44.  ,  1.  , 61.  , 56.  , 50.  , 36.  ,\n",
       "       45.5 , 20.5 , 62.  , 41.  , 52.  , 63.  , 23.5 ,  0.92, 43.  ,\n",
       "       60.  , 10.  , 64.  , 13.  , 48.  ,  0.75, 53.  , 57.  , 80.  ,\n",
       "       70.  , 24.5 ,  6.  ,  0.67, 30.5 ,  0.42, 34.5 , 74.  ])"
      ]
     },
     "execution_count": 9,
     "metadata": {},
     "output_type": "execute_result"
    }
   ],
   "source": [
    "df[\"Age\"].unique()"
   ]
  },
  {
   "cell_type": "code",
   "execution_count": 10,
   "id": "51f2d832",
   "metadata": {},
   "outputs": [],
   "source": [
    "df[\"Age\"]=np.ceil(df[\"Age\"])"
   ]
  },
  {
   "cell_type": "code",
   "execution_count": 11,
   "id": "41ef8928",
   "metadata": {},
   "outputs": [
    {
     "data": {
      "text/plain": [
       "array([22., 38., 26., 35., nan, 54.,  2., 27., 14.,  4., 58., 20., 39.,\n",
       "       55., 31., 34., 15., 28.,  8., 19., 40., 66., 42., 21., 18.,  3.,\n",
       "        7., 49., 29., 65.,  5., 11., 45., 17., 32., 16., 25.,  1., 30.,\n",
       "       33., 23., 24., 46., 59., 71., 37., 47., 12.,  9., 51., 56., 41.,\n",
       "       44., 61., 50., 36., 62., 52., 63., 43., 60., 10., 64., 13., 48.,\n",
       "       53., 57., 80., 70.,  6., 74.])"
      ]
     },
     "execution_count": 11,
     "metadata": {},
     "output_type": "execute_result"
    }
   ],
   "source": [
    "df[\"Age\"].unique()"
   ]
  },
  {
   "cell_type": "code",
   "execution_count": 12,
   "id": "336914f4",
   "metadata": {},
   "outputs": [],
   "source": [
    "df[\"Age\"]=df[\"Age\"].fillna(np.ceil(df[\"Age\"].mean()))"
   ]
  },
  {
   "cell_type": "code",
   "execution_count": 13,
   "id": "8689e50e",
   "metadata": {},
   "outputs": [
    {
     "data": {
      "text/plain": [
       "array(['S', 'C', 'Q', nan], dtype=object)"
      ]
     },
     "execution_count": 13,
     "metadata": {},
     "output_type": "execute_result"
    }
   ],
   "source": [
    "df[\"Embarked\"].unique()"
   ]
  },
  {
   "cell_type": "code",
   "execution_count": 14,
   "id": "58d7c697",
   "metadata": {},
   "outputs": [],
   "source": [
    "df[\"Embarked\"]=df[\"Embarked\"].fillna(df[\"Embarked\"].mode()[0])\n",
    "# df=df.dropna()"
   ]
  },
  {
   "cell_type": "code",
   "execution_count": 15,
   "id": "88597d10",
   "metadata": {},
   "outputs": [
    {
     "data": {
      "text/plain": [
       "PassengerId    0\n",
       "Survived       0\n",
       "Pclass         0\n",
       "Sex            0\n",
       "Age            0\n",
       "SibSp          0\n",
       "Parch          0\n",
       "Fare           0\n",
       "Embarked       0\n",
       "dtype: int64"
      ]
     },
     "execution_count": 15,
     "metadata": {},
     "output_type": "execute_result"
    }
   ],
   "source": [
    "df.isna().sum()"
   ]
  },
  {
   "cell_type": "code",
   "execution_count": 16,
   "id": "8d8102da",
   "metadata": {},
   "outputs": [
    {
     "data": {
      "text/plain": [
       "array([0, 1, 2, 5, 3, 4, 6], dtype=int64)"
      ]
     },
     "execution_count": 16,
     "metadata": {},
     "output_type": "execute_result"
    }
   ],
   "source": [
    "df[\"Parch\"].unique()"
   ]
  },
  {
   "cell_type": "code",
   "execution_count": 17,
   "id": "6278ba6a",
   "metadata": {},
   "outputs": [
    {
     "data": {
      "text/plain": [
       "(891, 9)"
      ]
     },
     "execution_count": 17,
     "metadata": {},
     "output_type": "execute_result"
    }
   ],
   "source": [
    "df.shape"
   ]
  },
  {
   "cell_type": "code",
   "execution_count": 18,
   "id": "9725d85c",
   "metadata": {},
   "outputs": [
    {
     "name": "stdout",
     "output_type": "stream",
     "text": [
      "<class 'pandas.core.frame.DataFrame'>\n",
      "RangeIndex: 891 entries, 0 to 890\n",
      "Data columns (total 9 columns):\n",
      " #   Column       Non-Null Count  Dtype  \n",
      "---  ------       --------------  -----  \n",
      " 0   PassengerId  891 non-null    int64  \n",
      " 1   Survived     891 non-null    int64  \n",
      " 2   Pclass       891 non-null    int64  \n",
      " 3   Sex          891 non-null    object \n",
      " 4   Age          891 non-null    float64\n",
      " 5   SibSp        891 non-null    int64  \n",
      " 6   Parch        891 non-null    int64  \n",
      " 7   Fare         891 non-null    float64\n",
      " 8   Embarked     891 non-null    object \n",
      "dtypes: float64(2), int64(5), object(2)\n",
      "memory usage: 62.8+ KB\n"
     ]
    }
   ],
   "source": [
    "df.info()"
   ]
  },
  {
   "cell_type": "markdown",
   "id": "048d0e75",
   "metadata": {},
   "source": [
    "### Histograms & Barcharts"
   ]
  },
  {
   "cell_type": "code",
   "execution_count": 19,
   "id": "2b86f8f2",
   "metadata": {},
   "outputs": [
    {
     "data": {
      "text/plain": [
       "array([[<AxesSubplot:title={'center':'Parch'}>]], dtype=object)"
      ]
     },
     "execution_count": 19,
     "metadata": {},
     "output_type": "execute_result"
    },
    {
     "data": {
      "image/png": "[encoded data removed]",
      "text/plain": [
       "<Figure size 432x288 with 1 Axes>"
      ]
     },
     "metadata": {
      "needs_background": "light"
     },
     "output_type": "display_data"
    }
   ],
   "source": [
    "df.hist(\"Parch\",color='skyblue',bins=15)"
   ]
  },
  {
   "cell_type": "code",
   "execution_count": 20,
   "id": "baedcb3e",
   "metadata": {},
   "outputs": [
    {
     "data": {
      "text/plain": [
       "<AxesSubplot:>"
      ]
     },
     "execution_count": 20,
     "metadata": {},
     "output_type": "execute_result"
    },
    {
     "data": {
      "image/png": "[encoded data removed]",
      "text/plain": [
       "<Figure size 432x288 with 1 Axes>"
      ]
     },
     "metadata": {
      "needs_background": "light"
     },
     "output_type": "display_data"
    }
   ],
   "source": [
    "df[\"Sex\"].value_counts().plot(kind='bar',color='yellowgreen')"
   ]
  },
  {
   "cell_type": "code",
   "execution_count": 21,
   "id": "12742430",
   "metadata": {
    "scrolled": true
   },
   "outputs": [
    {
     "data": {
      "text/plain": [
       "(array([0, 1, 2]), [Text(0, 0, '1'), Text(1, 0, '2'), Text(2, 0, '3')])"
      ]
     },
     "execution_count": 21,
     "metadata": {},
     "output_type": "execute_result"
    },
    {
     "data": {
      "image/png": "[encoded data removed]",
      "text/plain": [
       "<Figure size 432x288 with 1 Axes>"
      ]
     },
     "metadata": {
      "needs_background": "light"
     },
     "output_type": "display_data"
    }
   ],
   "source": [
    "df.groupby([\"Pclass\"])['Fare'].sum().plot(kind='bar',color='plum')\n",
    "plt.xticks(rotation=0)"
   ]
  },
  {
   "cell_type": "markdown",
   "id": "436a662c",
   "metadata": {},
   "source": [
    "#### Pie Chart of Passenger Class Value Count"
   ]
  },
  {
   "cell_type": "code",
   "execution_count": 22,
   "id": "ffcfa98c",
   "metadata": {},
   "outputs": [
    {
     "data": {
      "text/plain": [
       "<AxesSubplot:ylabel='Pclass'>"
      ]
     },
     "execution_count": 22,
     "metadata": {},
     "output_type": "execute_result"
    },
    {
     "data": {
      "image/png": "[encoded data removed]",
      "text/plain": [
       "<Figure size 432x288 with 1 Axes>"
      ]
     },
     "metadata": {},
     "output_type": "display_data"
    }
   ],
   "source": [
    "df['Pclass'].value_counts().plot(kind='pie',cmap='summer',wedgeprops=dict(width=0.3)\n",
    "                                 ,autopct='%3.1f%%',shadow=True,explode=[0.01,0.01,0.01])"
   ]
  },
  {
   "cell_type": "markdown",
   "id": "a82d382b",
   "metadata": {},
   "source": [
    "#### Encoding Data with LableEncoder"
   ]
  },
  {
   "cell_type": "markdown",
   "id": "6d520a64",
   "metadata": {},
   "source": [
    "### LabelEncoder"
   ]
  },
  {
   "cell_type": "code",
   "execution_count": 23,
   "id": "7dbd73d1",
   "metadata": {},
   "outputs": [],
   "source": [
    "labelencoder=LabelEncoder()"
   ]
  },
  {
   "cell_type": "code",
   "execution_count": 24,
   "id": "6149cfc8",
   "metadata": {},
   "outputs": [],
   "source": [
    "df[[\"Sex\",\"Embarked\"]]=df[[\"Sex\",\"Embarked\"]].apply(labelencoder.fit_transform)"
   ]
  },
  {
   "cell_type": "code",
   "execution_count": 25,
   "id": "fc10cc49",
   "metadata": {
    "scrolled": false
   },
   "outputs": [
    {
     "data": {
      "text/html": [
       "<div>\n",
       "<style scoped>\n",
       "    .dataframe tbody tr th:only-of-type {\n",
       "        vertical-align: middle;\n",
       "    }\n",
       "\n",
       "    .dataframe tbody tr th {\n",
       "        vertical-align: top;\n",
       "    }\n",
       "\n",
       "    .dataframe thead th {\n",
       "        text-align: right;\n",
       "    }\n",
       "</style>\n",
       "<table border=\"1\" class=\"dataframe\">\n",
       "  <thead>\n",
       "    <tr style=\"text-align: right;\">\n",
       "      <th></th>\n",
       "      <th>PassengerId</th>\n",
       "      <th>Survived</th>\n",
       "      <th>Pclass</th>\n",
       "      <th>Sex</th>\n",
       "      <th>Age</th>\n",
       "      <th>SibSp</th>\n",
       "      <th>Parch</th>\n",
       "      <th>Fare</th>\n",
       "      <th>Embarked</th>\n",
       "    </tr>\n",
       "  </thead>\n",
       "  <tbody>\n",
       "    <tr>\n",
       "      <th>0</th>\n",
       "      <td>1</td>\n",
       "      <td>0</td>\n",
       "      <td>3</td>\n",
       "      <td>1</td>\n",
       "      <td>22.0</td>\n",
       "      <td>1</td>\n",
       "      <td>0</td>\n",
       "      <td>7.2500</td>\n",
       "      <td>2</td>\n",
       "    </tr>\n",
       "    <tr>\n",
       "      <th>1</th>\n",
       "      <td>2</td>\n",
       "      <td>1</td>\n",
       "      <td>1</td>\n",
       "      <td>0</td>\n",
       "      <td>38.0</td>\n",
       "      <td>1</td>\n",
       "      <td>0</td>\n",
       "      <td>71.2833</td>\n",
       "      <td>0</td>\n",
       "    </tr>\n",
       "    <tr>\n",
       "      <th>2</th>\n",
       "      <td>3</td>\n",
       "      <td>1</td>\n",
       "      <td>3</td>\n",
       "      <td>0</td>\n",
       "      <td>26.0</td>\n",
       "      <td>0</td>\n",
       "      <td>0</td>\n",
       "      <td>7.9250</td>\n",
       "      <td>2</td>\n",
       "    </tr>\n",
       "    <tr>\n",
       "      <th>3</th>\n",
       "      <td>4</td>\n",
       "      <td>1</td>\n",
       "      <td>1</td>\n",
       "      <td>0</td>\n",
       "      <td>35.0</td>\n",
       "      <td>1</td>\n",
       "      <td>0</td>\n",
       "      <td>53.1000</td>\n",
       "      <td>2</td>\n",
       "    </tr>\n",
       "    <tr>\n",
       "      <th>4</th>\n",
       "      <td>5</td>\n",
       "      <td>0</td>\n",
       "      <td>3</td>\n",
       "      <td>1</td>\n",
       "      <td>35.0</td>\n",
       "      <td>0</td>\n",
       "      <td>0</td>\n",
       "      <td>8.0500</td>\n",
       "      <td>2</td>\n",
       "    </tr>\n",
       "  </tbody>\n",
       "</table>\n",
       "</div>"
      ],
      "text/plain": [
       "   PassengerId  Survived  Pclass  Sex   Age  SibSp  Parch     Fare  Embarked\n",
       "0            1         0       3    1  22.0      1      0   7.2500         2\n",
       "1            2         1       1    0  38.0      1      0  71.2833         0\n",
       "2            3         1       3    0  26.0      0      0   7.9250         2\n",
       "3            4         1       1    0  35.0      1      0  53.1000         2\n",
       "4            5         0       3    1  35.0      0      0   8.0500         2"
      ]
     },
     "execution_count": 25,
     "metadata": {},
     "output_type": "execute_result"
    }
   ],
   "source": [
    "df.head()"
   ]
  },
  {
   "cell_type": "markdown",
   "id": "17a06ed1",
   "metadata": {},
   "source": [
    "#### Defining Model for Features and Target"
   ]
  },
  {
   "cell_type": "code",
   "execution_count": 26,
   "id": "a6293b6e",
   "metadata": {},
   "outputs": [],
   "source": [
    "features=df.drop([\"Survived\"],axis=1)"
   ]
  },
  {
   "cell_type": "code",
   "execution_count": 27,
   "id": "26fadba3",
   "metadata": {},
   "outputs": [],
   "source": [
    "target=df[\"Survived\"]"
   ]
  },
  {
   "cell_type": "markdown",
   "id": "f1bd5424",
   "metadata": {},
   "source": [
    "#### Splitting Data for Training and Testing"
   ]
  },
  {
   "cell_type": "code",
   "execution_count": 28,
   "id": "52848518",
   "metadata": {},
   "outputs": [],
   "source": [
    "features_train, features_test, target_train, target_test = train_test_split(features,target, test_size=0.2,random_state=4)"
   ]
  },
  {
   "cell_type": "markdown",
   "id": "1fcf6e9c",
   "metadata": {},
   "source": [
    "### Without Scaling"
   ]
  },
  {
   "cell_type": "markdown",
   "id": "6a64ad28",
   "metadata": {},
   "source": [
    "## Model Logistic Regression"
   ]
  },
  {
   "cell_type": "code",
   "execution_count": 29,
   "id": "33965806",
   "metadata": {},
   "outputs": [],
   "source": [
    "model=LogisticRegression(C=500)"
   ]
  },
  {
   "cell_type": "code",
   "execution_count": 30,
   "id": "5f01abdc",
   "metadata": {},
   "outputs": [
    {
     "data": {
      "text/plain": [
       "LogisticRegression(C=500)"
      ]
     },
     "execution_count": 30,
     "metadata": {},
     "output_type": "execute_result"
    }
   ],
   "source": [
    "model.fit(features_train,target_train)"
   ]
  },
  {
   "cell_type": "code",
   "execution_count": 31,
   "id": "5e510023",
   "metadata": {},
   "outputs": [],
   "source": [
    "prediction_survival=model.predict(features_test)"
   ]
  },
  {
   "cell_type": "markdown",
   "id": "6192ade1",
   "metadata": {},
   "source": [
    "#### Checking Accuracy ,Recall ,Precision ,F1 Score And Confusion Matrix of Model"
   ]
  },
  {
   "cell_type": "code",
   "execution_count": 32,
   "id": "40d3aca1",
   "metadata": {},
   "outputs": [
    {
     "name": "stdout",
     "output_type": "stream",
     "text": [
      "Training Accuracy of Model is 0.7794943820224719\n"
     ]
    }
   ],
   "source": [
    "print(\"Training Accuracy of Model is\",model.score(features_train,target_train))"
   ]
  },
  {
   "cell_type": "code",
   "execution_count": 33,
   "id": "1e6c4229",
   "metadata": {},
   "outputs": [
    {
     "name": "stdout",
     "output_type": "stream",
     "text": [
      "Testing Accuracy of Model is 0.8212290502793296\n"
     ]
    }
   ],
   "source": [
    "print(\"Testing Accuracy of Model is\",model.score(features_test,target_test))"
   ]
  },
  {
   "cell_type": "code",
   "execution_count": 34,
   "id": "d8ab661c",
   "metadata": {},
   "outputs": [
    {
     "name": "stdout",
     "output_type": "stream",
     "text": [
      "[[108  11]\n",
      " [ 21  39]]\n"
     ]
    },
    {
     "data": {
      "text/plain": [
       "<AxesSubplot:>"
      ]
     },
     "execution_count": 34,
     "metadata": {},
     "output_type": "execute_result"
    },
    {
     "data": {
      "image/png": "[encoded data removed]",
      "text/plain": [
       "<Figure size 432x288 with 2 Axes>"
      ]
     },
     "metadata": {
      "needs_background": "light"
     },
     "output_type": "display_data"
    }
   ],
   "source": [
    "cm=confusion_matrix(target_test,prediction_survival)\n",
    "print(cm)\n",
    "sns.heatmap(cm,annot=True,fmt='d')"
   ]
  },
  {
   "cell_type": "code",
   "execution_count": 35,
   "id": "19bb8a39",
   "metadata": {},
   "outputs": [
    {
     "name": "stdout",
     "output_type": "stream",
     "text": [
      "Recall Score of Model is 0.65\n"
     ]
    }
   ],
   "source": [
    "print(\"Recall Score of Model is\",recall_score(target_test,prediction_survival))"
   ]
  },
  {
   "cell_type": "code",
   "execution_count": 36,
   "id": "97408ef3",
   "metadata": {},
   "outputs": [
    {
     "name": "stdout",
     "output_type": "stream",
     "text": [
      "Precision Score of Model is 0.78\n"
     ]
    }
   ],
   "source": [
    "print(\"Precision Score of Model is\",precision_score(target_test,prediction_survival))"
   ]
  },
  {
   "cell_type": "code",
   "execution_count": 37,
   "id": "be2a5c91",
   "metadata": {},
   "outputs": [
    {
     "name": "stdout",
     "output_type": "stream",
     "text": [
      "F1 Score of Model is 0.709090909090909\n"
     ]
    }
   ],
   "source": [
    "print(\"F1 Score of Model is\",f1_score(target_test,prediction_survival))"
   ]
  },
  {
   "cell_type": "code",
   "execution_count": 38,
   "id": "982a8669",
   "metadata": {},
   "outputs": [
    {
     "name": "stdout",
     "output_type": "stream",
     "text": [
      "              precision    recall  f1-score   support\n",
      "\n",
      "           0       0.84      0.91      0.87       119\n",
      "           1       0.78      0.65      0.71        60\n",
      "\n",
      "    accuracy                           0.82       179\n",
      "   macro avg       0.81      0.78      0.79       179\n",
      "weighted avg       0.82      0.82      0.82       179\n",
      "\n"
     ]
    }
   ],
   "source": [
    "print(classification_report(target_test,prediction_survival))"
   ]
  },
  {
   "cell_type": "markdown",
   "id": "30e442f5",
   "metadata": {},
   "source": [
    "## We can Apply All the algorithm "
   ]
  },
  {
   "cell_type": "code",
   "execution_count": 39,
   "id": "a5cb63fa",
   "metadata": {},
   "outputs": [],
   "source": [
    "from sklearn.linear_model import LogisticRegression,SGDClassifier\n",
    "from sklearn.tree import DecisionTreeClassifier\n",
    "from sklearn.ensemble import RandomForestClassifier, GradientBoostingClassifier,AdaBoostClassifier\n",
    "from sklearn.neighbors import KNeighborsClassifier\n",
    "from sklearn.svm import SVC\n",
    "from sklearn.naive_bayes import GaussianNB\n",
    "from sklearn.discriminant_analysis import LinearDiscriminantAnalysis, QuadraticDiscriminantAnalysis"
   ]
  },
  {
   "cell_type": "code",
   "execution_count": 40,
   "id": "801a5e96",
   "metadata": {},
   "outputs": [],
   "source": [
    "models={'lr':LogisticRegression(),\n",
    "        'sg':SGDClassifier(),\n",
    "        'tree':DecisionTreeClassifier(),\n",
    "        'rf':RandomForestClassifier(),\n",
    "        'gb':GradientBoostingClassifier(),\n",
    "        'knn':KNeighborsClassifier(),\n",
    "        'svm':SVC(),\n",
    "        'ad':AdaBoostClassifier(),\n",
    "        'nb':GaussianNB(),\n",
    "        'lda':LinearDiscriminantAnalysis(),\n",
    "        'qda':QuadraticDiscriminantAnalysis()\n",
    "       }"
   ]
  },
  {
   "cell_type": "code",
   "execution_count": 41,
   "id": "4dd522a6",
   "metadata": {
    "scrolled": true
   },
   "outputs": [
    {
     "name": "stdout",
     "output_type": "stream",
     "text": [
      "lr confuion matrix: \n",
      " [[107  12]\n",
      " [ 19  41]]\n",
      "lr accuracy score: 0.8268156424581006\n",
      "lr precision score: 0.7735849056603774\n",
      "lr recall score: 0.6833333333333333\n",
      "lr classification report :\n",
      "               precision    recall  f1-score   support\n",
      "\n",
      "           0       0.85      0.90      0.87       119\n",
      "           1       0.77      0.68      0.73        60\n",
      "\n",
      "    accuracy                           0.83       179\n",
      "   macro avg       0.81      0.79      0.80       179\n",
      "weighted avg       0.82      0.83      0.82       179\n",
      "\n",
      "\n",
      "sg confuion matrix: \n",
      " [[106  13]\n",
      " [ 49  11]]\n",
      "sg accuracy score: 0.6536312849162011\n",
      "sg precision score: 0.4583333333333333\n",
      "sg recall score: 0.18333333333333332\n",
      "sg classification report :\n",
      "               precision    recall  f1-score   support\n",
      "\n",
      "           0       0.68      0.89      0.77       119\n",
      "           1       0.46      0.18      0.26        60\n",
      "\n",
      "    accuracy                           0.65       179\n",
      "   macro avg       0.57      0.54      0.52       179\n",
      "weighted avg       0.61      0.65      0.60       179\n",
      "\n",
      "\n",
      "tree confuion matrix: \n",
      " [[102  17]\n",
      " [ 17  43]]\n",
      "tree accuracy score: 0.8100558659217877\n",
      "tree precision score: 0.7166666666666667\n",
      "tree recall score: 0.7166666666666667\n",
      "tree classification report :\n",
      "               precision    recall  f1-score   support\n",
      "\n",
      "           0       0.86      0.86      0.86       119\n",
      "           1       0.72      0.72      0.72        60\n",
      "\n",
      "    accuracy                           0.81       179\n",
      "   macro avg       0.79      0.79      0.79       179\n",
      "weighted avg       0.81      0.81      0.81       179\n",
      "\n",
      "\n",
      "rf confuion matrix: \n",
      " [[111   8]\n",
      " [ 19  41]]\n",
      "rf accuracy score: 0.8491620111731844\n",
      "rf precision score: 0.8367346938775511\n",
      "rf recall score: 0.6833333333333333\n",
      "rf classification report :\n",
      "               precision    recall  f1-score   support\n",
      "\n",
      "           0       0.85      0.93      0.89       119\n",
      "           1       0.84      0.68      0.75        60\n",
      "\n",
      "    accuracy                           0.85       179\n",
      "   macro avg       0.85      0.81      0.82       179\n",
      "weighted avg       0.85      0.85      0.84       179\n",
      "\n",
      "\n",
      "gb confuion matrix: \n",
      " [[109  10]\n",
      " [ 17  43]]\n",
      "gb accuracy score: 0.8491620111731844\n",
      "gb precision score: 0.8113207547169812\n",
      "gb recall score: 0.7166666666666667\n",
      "gb classification report :\n",
      "               precision    recall  f1-score   support\n",
      "\n",
      "           0       0.87      0.92      0.89       119\n",
      "           1       0.81      0.72      0.76        60\n",
      "\n",
      "    accuracy                           0.85       179\n",
      "   macro avg       0.84      0.82      0.83       179\n",
      "weighted avg       0.85      0.85      0.85       179\n",
      "\n",
      "\n",
      "knn confuion matrix: \n",
      " [[98 21]\n",
      " [36 24]]\n",
      "knn accuracy score: 0.6815642458100558\n",
      "knn precision score: 0.5333333333333333\n",
      "knn recall score: 0.4\n",
      "knn classification report :\n",
      "               precision    recall  f1-score   support\n",
      "\n",
      "           0       0.73      0.82      0.77       119\n",
      "           1       0.53      0.40      0.46        60\n",
      "\n",
      "    accuracy                           0.68       179\n",
      "   macro avg       0.63      0.61      0.62       179\n",
      "weighted avg       0.66      0.68      0.67       179\n",
      "\n",
      "\n",
      "svm confuion matrix: \n",
      " [[118   1]\n",
      " [ 53   7]]\n",
      "svm accuracy score: 0.6983240223463687\n",
      "svm precision score: 0.875\n",
      "svm recall score: 0.11666666666666667\n",
      "svm classification report :\n",
      "               precision    recall  f1-score   support\n",
      "\n",
      "           0       0.69      0.99      0.81       119\n",
      "           1       0.88      0.12      0.21        60\n",
      "\n",
      "    accuracy                           0.70       179\n",
      "   macro avg       0.78      0.55      0.51       179\n",
      "weighted avg       0.75      0.70      0.61       179\n",
      "\n",
      "\n",
      "ad confuion matrix: \n",
      " [[101  18]\n",
      " [ 17  43]]\n",
      "ad accuracy score: 0.8044692737430168\n",
      "ad precision score: 0.7049180327868853\n",
      "ad recall score: 0.7166666666666667\n",
      "ad classification report :\n",
      "               precision    recall  f1-score   support\n",
      "\n",
      "           0       0.86      0.85      0.85       119\n",
      "           1       0.70      0.72      0.71        60\n",
      "\n",
      "    accuracy                           0.80       179\n",
      "   macro avg       0.78      0.78      0.78       179\n",
      "weighted avg       0.81      0.80      0.80       179\n",
      "\n",
      "\n",
      "nb confuion matrix: \n",
      " [[104  15]\n",
      " [ 17  43]]\n",
      "nb accuracy score: 0.8212290502793296\n",
      "nb precision score: 0.7413793103448276\n",
      "nb recall score: 0.7166666666666667\n",
      "nb classification report :\n",
      "               precision    recall  f1-score   support\n",
      "\n",
      "           0       0.86      0.87      0.87       119\n",
      "           1       0.74      0.72      0.73        60\n",
      "\n",
      "    accuracy                           0.82       179\n",
      "   macro avg       0.80      0.80      0.80       179\n",
      "weighted avg       0.82      0.82      0.82       179\n",
      "\n",
      "\n",
      "lda confuion matrix: \n",
      " [[108  11]\n",
      " [ 19  41]]\n",
      "lda accuracy score: 0.8324022346368715\n",
      "lda precision score: 0.7884615384615384\n",
      "lda recall score: 0.6833333333333333\n",
      "lda classification report :\n",
      "               precision    recall  f1-score   support\n",
      "\n",
      "           0       0.85      0.91      0.88       119\n",
      "           1       0.79      0.68      0.73        60\n",
      "\n",
      "    accuracy                           0.83       179\n",
      "   macro avg       0.82      0.80      0.81       179\n",
      "weighted avg       0.83      0.83      0.83       179\n",
      "\n",
      "\n",
      "qda confuion matrix: \n",
      " [[111   8]\n",
      " [ 18  42]]\n",
      "qda accuracy score: 0.8547486033519553\n",
      "qda precision score: 0.84\n",
      "qda recall score: 0.7\n",
      "qda classification report :\n",
      "               precision    recall  f1-score   support\n",
      "\n",
      "           0       0.86      0.93      0.90       119\n",
      "           1       0.84      0.70      0.76        60\n",
      "\n",
      "    accuracy                           0.85       179\n",
      "   macro avg       0.85      0.82      0.83       179\n",
      "weighted avg       0.85      0.85      0.85       179\n",
      "\n",
      "\n"
     ]
    }
   ],
   "source": [
    "for name, model in models.items():\n",
    "    model1=model.fit(features_train,target_train)\n",
    "    y_pred = model1.predict(features_test)\n",
    "    print(f\"{name} confuion matrix: \\n {confusion_matrix(target_test,y_pred)}\") \n",
    "    print(f'{name} accuracy score: {model1.score(features_test,target_test)}')\n",
    "    print(f'{name} precision score: {precision_score(target_test,y_pred)}')\n",
    "    print(f'{name} recall score: {recall_score(target_test,y_pred)}')\n",
    "    print(f'{name} classification report :\\n {classification_report(target_test,y_pred)}\\n')"
   ]
  },
  {
   "cell_type": "markdown",
   "id": "c4ce6071",
   "metadata": {},
   "source": [
    "## Scaling"
   ]
  },
  {
   "cell_type": "code",
   "execution_count": 42,
   "id": "6ae31184",
   "metadata": {},
   "outputs": [
    {
     "data": {
      "text/plain": [
       "Index(['PassengerId', 'Pclass', 'Sex', 'Age', 'SibSp', 'Parch', 'Fare',\n",
       "       'Embarked'],\n",
       "      dtype='object')"
      ]
     },
     "execution_count": 42,
     "metadata": {},
     "output_type": "execute_result"
    }
   ],
   "source": [
    "col=features_train.columns\n",
    "col"
   ]
  },
  {
   "cell_type": "markdown",
   "id": "bc3c27e0",
   "metadata": {},
   "source": [
    "### RobustScaler"
   ]
  },
  {
   "cell_type": "code",
   "execution_count": 43,
   "id": "da7d7303",
   "metadata": {},
   "outputs": [],
   "source": [
    "rob_scaler=RobustScaler()"
   ]
  },
  {
   "cell_type": "code",
   "execution_count": 44,
   "id": "51164c33",
   "metadata": {},
   "outputs": [],
   "source": [
    "features=rob_scaler.fit_transform(features)"
   ]
  },
  {
   "cell_type": "code",
   "execution_count": 45,
   "id": "7e450232",
   "metadata": {},
   "outputs": [],
   "source": [
    "features=pd.DataFrame(features,columns=col)"
   ]
  },
  {
   "cell_type": "markdown",
   "id": "04465418",
   "metadata": {},
   "source": [
    "### Splitting After Scaling"
   ]
  },
  {
   "cell_type": "code",
   "execution_count": 46,
   "id": "d7c9821f",
   "metadata": {},
   "outputs": [],
   "source": [
    "features_train, features_test, target_train, target_test = train_test_split(features,target, test_size=0.2,random_state=4)"
   ]
  },
  {
   "cell_type": "markdown",
   "id": "e8895cc9",
   "metadata": {},
   "source": [
    "### Model - LogisticRegression"
   ]
  },
  {
   "cell_type": "code",
   "execution_count": 47,
   "id": "424377ae",
   "metadata": {},
   "outputs": [],
   "source": [
    "model=LogisticRegression(C=500)"
   ]
  },
  {
   "cell_type": "code",
   "execution_count": 48,
   "id": "be485f5a",
   "metadata": {},
   "outputs": [
    {
     "data": {
      "text/plain": [
       "LogisticRegression(C=500)"
      ]
     },
     "execution_count": 48,
     "metadata": {},
     "output_type": "execute_result"
    }
   ],
   "source": [
    "model.fit(features_train,target_train)"
   ]
  },
  {
   "cell_type": "code",
   "execution_count": 49,
   "id": "b989b1d4",
   "metadata": {},
   "outputs": [],
   "source": [
    "prediction_survival=model.predict(features_test)"
   ]
  },
  {
   "cell_type": "markdown",
   "id": "c11766e6",
   "metadata": {},
   "source": [
    "#### Checking Accuracy ,Recall ,Precision ,F1 Score And Confusion Matrix of Model"
   ]
  },
  {
   "cell_type": "code",
   "execution_count": 50,
   "id": "7450fd7a",
   "metadata": {},
   "outputs": [
    {
     "name": "stdout",
     "output_type": "stream",
     "text": [
      "Training Accuracy of Model is 0.7921348314606742\n"
     ]
    }
   ],
   "source": [
    "print(\"Training Accuracy of Model is\",model.score(features_train,target_train))"
   ]
  },
  {
   "cell_type": "code",
   "execution_count": 51,
   "id": "042dacd7",
   "metadata": {},
   "outputs": [
    {
     "name": "stdout",
     "output_type": "stream",
     "text": [
      "Testing Accuracy of Model is 0.8379888268156425\n"
     ]
    }
   ],
   "source": [
    "print(\"Testing Accuracy of Model is\",model.score(features_test,target_test))"
   ]
  },
  {
   "cell_type": "code",
   "execution_count": 52,
   "id": "bdc76fd8",
   "metadata": {},
   "outputs": [
    {
     "name": "stdout",
     "output_type": "stream",
     "text": [
      "[[108  11]\n",
      " [ 18  42]]\n"
     ]
    },
    {
     "data": {
      "text/plain": [
       "<AxesSubplot:>"
      ]
     },
     "execution_count": 52,
     "metadata": {},
     "output_type": "execute_result"
    },
    {
     "data": {
      "image/png": "[encoded data removed]",
      "text/plain": [
       "<Figure size 432x288 with 2 Axes>"
      ]
     },
     "metadata": {
      "needs_background": "light"
     },
     "output_type": "display_data"
    }
   ],
   "source": [
    "cm=confusion_matrix(target_test,prediction_survival)\n",
    "print(cm)\n",
    "sns.heatmap(cm,annot=True,fmt='d')"
   ]
  },
  {
   "cell_type": "code",
   "execution_count": 53,
   "id": "56a1a4a6",
   "metadata": {},
   "outputs": [
    {
     "name": "stdout",
     "output_type": "stream",
     "text": [
      "Recall Score of Model is 0.7\n"
     ]
    }
   ],
   "source": [
    "print(\"Recall Score of Model is\",recall_score(target_test,prediction_survival))"
   ]
  },
  {
   "cell_type": "code",
   "execution_count": 54,
   "id": "c0e12493",
   "metadata": {},
   "outputs": [
    {
     "name": "stdout",
     "output_type": "stream",
     "text": [
      "Precision Score of Model is 0.7924528301886793\n"
     ]
    }
   ],
   "source": [
    "print(\"Precision Score of Model is\",precision_score(target_test,prediction_survival))"
   ]
  },
  {
   "cell_type": "code",
   "execution_count": 55,
   "id": "3274eac6",
   "metadata": {},
   "outputs": [
    {
     "name": "stdout",
     "output_type": "stream",
     "text": [
      "F1 Score of Model is 0.743362831858407\n"
     ]
    }
   ],
   "source": [
    "print(\"F1 Score of Model is\",f1_score(target_test,prediction_survival))"
   ]
  },
  {
   "cell_type": "code",
   "execution_count": 56,
   "id": "2521f626",
   "metadata": {},
   "outputs": [
    {
     "name": "stdout",
     "output_type": "stream",
     "text": [
      "              precision    recall  f1-score   support\n",
      "\n",
      "           0       0.86      0.91      0.88       119\n",
      "           1       0.79      0.70      0.74        60\n",
      "\n",
      "    accuracy                           0.84       179\n",
      "   macro avg       0.82      0.80      0.81       179\n",
      "weighted avg       0.84      0.84      0.84       179\n",
      "\n"
     ]
    }
   ],
   "source": [
    "print(classification_report(target_test,prediction_survival))"
   ]
  },
  {
   "cell_type": "markdown",
   "id": "f8b3e76f",
   "metadata": {},
   "source": [
    "## We can Apply All the algorithm "
   ]
  },
  {
   "cell_type": "code",
   "execution_count": 60,
   "id": "e7c74ebf",
   "metadata": {},
   "outputs": [],
   "source": [
    "from sklearn.linear_model import LogisticRegression,SGDClassifier\n",
    "from sklearn.tree import DecisionTreeClassifier\n",
    "from sklearn.ensemble import RandomForestClassifier, GradientBoostingClassifier,AdaBoostClassifier\n",
    "from sklearn.neighbors import KNeighborsClassifier\n",
    "from sklearn.svm import SVC\n",
    "from sklearn.naive_bayes import GaussianNB\n",
    "from sklearn.discriminant_analysis import LinearDiscriminantAnalysis, QuadraticDiscriminantAnalysis\n",
    "from xgboost import XGBRFClassifier"
   ]
  },
  {
   "cell_type": "code",
   "execution_count": 61,
   "id": "f47548af",
   "metadata": {},
   "outputs": [],
   "source": [
    "models={'lr':LogisticRegression(),\n",
    "        'sg':SGDClassifier(),\n",
    "        'tree':DecisionTreeClassifier(),\n",
    "        'rf':RandomForestClassifier(),\n",
    "        'gb':GradientBoostingClassifier(),\n",
    "        'knn':KNeighborsClassifier(),\n",
    "        'svm':SVC(),\n",
    "        'ad':AdaBoostClassifier(),\n",
    "        'nb':GaussianNB(),\n",
    "        'lda':LinearDiscriminantAnalysis(),\n",
    "        'qda':QuadraticDiscriminantAnalysis(),\n",
    "        'xgb':XGBRFClassifier()\n",
    "       }"
   ]
  },
  {
   "cell_type": "code",
   "execution_count": 62,
   "id": "0d2b0387",
   "metadata": {
    "scrolled": false
   },
   "outputs": [
    {
     "name": "stdout",
     "output_type": "stream",
     "text": [
      "lr confuion matrix: \n",
      " [[109  10]\n",
      " [ 20  40]]\n",
      "lr accuracy score: 0.8324022346368715\n",
      "lr precision score: 0.8\n",
      "lr recall score: 0.6666666666666666\n",
      "lr classification report :\n",
      "               precision    recall  f1-score   support\n",
      "\n",
      "           0       0.84      0.92      0.88       119\n",
      "           1       0.80      0.67      0.73        60\n",
      "\n",
      "    accuracy                           0.83       179\n",
      "   macro avg       0.82      0.79      0.80       179\n",
      "weighted avg       0.83      0.83      0.83       179\n",
      "\n",
      "\n",
      "sg confuion matrix: \n",
      " [[86 33]\n",
      " [11 49]]\n",
      "sg accuracy score: 0.7541899441340782\n",
      "sg precision score: 0.5975609756097561\n",
      "sg recall score: 0.8166666666666667\n",
      "sg classification report :\n",
      "               precision    recall  f1-score   support\n",
      "\n",
      "           0       0.89      0.72      0.80       119\n",
      "           1       0.60      0.82      0.69        60\n",
      "\n",
      "    accuracy                           0.75       179\n",
      "   macro avg       0.74      0.77      0.74       179\n",
      "weighted avg       0.79      0.75      0.76       179\n",
      "\n",
      "\n",
      "tree confuion matrix: \n",
      " [[101  18]\n",
      " [ 18  42]]\n",
      "tree accuracy score: 0.7988826815642458\n",
      "tree precision score: 0.7\n",
      "tree recall score: 0.7\n",
      "tree classification report :\n",
      "               precision    recall  f1-score   support\n",
      "\n",
      "           0       0.85      0.85      0.85       119\n",
      "           1       0.70      0.70      0.70        60\n",
      "\n",
      "    accuracy                           0.80       179\n",
      "   macro avg       0.77      0.77      0.77       179\n",
      "weighted avg       0.80      0.80      0.80       179\n",
      "\n",
      "\n",
      "rf confuion matrix: \n",
      " [[110   9]\n",
      " [ 18  42]]\n",
      "rf accuracy score: 0.8491620111731844\n",
      "rf precision score: 0.8235294117647058\n",
      "rf recall score: 0.7\n",
      "rf classification report :\n",
      "               precision    recall  f1-score   support\n",
      "\n",
      "           0       0.86      0.92      0.89       119\n",
      "           1       0.82      0.70      0.76        60\n",
      "\n",
      "    accuracy                           0.85       179\n",
      "   macro avg       0.84      0.81      0.82       179\n",
      "weighted avg       0.85      0.85      0.85       179\n",
      "\n",
      "\n",
      "gb confuion matrix: \n",
      " [[109  10]\n",
      " [ 18  42]]\n",
      "gb accuracy score: 0.8435754189944135\n",
      "gb precision score: 0.8076923076923077\n",
      "gb recall score: 0.7\n",
      "gb classification report :\n",
      "               precision    recall  f1-score   support\n",
      "\n",
      "           0       0.86      0.92      0.89       119\n",
      "           1       0.81      0.70      0.75        60\n",
      "\n",
      "    accuracy                           0.84       179\n",
      "   macro avg       0.83      0.81      0.82       179\n",
      "weighted avg       0.84      0.84      0.84       179\n",
      "\n",
      "\n",
      "knn confuion matrix: \n",
      " [[107  12]\n",
      " [ 22  38]]\n",
      "knn accuracy score: 0.8100558659217877\n",
      "knn precision score: 0.76\n",
      "knn recall score: 0.6333333333333333\n",
      "knn classification report :\n",
      "               precision    recall  f1-score   support\n",
      "\n",
      "           0       0.83      0.90      0.86       119\n",
      "           1       0.76      0.63      0.69        60\n",
      "\n",
      "    accuracy                           0.81       179\n",
      "   macro avg       0.79      0.77      0.78       179\n",
      "weighted avg       0.81      0.81      0.81       179\n",
      "\n",
      "\n",
      "svm confuion matrix: \n",
      " [[108  11]\n",
      " [ 18  42]]\n",
      "svm accuracy score: 0.8379888268156425\n",
      "svm precision score: 0.7924528301886793\n",
      "svm recall score: 0.7\n",
      "svm classification report :\n",
      "               precision    recall  f1-score   support\n",
      "\n",
      "           0       0.86      0.91      0.88       119\n",
      "           1       0.79      0.70      0.74        60\n",
      "\n",
      "    accuracy                           0.84       179\n",
      "   macro avg       0.82      0.80      0.81       179\n",
      "weighted avg       0.84      0.84      0.84       179\n",
      "\n",
      "\n",
      "ad confuion matrix: \n",
      " [[101  18]\n",
      " [ 17  43]]\n",
      "ad accuracy score: 0.8044692737430168\n",
      "ad precision score: 0.7049180327868853\n",
      "ad recall score: 0.7166666666666667\n",
      "ad classification report :\n",
      "               precision    recall  f1-score   support\n",
      "\n",
      "           0       0.86      0.85      0.85       119\n",
      "           1       0.70      0.72      0.71        60\n",
      "\n",
      "    accuracy                           0.80       179\n",
      "   macro avg       0.78      0.78      0.78       179\n",
      "weighted avg       0.81      0.80      0.80       179\n",
      "\n",
      "\n",
      "nb confuion matrix: \n",
      " [[104  15]\n",
      " [ 17  43]]\n",
      "nb accuracy score: 0.8212290502793296\n",
      "nb precision score: 0.7413793103448276\n",
      "nb recall score: 0.7166666666666667\n",
      "nb classification report :\n",
      "               precision    recall  f1-score   support\n",
      "\n",
      "           0       0.86      0.87      0.87       119\n",
      "           1       0.74      0.72      0.73        60\n",
      "\n",
      "    accuracy                           0.82       179\n",
      "   macro avg       0.80      0.80      0.80       179\n",
      "weighted avg       0.82      0.82      0.82       179\n",
      "\n",
      "\n",
      "lda confuion matrix: \n",
      " [[108  11]\n",
      " [ 19  41]]\n",
      "lda accuracy score: 0.8324022346368715\n",
      "lda precision score: 0.7884615384615384\n",
      "lda recall score: 0.6833333333333333\n",
      "lda classification report :\n",
      "               precision    recall  f1-score   support\n",
      "\n",
      "           0       0.85      0.91      0.88       119\n",
      "           1       0.79      0.68      0.73        60\n",
      "\n",
      "    accuracy                           0.83       179\n",
      "   macro avg       0.82      0.80      0.81       179\n",
      "weighted avg       0.83      0.83      0.83       179\n",
      "\n",
      "\n",
      "qda confuion matrix: \n",
      " [[111   8]\n",
      " [ 18  42]]\n",
      "qda accuracy score: 0.8547486033519553\n",
      "qda precision score: 0.84\n",
      "qda recall score: 0.7\n",
      "qda classification report :\n",
      "               precision    recall  f1-score   support\n",
      "\n",
      "           0       0.86      0.93      0.90       119\n",
      "           1       0.84      0.70      0.76        60\n",
      "\n",
      "    accuracy                           0.85       179\n",
      "   macro avg       0.85      0.82      0.83       179\n",
      "weighted avg       0.85      0.85      0.85       179\n",
      "\n",
      "\n",
      "[10:18:41] WARNING: C:/Users/Administrator/workspace/xgboost-win64_release_1.5.1/src/learner.cc:1115: Starting in XGBoost 1.3.0, the default evaluation metric used with the objective 'binary:logistic' was changed from 'error' to 'logloss'. Explicitly set eval_metric if you'd like to restore the old behavior.\n",
      "xgb confuion matrix: \n",
      " [[112   7]\n",
      " [ 19  41]]\n",
      "xgb accuracy score: 0.8547486033519553\n",
      "xgb precision score: 0.8541666666666666\n",
      "xgb recall score: 0.6833333333333333\n",
      "xgb classification report :\n",
      "               precision    recall  f1-score   support\n",
      "\n",
      "           0       0.85      0.94      0.90       119\n",
      "           1       0.85      0.68      0.76        60\n",
      "\n",
      "    accuracy                           0.85       179\n",
      "   macro avg       0.85      0.81      0.83       179\n",
      "weighted avg       0.85      0.85      0.85       179\n",
      "\n",
      "\n"
     ]
    }
   ],
   "source": [
    "for name, model in models.items():\n",
    "    model1=model.fit(features_train,target_train)\n",
    "    y_pred = model1.predict(features_test)\n",
    "    print(f\"{name} confuion matrix: \\n {confusion_matrix(target_test,y_pred)}\") \n",
    "    print(f'{name} accuracy score: {model1.score(features_test,target_test)}')\n",
    "    print(f'{name} precision score: {precision_score(target_test,y_pred)}')\n",
    "    print(f'{name} recall score: {recall_score(target_test,y_pred)}')\n",
    "    print(f'{name} classification report :\\n {classification_report(target_test,y_pred)}\\n')"
   ]
  },
  {
   "cell_type": "markdown",
   "id": "5fbd2353",
   "metadata": {},
   "source": [
    "## XGBoost & Random Forest gives Best Accuracy"
   ]
  }
 ],
 "metadata": {
  "kernelspec": {
   "display_name": "Python 3 (ipykernel)",
   "language": "python",
   "name": "python3"
  },
  "language_info": {
   "codemirror_mode": {
    "name": "ipython",
    "version": 3
   },
   "file_extension": ".py",
   "mimetype": "text/x-python",
   "name": "python",
   "nbconvert_exporter": "python",
   "pygments_lexer": "ipython3",
   "version": "3.9.7"
  }
 },
 "nbformat": 4,
 "nbformat_minor": 5
}
