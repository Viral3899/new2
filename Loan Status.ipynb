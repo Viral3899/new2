{
 "cells": [
  {
   "cell_type": "markdown",
   "id": "332108f4",
   "metadata": {},
   "source": [
    "# Loan Status"
   ]
  },
  {
   "cell_type": "markdown",
   "id": "eda41548",
   "metadata": {},
   "source": [
    "# Importing Libraries"
   ]
  },
  {
   "cell_type": "code",
   "execution_count": 1,
   "id": "37f7e63f",
   "metadata": {},
   "outputs": [],
   "source": [
    "import pandas as pd\n",
    "import pandas_profiling\n",
    "import numpy as np\n",
    "import matplotlib.pyplot as plt\n",
    "%matplotlib inline\n",
    "import seaborn as sns\n",
    "import warnings \n",
    "warnings.filterwarnings('ignore')"
   ]
  },
  {
   "cell_type": "markdown",
   "id": "4eb3cf41",
   "metadata": {},
   "source": [
    "## Reading Dataset"
   ]
  },
  {
   "cell_type": "code",
   "execution_count": 2,
   "id": "15990687",
   "metadata": {},
   "outputs": [],
   "source": [
    "df=pd.read_csv(\"ML8 Naive Bayes Loan Status.csv\")"
   ]
  },
  {
   "cell_type": "code",
   "execution_count": 3,
   "id": "e20f868a",
   "metadata": {},
   "outputs": [
    {
     "data": {
      "text/html": [
       "<div>\n",
       "<style scoped>\n",
       "    .dataframe tbody tr th:only-of-type {\n",
       "        vertical-align: middle;\n",
       "    }\n",
       "\n",
       "    .dataframe tbody tr th {\n",
       "        vertical-align: top;\n",
       "    }\n",
       "\n",
       "    .dataframe thead th {\n",
       "        text-align: right;\n",
       "    }\n",
       "</style>\n",
       "<table border=\"1\" class=\"dataframe\">\n",
       "  <thead>\n",
       "    <tr style=\"text-align: right;\">\n",
       "      <th></th>\n",
       "      <th>ID</th>\n",
       "      <th>LIMIT_BAL</th>\n",
       "      <th>AGE</th>\n",
       "      <th>BILL_AMT1</th>\n",
       "      <th>BILL_AMT2</th>\n",
       "      <th>BILL_AMT3</th>\n",
       "      <th>BILL_AMT4</th>\n",
       "      <th>BILL_AMT5</th>\n",
       "      <th>BILL_AMT6</th>\n",
       "      <th>PAY_AMT1</th>\n",
       "      <th>PAY_AMT2</th>\n",
       "      <th>PAY_AMT3</th>\n",
       "      <th>PAY_AMT4</th>\n",
       "      <th>PAY_AMT5</th>\n",
       "      <th>PAY_AMT6</th>\n",
       "      <th>Default Status</th>\n",
       "    </tr>\n",
       "  </thead>\n",
       "  <tbody>\n",
       "    <tr>\n",
       "      <th>0</th>\n",
       "      <td>1</td>\n",
       "      <td>2.0</td>\n",
       "      <td>24</td>\n",
       "      <td>3913.0</td>\n",
       "      <td>312.0</td>\n",
       "      <td>689.0</td>\n",
       "      <td>NaN</td>\n",
       "      <td>NaN</td>\n",
       "      <td>NaN</td>\n",
       "      <td>NaN</td>\n",
       "      <td>689.0</td>\n",
       "      <td>NaN</td>\n",
       "      <td>NaN</td>\n",
       "      <td>NaN</td>\n",
       "      <td>NaN</td>\n",
       "      <td>Default</td>\n",
       "    </tr>\n",
       "    <tr>\n",
       "      <th>1</th>\n",
       "      <td>2</td>\n",
       "      <td>12.0</td>\n",
       "      <td>26</td>\n",
       "      <td>2682.0</td>\n",
       "      <td>1725.0</td>\n",
       "      <td>2682.0</td>\n",
       "      <td>3272.0</td>\n",
       "      <td>3455.0</td>\n",
       "      <td>3261.0</td>\n",
       "      <td>NaN</td>\n",
       "      <td>1.0</td>\n",
       "      <td>1.0</td>\n",
       "      <td>1.0</td>\n",
       "      <td>NaN</td>\n",
       "      <td>2.0</td>\n",
       "      <td>Default</td>\n",
       "    </tr>\n",
       "    <tr>\n",
       "      <th>2</th>\n",
       "      <td>3</td>\n",
       "      <td>9.0</td>\n",
       "      <td>34</td>\n",
       "      <td>29239.0</td>\n",
       "      <td>1427.0</td>\n",
       "      <td>13559.0</td>\n",
       "      <td>14331.0</td>\n",
       "      <td>14948.0</td>\n",
       "      <td>15549.0</td>\n",
       "      <td>1518.0</td>\n",
       "      <td>15.0</td>\n",
       "      <td>1.0</td>\n",
       "      <td>1.0</td>\n",
       "      <td>1.0</td>\n",
       "      <td>5.0</td>\n",
       "      <td>Not Default</td>\n",
       "    </tr>\n",
       "    <tr>\n",
       "      <th>3</th>\n",
       "      <td>4</td>\n",
       "      <td>5.0</td>\n",
       "      <td>37</td>\n",
       "      <td>4699.0</td>\n",
       "      <td>48233.0</td>\n",
       "      <td>49291.0</td>\n",
       "      <td>28314.0</td>\n",
       "      <td>28959.0</td>\n",
       "      <td>29547.0</td>\n",
       "      <td>2.0</td>\n",
       "      <td>219.0</td>\n",
       "      <td>12.0</td>\n",
       "      <td>11.0</td>\n",
       "      <td>169.0</td>\n",
       "      <td>1.0</td>\n",
       "      <td>Not Default</td>\n",
       "    </tr>\n",
       "    <tr>\n",
       "      <th>4</th>\n",
       "      <td>5</td>\n",
       "      <td>5.0</td>\n",
       "      <td>57</td>\n",
       "      <td>8617.0</td>\n",
       "      <td>567.0</td>\n",
       "      <td>35835.0</td>\n",
       "      <td>294.0</td>\n",
       "      <td>19146.0</td>\n",
       "      <td>19131.0</td>\n",
       "      <td>2.0</td>\n",
       "      <td>36681.0</td>\n",
       "      <td>1.0</td>\n",
       "      <td>9.0</td>\n",
       "      <td>689.0</td>\n",
       "      <td>679.0</td>\n",
       "      <td>Not Default</td>\n",
       "    </tr>\n",
       "  </tbody>\n",
       "</table>\n",
       "</div>"
      ],
      "text/plain": [
       "   ID  LIMIT_BAL  AGE  BILL_AMT1  BILL_AMT2  BILL_AMT3  BILL_AMT4  BILL_AMT5  \\\n",
       "0   1        2.0   24     3913.0      312.0      689.0        NaN        NaN   \n",
       "1   2       12.0   26     2682.0     1725.0     2682.0     3272.0     3455.0   \n",
       "2   3        9.0   34    29239.0     1427.0    13559.0    14331.0    14948.0   \n",
       "3   4        5.0   37     4699.0    48233.0    49291.0    28314.0    28959.0   \n",
       "4   5        5.0   57     8617.0      567.0    35835.0      294.0    19146.0   \n",
       "\n",
       "   BILL_AMT6  PAY_AMT1  PAY_AMT2  PAY_AMT3  PAY_AMT4  PAY_AMT5  PAY_AMT6  \\\n",
       "0        NaN       NaN     689.0       NaN       NaN       NaN       NaN   \n",
       "1     3261.0       NaN       1.0       1.0       1.0       NaN       2.0   \n",
       "2    15549.0    1518.0      15.0       1.0       1.0       1.0       5.0   \n",
       "3    29547.0       2.0     219.0      12.0      11.0     169.0       1.0   \n",
       "4    19131.0       2.0   36681.0       1.0       9.0     689.0     679.0   \n",
       "\n",
       "  Default Status  \n",
       "0        Default  \n",
       "1        Default  \n",
       "2    Not Default  \n",
       "3    Not Default  \n",
       "4    Not Default  "
      ]
     },
     "execution_count": 3,
     "metadata": {},
     "output_type": "execute_result"
    }
   ],
   "source": [
    "df.head()"
   ]
  },
  {
   "cell_type": "markdown",
   "id": "b18b98d6",
   "metadata": {},
   "source": [
    "### Getting Information of Dataset"
   ]
  },
  {
   "cell_type": "code",
   "execution_count": 4,
   "id": "ea6b18df",
   "metadata": {},
   "outputs": [
    {
     "name": "stdout",
     "output_type": "stream",
     "text": [
      "<class 'pandas.core.frame.DataFrame'>\n",
      "RangeIndex: 30000 entries, 0 to 29999\n",
      "Data columns (total 16 columns):\n",
      " #   Column          Non-Null Count  Dtype  \n",
      "---  ------          --------------  -----  \n",
      " 0   ID              30000 non-null  int64  \n",
      " 1   LIMIT_BAL       30000 non-null  float64\n",
      " 2   AGE             30000 non-null  int64  \n",
      " 3   BILL_AMT1       27992 non-null  float64\n",
      " 4   BILL_AMT2       27494 non-null  float64\n",
      " 5   BILL_AMT3       27130 non-null  float64\n",
      " 6   BILL_AMT4       26805 non-null  float64\n",
      " 7   BILL_AMT5       26494 non-null  float64\n",
      " 8   BILL_AMT6       25980 non-null  float64\n",
      " 9   PAY_AMT1        24751 non-null  float64\n",
      " 10  PAY_AMT2        24604 non-null  float64\n",
      " 11  PAY_AMT3        24032 non-null  float64\n",
      " 12  PAY_AMT4        23592 non-null  float64\n",
      " 13  PAY_AMT5        23297 non-null  float64\n",
      " 14  PAY_AMT6        22827 non-null  float64\n",
      " 15  Default Status  30000 non-null  object \n",
      "dtypes: float64(13), int64(2), object(1)\n",
      "memory usage: 3.7+ MB\n"
     ]
    }
   ],
   "source": [
    "df.info()"
   ]
  },
  {
   "cell_type": "code",
   "execution_count": 5,
   "id": "b159a51c",
   "metadata": {},
   "outputs": [],
   "source": [
    "# df.profile_report(title='report')"
   ]
  },
  {
   "cell_type": "markdown",
   "id": "63256873",
   "metadata": {},
   "source": [
    "### Description of Dataset"
   ]
  },
  {
   "cell_type": "code",
   "execution_count": 6,
   "id": "ef6d07fd",
   "metadata": {
    "scrolled": true
   },
   "outputs": [
    {
     "data": {
      "text/html": [
       "<div>\n",
       "<style scoped>\n",
       "    .dataframe tbody tr th:only-of-type {\n",
       "        vertical-align: middle;\n",
       "    }\n",
       "\n",
       "    .dataframe tbody tr th {\n",
       "        vertical-align: top;\n",
       "    }\n",
       "\n",
       "    .dataframe thead th {\n",
       "        text-align: right;\n",
       "    }\n",
       "</style>\n",
       "<table border=\"1\" class=\"dataframe\">\n",
       "  <thead>\n",
       "    <tr style=\"text-align: right;\">\n",
       "      <th></th>\n",
       "      <th>ID</th>\n",
       "      <th>LIMIT_BAL</th>\n",
       "      <th>AGE</th>\n",
       "      <th>BILL_AMT1</th>\n",
       "      <th>BILL_AMT2</th>\n",
       "      <th>BILL_AMT3</th>\n",
       "      <th>BILL_AMT4</th>\n",
       "      <th>BILL_AMT5</th>\n",
       "      <th>BILL_AMT6</th>\n",
       "      <th>PAY_AMT1</th>\n",
       "      <th>PAY_AMT2</th>\n",
       "      <th>PAY_AMT3</th>\n",
       "      <th>PAY_AMT4</th>\n",
       "      <th>PAY_AMT5</th>\n",
       "      <th>PAY_AMT6</th>\n",
       "    </tr>\n",
       "  </thead>\n",
       "  <tbody>\n",
       "    <tr>\n",
       "      <th>count</th>\n",
       "      <td>30000.000000</td>\n",
       "      <td>30000.000000</td>\n",
       "      <td>30000.000000</td>\n",
       "      <td>27992.000000</td>\n",
       "      <td>27494.000000</td>\n",
       "      <td>27130.000000</td>\n",
       "      <td>26805.000000</td>\n",
       "      <td>26494.000000</td>\n",
       "      <td>25980.000000</td>\n",
       "      <td>24751.000000</td>\n",
       "      <td>2.460400e+04</td>\n",
       "      <td>24032.000000</td>\n",
       "      <td>23592.000000</td>\n",
       "      <td>23297.000000</td>\n",
       "      <td>22827.000000</td>\n",
       "    </tr>\n",
       "    <tr>\n",
       "      <th>mean</th>\n",
       "      <td>10666.660700</td>\n",
       "      <td>14.648867</td>\n",
       "      <td>32.427900</td>\n",
       "      <td>33989.494570</td>\n",
       "      <td>33938.750418</td>\n",
       "      <td>32617.867011</td>\n",
       "      <td>30709.504160</td>\n",
       "      <td>29015.123424</td>\n",
       "      <td>28526.276559</td>\n",
       "      <td>2613.957537</td>\n",
       "      <td>2.922762e+03</td>\n",
       "      <td>2584.508988</td>\n",
       "      <td>2250.186122</td>\n",
       "      <td>2300.375885</td>\n",
       "      <td>2608.765760</td>\n",
       "    </tr>\n",
       "    <tr>\n",
       "      <th>std</th>\n",
       "      <td>9698.091793</td>\n",
       "      <td>189.496507</td>\n",
       "      <td>12.718991</td>\n",
       "      <td>61569.150299</td>\n",
       "      <td>60904.557498</td>\n",
       "      <td>58654.145088</td>\n",
       "      <td>54827.113904</td>\n",
       "      <td>51729.302253</td>\n",
       "      <td>51625.821980</td>\n",
       "      <td>12548.633278</td>\n",
       "      <td>1.849890e+04</td>\n",
       "      <td>12242.048527</td>\n",
       "      <td>11056.957868</td>\n",
       "      <td>11071.445005</td>\n",
       "      <td>13358.162766</td>\n",
       "    </tr>\n",
       "    <tr>\n",
       "      <th>min</th>\n",
       "      <td>1.000000</td>\n",
       "      <td>1.000000</td>\n",
       "      <td>3.000000</td>\n",
       "      <td>-154973.000000</td>\n",
       "      <td>-69777.000000</td>\n",
       "      <td>-157264.000000</td>\n",
       "      <td>-81334.000000</td>\n",
       "      <td>-81334.000000</td>\n",
       "      <td>-94625.000000</td>\n",
       "      <td>1.000000</td>\n",
       "      <td>1.000000e+00</td>\n",
       "      <td>1.000000</td>\n",
       "      <td>1.000000</td>\n",
       "      <td>1.000000</td>\n",
       "      <td>1.000000</td>\n",
       "    </tr>\n",
       "    <tr>\n",
       "      <th>25%</th>\n",
       "      <td>1850.500000</td>\n",
       "      <td>4.000000</td>\n",
       "      <td>26.000000</td>\n",
       "      <td>1574.000000</td>\n",
       "      <td>1556.000000</td>\n",
       "      <td>1534.000000</td>\n",
       "      <td>1433.000000</td>\n",
       "      <td>1327.000000</td>\n",
       "      <td>1261.000000</td>\n",
       "      <td>15.000000</td>\n",
       "      <td>1.400000e+01</td>\n",
       "      <td>8.000000</td>\n",
       "      <td>6.000000</td>\n",
       "      <td>5.000000</td>\n",
       "      <td>5.000000</td>\n",
       "    </tr>\n",
       "    <tr>\n",
       "      <th>50%</th>\n",
       "      <td>7483.500000</td>\n",
       "      <td>9.000000</td>\n",
       "      <td>33.000000</td>\n",
       "      <td>8551.500000</td>\n",
       "      <td>8697.500000</td>\n",
       "      <td>8889.500000</td>\n",
       "      <td>8671.000000</td>\n",
       "      <td>8131.500000</td>\n",
       "      <td>7819.000000</td>\n",
       "      <td>166.000000</td>\n",
       "      <td>1.640000e+02</td>\n",
       "      <td>119.000000</td>\n",
       "      <td>75.000000</td>\n",
       "      <td>75.000000</td>\n",
       "      <td>78.000000</td>\n",
       "    </tr>\n",
       "    <tr>\n",
       "      <th>75%</th>\n",
       "      <td>18746.250000</td>\n",
       "      <td>21.000000</td>\n",
       "      <td>41.000000</td>\n",
       "      <td>38251.750000</td>\n",
       "      <td>38605.500000</td>\n",
       "      <td>36534.250000</td>\n",
       "      <td>32855.000000</td>\n",
       "      <td>29680.500000</td>\n",
       "      <td>29459.750000</td>\n",
       "      <td>1667.000000</td>\n",
       "      <td>1.662000e+03</td>\n",
       "      <td>1381.250000</td>\n",
       "      <td>983.000000</td>\n",
       "      <td>982.000000</td>\n",
       "      <td>1133.000000</td>\n",
       "    </tr>\n",
       "    <tr>\n",
       "      <th>max</th>\n",
       "      <td>29999.000000</td>\n",
       "      <td>32768.000000</td>\n",
       "      <td>79.000000</td>\n",
       "      <td>964511.000000</td>\n",
       "      <td>983931.000000</td>\n",
       "      <td>693131.000000</td>\n",
       "      <td>891586.000000</td>\n",
       "      <td>927171.000000</td>\n",
       "      <td>961664.000000</td>\n",
       "      <td>873552.000000</td>\n",
       "      <td>1.684259e+06</td>\n",
       "      <td>417588.000000</td>\n",
       "      <td>528897.000000</td>\n",
       "      <td>426529.000000</td>\n",
       "      <td>528666.000000</td>\n",
       "    </tr>\n",
       "  </tbody>\n",
       "</table>\n",
       "</div>"
      ],
      "text/plain": [
       "                 ID     LIMIT_BAL           AGE      BILL_AMT1      BILL_AMT2  \\\n",
       "count  30000.000000  30000.000000  30000.000000   27992.000000   27494.000000   \n",
       "mean   10666.660700     14.648867     32.427900   33989.494570   33938.750418   \n",
       "std     9698.091793    189.496507     12.718991   61569.150299   60904.557498   \n",
       "min        1.000000      1.000000      3.000000 -154973.000000  -69777.000000   \n",
       "25%     1850.500000      4.000000     26.000000    1574.000000    1556.000000   \n",
       "50%     7483.500000      9.000000     33.000000    8551.500000    8697.500000   \n",
       "75%    18746.250000     21.000000     41.000000   38251.750000   38605.500000   \n",
       "max    29999.000000  32768.000000     79.000000  964511.000000  983931.000000   \n",
       "\n",
       "           BILL_AMT3      BILL_AMT4      BILL_AMT5      BILL_AMT6  \\\n",
       "count   27130.000000   26805.000000   26494.000000   25980.000000   \n",
       "mean    32617.867011   30709.504160   29015.123424   28526.276559   \n",
       "std     58654.145088   54827.113904   51729.302253   51625.821980   \n",
       "min   -157264.000000  -81334.000000  -81334.000000  -94625.000000   \n",
       "25%      1534.000000    1433.000000    1327.000000    1261.000000   \n",
       "50%      8889.500000    8671.000000    8131.500000    7819.000000   \n",
       "75%     36534.250000   32855.000000   29680.500000   29459.750000   \n",
       "max    693131.000000  891586.000000  927171.000000  961664.000000   \n",
       "\n",
       "            PAY_AMT1      PAY_AMT2       PAY_AMT3       PAY_AMT4  \\\n",
       "count   24751.000000  2.460400e+04   24032.000000   23592.000000   \n",
       "mean     2613.957537  2.922762e+03    2584.508988    2250.186122   \n",
       "std     12548.633278  1.849890e+04   12242.048527   11056.957868   \n",
       "min         1.000000  1.000000e+00       1.000000       1.000000   \n",
       "25%        15.000000  1.400000e+01       8.000000       6.000000   \n",
       "50%       166.000000  1.640000e+02     119.000000      75.000000   \n",
       "75%      1667.000000  1.662000e+03    1381.250000     983.000000   \n",
       "max    873552.000000  1.684259e+06  417588.000000  528897.000000   \n",
       "\n",
       "            PAY_AMT5       PAY_AMT6  \n",
       "count   23297.000000   22827.000000  \n",
       "mean     2300.375885    2608.765760  \n",
       "std     11071.445005   13358.162766  \n",
       "min         1.000000       1.000000  \n",
       "25%         5.000000       5.000000  \n",
       "50%        75.000000      78.000000  \n",
       "75%       982.000000    1133.000000  \n",
       "max    426529.000000  528666.000000  "
      ]
     },
     "execution_count": 6,
     "metadata": {},
     "output_type": "execute_result"
    }
   ],
   "source": [
    "df.describe()"
   ]
  },
  {
   "cell_type": "markdown",
   "id": "26b94259",
   "metadata": {},
   "source": [
    "### Checking for null Value"
   ]
  },
  {
   "cell_type": "code",
   "execution_count": 7,
   "id": "f9236ba7",
   "metadata": {},
   "outputs": [
    {
     "data": {
      "text/plain": [
       "ID                   0\n",
       "LIMIT_BAL            0\n",
       "AGE                  0\n",
       "BILL_AMT1         2008\n",
       "BILL_AMT2         2506\n",
       "BILL_AMT3         2870\n",
       "BILL_AMT4         3195\n",
       "BILL_AMT5         3506\n",
       "BILL_AMT6         4020\n",
       "PAY_AMT1          5249\n",
       "PAY_AMT2          5396\n",
       "PAY_AMT3          5968\n",
       "PAY_AMT4          6408\n",
       "PAY_AMT5          6703\n",
       "PAY_AMT6          7173\n",
       "Default Status       0\n",
       "dtype: int64"
      ]
     },
     "execution_count": 7,
     "metadata": {},
     "output_type": "execute_result"
    }
   ],
   "source": [
    "df.isna().sum()"
   ]
  },
  {
   "cell_type": "code",
   "execution_count": 8,
   "id": "8e78c88b",
   "metadata": {
    "scrolled": false
   },
   "outputs": [
    {
     "data": {
      "text/plain": [
       "ID                0.000000\n",
       "LIMIT_BAL         0.000000\n",
       "AGE               0.000000\n",
       "BILL_AMT1         0.066933\n",
       "BILL_AMT2         0.083533\n",
       "BILL_AMT3         0.095667\n",
       "BILL_AMT4         0.106500\n",
       "BILL_AMT5         0.116867\n",
       "BILL_AMT6         0.134000\n",
       "PAY_AMT1          0.174967\n",
       "PAY_AMT2          0.179867\n",
       "PAY_AMT3          0.198933\n",
       "PAY_AMT4          0.213600\n",
       "PAY_AMT5          0.223433\n",
       "PAY_AMT6          0.239100\n",
       "Default Status    0.000000\n",
       "dtype: float64"
      ]
     },
     "execution_count": 8,
     "metadata": {},
     "output_type": "execute_result"
    }
   ],
   "source": [
    "df.isna().mean()"
   ]
  },
  {
   "cell_type": "markdown",
   "id": "1cf3aaf6",
   "metadata": {},
   "source": [
    "### Removing Null Values"
   ]
  },
  {
   "cell_type": "code",
   "execution_count": 9,
   "id": "bd6156c8",
   "metadata": {},
   "outputs": [],
   "source": [
    "l=['BILL_AMT1','BILL_AMT2','BILL_AMT3','BILL_AMT4','BILL_AMT5','BILL_AMT6','PAY_AMT1','PAY_AMT2','PAY_AMT3','PAY_AMT4','PAY_AMT5','PAY_AMT6']"
   ]
  },
  {
   "cell_type": "code",
   "execution_count": 10,
   "id": "71cdb33b",
   "metadata": {},
   "outputs": [],
   "source": [
    "for i in l:\n",
    "    df[i]=df[i].fillna(df[i].mean())"
   ]
  },
  {
   "cell_type": "code",
   "execution_count": 11,
   "id": "cdc8e598",
   "metadata": {},
   "outputs": [
    {
     "data": {
      "text/plain": [
       "ID                0.0\n",
       "LIMIT_BAL         0.0\n",
       "AGE               0.0\n",
       "BILL_AMT1         0.0\n",
       "BILL_AMT2         0.0\n",
       "BILL_AMT3         0.0\n",
       "BILL_AMT4         0.0\n",
       "BILL_AMT5         0.0\n",
       "BILL_AMT6         0.0\n",
       "PAY_AMT1          0.0\n",
       "PAY_AMT2          0.0\n",
       "PAY_AMT3          0.0\n",
       "PAY_AMT4          0.0\n",
       "PAY_AMT5          0.0\n",
       "PAY_AMT6          0.0\n",
       "Default Status    0.0\n",
       "dtype: float64"
      ]
     },
     "execution_count": 11,
     "metadata": {},
     "output_type": "execute_result"
    }
   ],
   "source": [
    "df.isna().mean()"
   ]
  },
  {
   "cell_type": "markdown",
   "id": "1764142f",
   "metadata": {},
   "source": [
    "### Droping Unwanted Columns"
   ]
  },
  {
   "cell_type": "code",
   "execution_count": 12,
   "id": "ee47ee20",
   "metadata": {},
   "outputs": [],
   "source": [
    "df=df.drop('ID',axis=1)"
   ]
  },
  {
   "cell_type": "code",
   "execution_count": 13,
   "id": "8105006d",
   "metadata": {
    "scrolled": true
   },
   "outputs": [
    {
     "data": {
      "text/html": [
       "<div>\n",
       "<style scoped>\n",
       "    .dataframe tbody tr th:only-of-type {\n",
       "        vertical-align: middle;\n",
       "    }\n",
       "\n",
       "    .dataframe tbody tr th {\n",
       "        vertical-align: top;\n",
       "    }\n",
       "\n",
       "    .dataframe thead th {\n",
       "        text-align: right;\n",
       "    }\n",
       "</style>\n",
       "<table border=\"1\" class=\"dataframe\">\n",
       "  <thead>\n",
       "    <tr style=\"text-align: right;\">\n",
       "      <th></th>\n",
       "      <th>LIMIT_BAL</th>\n",
       "      <th>AGE</th>\n",
       "      <th>BILL_AMT1</th>\n",
       "      <th>BILL_AMT2</th>\n",
       "      <th>BILL_AMT3</th>\n",
       "      <th>BILL_AMT4</th>\n",
       "      <th>BILL_AMT5</th>\n",
       "      <th>BILL_AMT6</th>\n",
       "      <th>PAY_AMT1</th>\n",
       "      <th>PAY_AMT2</th>\n",
       "      <th>PAY_AMT3</th>\n",
       "      <th>PAY_AMT4</th>\n",
       "      <th>PAY_AMT5</th>\n",
       "      <th>PAY_AMT6</th>\n",
       "      <th>Default Status</th>\n",
       "    </tr>\n",
       "  </thead>\n",
       "  <tbody>\n",
       "    <tr>\n",
       "      <th>0</th>\n",
       "      <td>2.0</td>\n",
       "      <td>24</td>\n",
       "      <td>3913.0</td>\n",
       "      <td>312.0</td>\n",
       "      <td>689.0</td>\n",
       "      <td>30709.50416</td>\n",
       "      <td>29015.123424</td>\n",
       "      <td>28526.276559</td>\n",
       "      <td>2613.957537</td>\n",
       "      <td>689.0</td>\n",
       "      <td>2584.508988</td>\n",
       "      <td>2250.186122</td>\n",
       "      <td>2300.375885</td>\n",
       "      <td>2608.76576</td>\n",
       "      <td>Default</td>\n",
       "    </tr>\n",
       "    <tr>\n",
       "      <th>1</th>\n",
       "      <td>12.0</td>\n",
       "      <td>26</td>\n",
       "      <td>2682.0</td>\n",
       "      <td>1725.0</td>\n",
       "      <td>2682.0</td>\n",
       "      <td>3272.00000</td>\n",
       "      <td>3455.000000</td>\n",
       "      <td>3261.000000</td>\n",
       "      <td>2613.957537</td>\n",
       "      <td>1.0</td>\n",
       "      <td>1.000000</td>\n",
       "      <td>1.000000</td>\n",
       "      <td>2300.375885</td>\n",
       "      <td>2.00000</td>\n",
       "      <td>Default</td>\n",
       "    </tr>\n",
       "    <tr>\n",
       "      <th>2</th>\n",
       "      <td>9.0</td>\n",
       "      <td>34</td>\n",
       "      <td>29239.0</td>\n",
       "      <td>1427.0</td>\n",
       "      <td>13559.0</td>\n",
       "      <td>14331.00000</td>\n",
       "      <td>14948.000000</td>\n",
       "      <td>15549.000000</td>\n",
       "      <td>1518.000000</td>\n",
       "      <td>15.0</td>\n",
       "      <td>1.000000</td>\n",
       "      <td>1.000000</td>\n",
       "      <td>1.000000</td>\n",
       "      <td>5.00000</td>\n",
       "      <td>Not Default</td>\n",
       "    </tr>\n",
       "    <tr>\n",
       "      <th>3</th>\n",
       "      <td>5.0</td>\n",
       "      <td>37</td>\n",
       "      <td>4699.0</td>\n",
       "      <td>48233.0</td>\n",
       "      <td>49291.0</td>\n",
       "      <td>28314.00000</td>\n",
       "      <td>28959.000000</td>\n",
       "      <td>29547.000000</td>\n",
       "      <td>2.000000</td>\n",
       "      <td>219.0</td>\n",
       "      <td>12.000000</td>\n",
       "      <td>11.000000</td>\n",
       "      <td>169.000000</td>\n",
       "      <td>1.00000</td>\n",
       "      <td>Not Default</td>\n",
       "    </tr>\n",
       "    <tr>\n",
       "      <th>4</th>\n",
       "      <td>5.0</td>\n",
       "      <td>57</td>\n",
       "      <td>8617.0</td>\n",
       "      <td>567.0</td>\n",
       "      <td>35835.0</td>\n",
       "      <td>294.00000</td>\n",
       "      <td>19146.000000</td>\n",
       "      <td>19131.000000</td>\n",
       "      <td>2.000000</td>\n",
       "      <td>36681.0</td>\n",
       "      <td>1.000000</td>\n",
       "      <td>9.000000</td>\n",
       "      <td>689.000000</td>\n",
       "      <td>679.00000</td>\n",
       "      <td>Not Default</td>\n",
       "    </tr>\n",
       "  </tbody>\n",
       "</table>\n",
       "</div>"
      ],
      "text/plain": [
       "   LIMIT_BAL  AGE  BILL_AMT1  BILL_AMT2  BILL_AMT3    BILL_AMT4     BILL_AMT5  \\\n",
       "0        2.0   24     3913.0      312.0      689.0  30709.50416  29015.123424   \n",
       "1       12.0   26     2682.0     1725.0     2682.0   3272.00000   3455.000000   \n",
       "2        9.0   34    29239.0     1427.0    13559.0  14331.00000  14948.000000   \n",
       "3        5.0   37     4699.0    48233.0    49291.0  28314.00000  28959.000000   \n",
       "4        5.0   57     8617.0      567.0    35835.0    294.00000  19146.000000   \n",
       "\n",
       "      BILL_AMT6     PAY_AMT1  PAY_AMT2     PAY_AMT3     PAY_AMT4     PAY_AMT5  \\\n",
       "0  28526.276559  2613.957537     689.0  2584.508988  2250.186122  2300.375885   \n",
       "1   3261.000000  2613.957537       1.0     1.000000     1.000000  2300.375885   \n",
       "2  15549.000000  1518.000000      15.0     1.000000     1.000000     1.000000   \n",
       "3  29547.000000     2.000000     219.0    12.000000    11.000000   169.000000   \n",
       "4  19131.000000     2.000000   36681.0     1.000000     9.000000   689.000000   \n",
       "\n",
       "     PAY_AMT6 Default Status  \n",
       "0  2608.76576        Default  \n",
       "1     2.00000        Default  \n",
       "2     5.00000    Not Default  \n",
       "3     1.00000    Not Default  \n",
       "4   679.00000    Not Default  "
      ]
     },
     "execution_count": 13,
     "metadata": {},
     "output_type": "execute_result"
    }
   ],
   "source": [
    "df.head()"
   ]
  },
  {
   "cell_type": "markdown",
   "id": "094d12d5",
   "metadata": {},
   "source": [
    "### Getting Basic Statistics"
   ]
  },
  {
   "cell_type": "code",
   "execution_count": 14,
   "id": "0aae5ff8",
   "metadata": {
    "scrolled": true
   },
   "outputs": [
    {
     "data": {
      "text/html": [
       "<div>\n",
       "<style scoped>\n",
       "    .dataframe tbody tr th:only-of-type {\n",
       "        vertical-align: middle;\n",
       "    }\n",
       "\n",
       "    .dataframe tbody tr th {\n",
       "        vertical-align: top;\n",
       "    }\n",
       "\n",
       "    .dataframe thead th {\n",
       "        text-align: right;\n",
       "    }\n",
       "</style>\n",
       "<table border=\"1\" class=\"dataframe\">\n",
       "  <thead>\n",
       "    <tr style=\"text-align: right;\">\n",
       "      <th></th>\n",
       "      <th>LIMIT_BAL</th>\n",
       "      <th>AGE</th>\n",
       "      <th>BILL_AMT1</th>\n",
       "      <th>BILL_AMT2</th>\n",
       "      <th>BILL_AMT3</th>\n",
       "      <th>BILL_AMT4</th>\n",
       "      <th>BILL_AMT5</th>\n",
       "      <th>BILL_AMT6</th>\n",
       "      <th>PAY_AMT1</th>\n",
       "      <th>PAY_AMT2</th>\n",
       "      <th>PAY_AMT3</th>\n",
       "      <th>PAY_AMT4</th>\n",
       "      <th>PAY_AMT5</th>\n",
       "      <th>PAY_AMT6</th>\n",
       "    </tr>\n",
       "  </thead>\n",
       "  <tbody>\n",
       "    <tr>\n",
       "      <th>count</th>\n",
       "      <td>30000.000000</td>\n",
       "      <td>30000.000000</td>\n",
       "      <td>30000.000000</td>\n",
       "      <td>30000.000000</td>\n",
       "      <td>30000.000000</td>\n",
       "      <td>30000.00000</td>\n",
       "      <td>30000.000000</td>\n",
       "      <td>30000.000000</td>\n",
       "      <td>30000.000000</td>\n",
       "      <td>3.000000e+04</td>\n",
       "      <td>30000.000000</td>\n",
       "      <td>30000.000000</td>\n",
       "      <td>30000.000000</td>\n",
       "      <td>30000.000000</td>\n",
       "    </tr>\n",
       "    <tr>\n",
       "      <th>mean</th>\n",
       "      <td>14.648867</td>\n",
       "      <td>32.427900</td>\n",
       "      <td>33989.494570</td>\n",
       "      <td>33938.750418</td>\n",
       "      <td>32617.867011</td>\n",
       "      <td>30709.50416</td>\n",
       "      <td>29015.123424</td>\n",
       "      <td>28526.276559</td>\n",
       "      <td>2613.957537</td>\n",
       "      <td>2.922762e+03</td>\n",
       "      <td>2584.508988</td>\n",
       "      <td>2250.186122</td>\n",
       "      <td>2300.375885</td>\n",
       "      <td>2608.765760</td>\n",
       "    </tr>\n",
       "    <tr>\n",
       "      <th>std</th>\n",
       "      <td>189.496507</td>\n",
       "      <td>12.718991</td>\n",
       "      <td>59472.881131</td>\n",
       "      <td>58305.224138</td>\n",
       "      <td>55777.906879</td>\n",
       "      <td>51825.29715</td>\n",
       "      <td>48612.594594</td>\n",
       "      <td>48042.412239</td>\n",
       "      <td>11398.052166</td>\n",
       "      <td>1.675277e+04</td>\n",
       "      <td>10956.873040</td>\n",
       "      <td>9805.177073</td>\n",
       "      <td>9756.444917</td>\n",
       "      <td>11652.208534</td>\n",
       "    </tr>\n",
       "    <tr>\n",
       "      <th>min</th>\n",
       "      <td>1.000000</td>\n",
       "      <td>3.000000</td>\n",
       "      <td>-154973.000000</td>\n",
       "      <td>-69777.000000</td>\n",
       "      <td>-157264.000000</td>\n",
       "      <td>-81334.00000</td>\n",
       "      <td>-81334.000000</td>\n",
       "      <td>-94625.000000</td>\n",
       "      <td>1.000000</td>\n",
       "      <td>1.000000e+00</td>\n",
       "      <td>1.000000</td>\n",
       "      <td>1.000000</td>\n",
       "      <td>1.000000</td>\n",
       "      <td>1.000000</td>\n",
       "    </tr>\n",
       "    <tr>\n",
       "      <th>25%</th>\n",
       "      <td>4.000000</td>\n",
       "      <td>26.000000</td>\n",
       "      <td>1788.000000</td>\n",
       "      <td>1847.750000</td>\n",
       "      <td>1862.000000</td>\n",
       "      <td>1782.00000</td>\n",
       "      <td>1718.000000</td>\n",
       "      <td>1724.000000</td>\n",
       "      <td>21.000000</td>\n",
       "      <td>1.900000e+01</td>\n",
       "      <td>15.000000</td>\n",
       "      <td>13.000000</td>\n",
       "      <td>13.000000</td>\n",
       "      <td>15.000000</td>\n",
       "    </tr>\n",
       "    <tr>\n",
       "      <th>50%</th>\n",
       "      <td>9.000000</td>\n",
       "      <td>33.000000</td>\n",
       "      <td>11569.000000</td>\n",
       "      <td>12637.000000</td>\n",
       "      <td>13255.000000</td>\n",
       "      <td>13350.00000</td>\n",
       "      <td>12847.000000</td>\n",
       "      <td>13398.500000</td>\n",
       "      <td>512.000000</td>\n",
       "      <td>5.150000e+02</td>\n",
       "      <td>431.000000</td>\n",
       "      <td>367.000000</td>\n",
       "      <td>387.000000</td>\n",
       "      <td>478.000000</td>\n",
       "    </tr>\n",
       "    <tr>\n",
       "      <th>75%</th>\n",
       "      <td>21.000000</td>\n",
       "      <td>41.000000</td>\n",
       "      <td>33989.494570</td>\n",
       "      <td>33938.750418</td>\n",
       "      <td>32617.867011</td>\n",
       "      <td>30709.50416</td>\n",
       "      <td>29015.123424</td>\n",
       "      <td>28526.276559</td>\n",
       "      <td>2613.957537</td>\n",
       "      <td>2.922762e+03</td>\n",
       "      <td>2584.508988</td>\n",
       "      <td>2250.186122</td>\n",
       "      <td>2300.375885</td>\n",
       "      <td>2608.765760</td>\n",
       "    </tr>\n",
       "    <tr>\n",
       "      <th>max</th>\n",
       "      <td>32768.000000</td>\n",
       "      <td>79.000000</td>\n",
       "      <td>964511.000000</td>\n",
       "      <td>983931.000000</td>\n",
       "      <td>693131.000000</td>\n",
       "      <td>891586.00000</td>\n",
       "      <td>927171.000000</td>\n",
       "      <td>961664.000000</td>\n",
       "      <td>873552.000000</td>\n",
       "      <td>1.684259e+06</td>\n",
       "      <td>417588.000000</td>\n",
       "      <td>528897.000000</td>\n",
       "      <td>426529.000000</td>\n",
       "      <td>528666.000000</td>\n",
       "    </tr>\n",
       "  </tbody>\n",
       "</table>\n",
       "</div>"
      ],
      "text/plain": [
       "          LIMIT_BAL           AGE      BILL_AMT1      BILL_AMT2  \\\n",
       "count  30000.000000  30000.000000   30000.000000   30000.000000   \n",
       "mean      14.648867     32.427900   33989.494570   33938.750418   \n",
       "std      189.496507     12.718991   59472.881131   58305.224138   \n",
       "min        1.000000      3.000000 -154973.000000  -69777.000000   \n",
       "25%        4.000000     26.000000    1788.000000    1847.750000   \n",
       "50%        9.000000     33.000000   11569.000000   12637.000000   \n",
       "75%       21.000000     41.000000   33989.494570   33938.750418   \n",
       "max    32768.000000     79.000000  964511.000000  983931.000000   \n",
       "\n",
       "           BILL_AMT3     BILL_AMT4      BILL_AMT5      BILL_AMT6  \\\n",
       "count   30000.000000   30000.00000   30000.000000   30000.000000   \n",
       "mean    32617.867011   30709.50416   29015.123424   28526.276559   \n",
       "std     55777.906879   51825.29715   48612.594594   48042.412239   \n",
       "min   -157264.000000  -81334.00000  -81334.000000  -94625.000000   \n",
       "25%      1862.000000    1782.00000    1718.000000    1724.000000   \n",
       "50%     13255.000000   13350.00000   12847.000000   13398.500000   \n",
       "75%     32617.867011   30709.50416   29015.123424   28526.276559   \n",
       "max    693131.000000  891586.00000  927171.000000  961664.000000   \n",
       "\n",
       "            PAY_AMT1      PAY_AMT2       PAY_AMT3       PAY_AMT4  \\\n",
       "count   30000.000000  3.000000e+04   30000.000000   30000.000000   \n",
       "mean     2613.957537  2.922762e+03    2584.508988    2250.186122   \n",
       "std     11398.052166  1.675277e+04   10956.873040    9805.177073   \n",
       "min         1.000000  1.000000e+00       1.000000       1.000000   \n",
       "25%        21.000000  1.900000e+01      15.000000      13.000000   \n",
       "50%       512.000000  5.150000e+02     431.000000     367.000000   \n",
       "75%      2613.957537  2.922762e+03    2584.508988    2250.186122   \n",
       "max    873552.000000  1.684259e+06  417588.000000  528897.000000   \n",
       "\n",
       "            PAY_AMT5       PAY_AMT6  \n",
       "count   30000.000000   30000.000000  \n",
       "mean     2300.375885    2608.765760  \n",
       "std      9756.444917   11652.208534  \n",
       "min         1.000000       1.000000  \n",
       "25%        13.000000      15.000000  \n",
       "50%       387.000000     478.000000  \n",
       "75%      2300.375885    2608.765760  \n",
       "max    426529.000000  528666.000000  "
      ]
     },
     "execution_count": 14,
     "metadata": {},
     "output_type": "execute_result"
    }
   ],
   "source": [
    "df.describe()"
   ]
  },
  {
   "cell_type": "code",
   "execution_count": 15,
   "id": "c108b343",
   "metadata": {
    "scrolled": false
   },
   "outputs": [
    {
     "data": {
      "text/html": [
       "<div>\n",
       "<style scoped>\n",
       "    .dataframe tbody tr th:only-of-type {\n",
       "        vertical-align: middle;\n",
       "    }\n",
       "\n",
       "    .dataframe tbody tr th {\n",
       "        vertical-align: top;\n",
       "    }\n",
       "\n",
       "    .dataframe thead th {\n",
       "        text-align: right;\n",
       "    }\n",
       "</style>\n",
       "<table border=\"1\" class=\"dataframe\">\n",
       "  <thead>\n",
       "    <tr style=\"text-align: right;\">\n",
       "      <th></th>\n",
       "      <th>LIMIT_BAL</th>\n",
       "      <th>AGE</th>\n",
       "      <th>BILL_AMT1</th>\n",
       "      <th>BILL_AMT2</th>\n",
       "      <th>BILL_AMT3</th>\n",
       "      <th>BILL_AMT4</th>\n",
       "      <th>BILL_AMT5</th>\n",
       "      <th>BILL_AMT6</th>\n",
       "      <th>PAY_AMT1</th>\n",
       "      <th>PAY_AMT2</th>\n",
       "      <th>PAY_AMT3</th>\n",
       "      <th>PAY_AMT4</th>\n",
       "      <th>PAY_AMT5</th>\n",
       "      <th>PAY_AMT6</th>\n",
       "      <th>Default Status</th>\n",
       "    </tr>\n",
       "  </thead>\n",
       "  <tbody>\n",
       "    <tr>\n",
       "      <th>0</th>\n",
       "      <td>2.0</td>\n",
       "      <td>24</td>\n",
       "      <td>3913.0</td>\n",
       "      <td>312.0</td>\n",
       "      <td>689.0</td>\n",
       "      <td>30709.50416</td>\n",
       "      <td>29015.123424</td>\n",
       "      <td>28526.276559</td>\n",
       "      <td>2613.957537</td>\n",
       "      <td>689.000000</td>\n",
       "      <td>2584.508988</td>\n",
       "      <td>2250.186122</td>\n",
       "      <td>2300.375885</td>\n",
       "      <td>2608.76576</td>\n",
       "      <td>Default</td>\n",
       "    </tr>\n",
       "    <tr>\n",
       "      <th>1</th>\n",
       "      <td>12.0</td>\n",
       "      <td>26</td>\n",
       "      <td>2682.0</td>\n",
       "      <td>1725.0</td>\n",
       "      <td>2682.0</td>\n",
       "      <td>3272.00000</td>\n",
       "      <td>3455.000000</td>\n",
       "      <td>3261.000000</td>\n",
       "      <td>2613.957537</td>\n",
       "      <td>1.000000</td>\n",
       "      <td>1.000000</td>\n",
       "      <td>1.000000</td>\n",
       "      <td>2300.375885</td>\n",
       "      <td>2.00000</td>\n",
       "      <td>Default</td>\n",
       "    </tr>\n",
       "    <tr>\n",
       "      <th>2</th>\n",
       "      <td>9.0</td>\n",
       "      <td>34</td>\n",
       "      <td>29239.0</td>\n",
       "      <td>1427.0</td>\n",
       "      <td>13559.0</td>\n",
       "      <td>14331.00000</td>\n",
       "      <td>14948.000000</td>\n",
       "      <td>15549.000000</td>\n",
       "      <td>1518.000000</td>\n",
       "      <td>15.000000</td>\n",
       "      <td>1.000000</td>\n",
       "      <td>1.000000</td>\n",
       "      <td>1.000000</td>\n",
       "      <td>5.00000</td>\n",
       "      <td>Not Default</td>\n",
       "    </tr>\n",
       "    <tr>\n",
       "      <th>3</th>\n",
       "      <td>5.0</td>\n",
       "      <td>37</td>\n",
       "      <td>4699.0</td>\n",
       "      <td>48233.0</td>\n",
       "      <td>49291.0</td>\n",
       "      <td>28314.00000</td>\n",
       "      <td>28959.000000</td>\n",
       "      <td>29547.000000</td>\n",
       "      <td>2.000000</td>\n",
       "      <td>219.000000</td>\n",
       "      <td>12.000000</td>\n",
       "      <td>11.000000</td>\n",
       "      <td>169.000000</td>\n",
       "      <td>1.00000</td>\n",
       "      <td>Not Default</td>\n",
       "    </tr>\n",
       "    <tr>\n",
       "      <th>4</th>\n",
       "      <td>5.0</td>\n",
       "      <td>57</td>\n",
       "      <td>8617.0</td>\n",
       "      <td>567.0</td>\n",
       "      <td>35835.0</td>\n",
       "      <td>294.00000</td>\n",
       "      <td>19146.000000</td>\n",
       "      <td>19131.000000</td>\n",
       "      <td>2.000000</td>\n",
       "      <td>36681.000000</td>\n",
       "      <td>1.000000</td>\n",
       "      <td>9.000000</td>\n",
       "      <td>689.000000</td>\n",
       "      <td>679.00000</td>\n",
       "      <td>Not Default</td>\n",
       "    </tr>\n",
       "    <tr>\n",
       "      <th>...</th>\n",
       "      <td>...</td>\n",
       "      <td>...</td>\n",
       "      <td>...</td>\n",
       "      <td>...</td>\n",
       "      <td>...</td>\n",
       "      <td>...</td>\n",
       "      <td>...</td>\n",
       "      <td>...</td>\n",
       "      <td>...</td>\n",
       "      <td>...</td>\n",
       "      <td>...</td>\n",
       "      <td>...</td>\n",
       "      <td>...</td>\n",
       "      <td>...</td>\n",
       "      <td>...</td>\n",
       "    </tr>\n",
       "    <tr>\n",
       "      <th>29995</th>\n",
       "      <td>22.0</td>\n",
       "      <td>39</td>\n",
       "      <td>188948.0</td>\n",
       "      <td>192815.0</td>\n",
       "      <td>28365.0</td>\n",
       "      <td>884.00000</td>\n",
       "      <td>31237.000000</td>\n",
       "      <td>1598.000000</td>\n",
       "      <td>85.000000</td>\n",
       "      <td>2.000000</td>\n",
       "      <td>53.000000</td>\n",
       "      <td>347.000000</td>\n",
       "      <td>5.000000</td>\n",
       "      <td>1.00000</td>\n",
       "      <td>Not Default</td>\n",
       "    </tr>\n",
       "    <tr>\n",
       "      <th>29996</th>\n",
       "      <td>15.0</td>\n",
       "      <td>43</td>\n",
       "      <td>1683.0</td>\n",
       "      <td>1828.0</td>\n",
       "      <td>352.0</td>\n",
       "      <td>8979.00000</td>\n",
       "      <td>519.000000</td>\n",
       "      <td>28526.276559</td>\n",
       "      <td>1837.000000</td>\n",
       "      <td>3526.000000</td>\n",
       "      <td>8998.000000</td>\n",
       "      <td>129.000000</td>\n",
       "      <td>2300.375885</td>\n",
       "      <td>2608.76576</td>\n",
       "      <td>Not Default</td>\n",
       "    </tr>\n",
       "    <tr>\n",
       "      <th>29997</th>\n",
       "      <td>3.0</td>\n",
       "      <td>37</td>\n",
       "      <td>3565.0</td>\n",
       "      <td>3356.0</td>\n",
       "      <td>2758.0</td>\n",
       "      <td>2878.00000</td>\n",
       "      <td>2582.000000</td>\n",
       "      <td>19357.000000</td>\n",
       "      <td>2613.957537</td>\n",
       "      <td>2922.761583</td>\n",
       "      <td>22.000000</td>\n",
       "      <td>42.000000</td>\n",
       "      <td>2.000000</td>\n",
       "      <td>31.00000</td>\n",
       "      <td>Default</td>\n",
       "    </tr>\n",
       "    <tr>\n",
       "      <th>29998</th>\n",
       "      <td>8.0</td>\n",
       "      <td>41</td>\n",
       "      <td>-1645.0</td>\n",
       "      <td>78379.0</td>\n",
       "      <td>7634.0</td>\n",
       "      <td>52774.00000</td>\n",
       "      <td>11855.000000</td>\n",
       "      <td>48944.000000</td>\n",
       "      <td>859.000000</td>\n",
       "      <td>349.000000</td>\n",
       "      <td>1178.000000</td>\n",
       "      <td>1926.000000</td>\n",
       "      <td>52964.000000</td>\n",
       "      <td>184.00000</td>\n",
       "      <td>Default</td>\n",
       "    </tr>\n",
       "    <tr>\n",
       "      <th>29999</th>\n",
       "      <td>5.0</td>\n",
       "      <td>46</td>\n",
       "      <td>47929.0</td>\n",
       "      <td>4895.0</td>\n",
       "      <td>49764.0</td>\n",
       "      <td>36535.00000</td>\n",
       "      <td>32428.000000</td>\n",
       "      <td>15313.000000</td>\n",
       "      <td>278.000000</td>\n",
       "      <td>18.000000</td>\n",
       "      <td>143.000000</td>\n",
       "      <td>1.000000</td>\n",
       "      <td>1.000000</td>\n",
       "      <td>1.00000</td>\n",
       "      <td>Default</td>\n",
       "    </tr>\n",
       "  </tbody>\n",
       "</table>\n",
       "<p>30000 rows × 15 columns</p>\n",
       "</div>"
      ],
      "text/plain": [
       "       LIMIT_BAL  AGE  BILL_AMT1  BILL_AMT2  BILL_AMT3    BILL_AMT4  \\\n",
       "0            2.0   24     3913.0      312.0      689.0  30709.50416   \n",
       "1           12.0   26     2682.0     1725.0     2682.0   3272.00000   \n",
       "2            9.0   34    29239.0     1427.0    13559.0  14331.00000   \n",
       "3            5.0   37     4699.0    48233.0    49291.0  28314.00000   \n",
       "4            5.0   57     8617.0      567.0    35835.0    294.00000   \n",
       "...          ...  ...        ...        ...        ...          ...   \n",
       "29995       22.0   39   188948.0   192815.0    28365.0    884.00000   \n",
       "29996       15.0   43     1683.0     1828.0      352.0   8979.00000   \n",
       "29997        3.0   37     3565.0     3356.0     2758.0   2878.00000   \n",
       "29998        8.0   41    -1645.0    78379.0     7634.0  52774.00000   \n",
       "29999        5.0   46    47929.0     4895.0    49764.0  36535.00000   \n",
       "\n",
       "          BILL_AMT5     BILL_AMT6     PAY_AMT1      PAY_AMT2     PAY_AMT3  \\\n",
       "0      29015.123424  28526.276559  2613.957537    689.000000  2584.508988   \n",
       "1       3455.000000   3261.000000  2613.957537      1.000000     1.000000   \n",
       "2      14948.000000  15549.000000  1518.000000     15.000000     1.000000   \n",
       "3      28959.000000  29547.000000     2.000000    219.000000    12.000000   \n",
       "4      19146.000000  19131.000000     2.000000  36681.000000     1.000000   \n",
       "...             ...           ...          ...           ...          ...   \n",
       "29995  31237.000000   1598.000000    85.000000      2.000000    53.000000   \n",
       "29996    519.000000  28526.276559  1837.000000   3526.000000  8998.000000   \n",
       "29997   2582.000000  19357.000000  2613.957537   2922.761583    22.000000   \n",
       "29998  11855.000000  48944.000000   859.000000    349.000000  1178.000000   \n",
       "29999  32428.000000  15313.000000   278.000000     18.000000   143.000000   \n",
       "\n",
       "          PAY_AMT4      PAY_AMT5    PAY_AMT6 Default Status  \n",
       "0      2250.186122   2300.375885  2608.76576        Default  \n",
       "1         1.000000   2300.375885     2.00000        Default  \n",
       "2         1.000000      1.000000     5.00000    Not Default  \n",
       "3        11.000000    169.000000     1.00000    Not Default  \n",
       "4         9.000000    689.000000   679.00000    Not Default  \n",
       "...            ...           ...         ...            ...  \n",
       "29995   347.000000      5.000000     1.00000    Not Default  \n",
       "29996   129.000000   2300.375885  2608.76576    Not Default  \n",
       "29997    42.000000      2.000000    31.00000        Default  \n",
       "29998  1926.000000  52964.000000   184.00000        Default  \n",
       "29999     1.000000      1.000000     1.00000        Default  \n",
       "\n",
       "[30000 rows x 15 columns]"
      ]
     },
     "execution_count": 15,
     "metadata": {},
     "output_type": "execute_result"
    }
   ],
   "source": [
    "df"
   ]
  },
  {
   "cell_type": "markdown",
   "id": "71614f2c",
   "metadata": {},
   "source": [
    "### Box Plot of Limit Bal"
   ]
  },
  {
   "cell_type": "code",
   "execution_count": 16,
   "id": "2de453b2",
   "metadata": {},
   "outputs": [
    {
     "data": {
      "text/plain": [
       "<AxesSubplot:xlabel='LIMIT_BAL'>"
      ]
     },
     "execution_count": 16,
     "metadata": {},
     "output_type": "execute_result"
    },
    {
     "data": {
      "image/png": "[encoded data removed]",
      "text/plain": [
       "<Figure size 432x288 with 1 Axes>"
      ]
     },
     "metadata": {
      "needs_background": "light"
     },
     "output_type": "display_data"
    }
   ],
   "source": [
    "sns.boxplot(data=df,x='LIMIT_BAL')"
   ]
  },
  {
   "cell_type": "markdown",
   "id": "217377f2",
   "metadata": {},
   "source": [
    "### Boxplot of Age"
   ]
  },
  {
   "cell_type": "code",
   "execution_count": 17,
   "id": "104a1489",
   "metadata": {},
   "outputs": [
    {
     "data": {
      "text/plain": [
       "<AxesSubplot:xlabel='AGE'>"
      ]
     },
     "execution_count": 17,
     "metadata": {},
     "output_type": "execute_result"
    },
    {
     "data": {
      "image/png": "[encoded data removed]",
      "text/plain": [
       "<Figure size 432x288 with 1 Axes>"
      ]
     },
     "metadata": {
      "needs_background": "light"
     },
     "output_type": "display_data"
    }
   ],
   "source": [
    "sns.boxplot('AGE',data=df)"
   ]
  },
  {
   "cell_type": "markdown",
   "id": "acb67c47",
   "metadata": {},
   "source": [
    "## LabelEncoding"
   ]
  },
  {
   "cell_type": "code",
   "execution_count": 18,
   "id": "09a34650",
   "metadata": {},
   "outputs": [],
   "source": [
    "from sklearn.preprocessing import LabelEncoder,RobustScaler\n",
    "from sklearn.model_selection import train_test_split\n",
    "from sklearn.metrics import classification_report,confusion_matrix,precision_score,recall_score"
   ]
  },
  {
   "cell_type": "code",
   "execution_count": 19,
   "id": "04e8b9f3",
   "metadata": {},
   "outputs": [],
   "source": [
    "le=LabelEncoder()"
   ]
  },
  {
   "cell_type": "code",
   "execution_count": 20,
   "id": "e7e19aa0",
   "metadata": {},
   "outputs": [],
   "source": [
    "df['Default Status']=le.fit_transform(df['Default Status'])"
   ]
  },
  {
   "cell_type": "markdown",
   "id": "7ccb71fc",
   "metadata": {},
   "source": [
    "### Defining Objects For Features and Target"
   ]
  },
  {
   "cell_type": "code",
   "execution_count": 21,
   "id": "2fe773d3",
   "metadata": {},
   "outputs": [],
   "source": [
    "features=df.drop(['Default Status'],axis=1)"
   ]
  },
  {
   "cell_type": "code",
   "execution_count": 22,
   "id": "a93e3128",
   "metadata": {},
   "outputs": [],
   "source": [
    "target=df['Default Status']"
   ]
  },
  {
   "cell_type": "code",
   "execution_count": 23,
   "id": "5f4809e2",
   "metadata": {},
   "outputs": [
    {
     "data": {
      "text/plain": [
       "1    23364\n",
       "0     6636\n",
       "Name: Default Status, dtype: int64"
      ]
     },
     "execution_count": 23,
     "metadata": {},
     "output_type": "execute_result"
    }
   ],
   "source": [
    "target.value_counts()"
   ]
  },
  {
   "cell_type": "markdown",
   "id": "a6343435",
   "metadata": {},
   "source": [
    "### Scaling"
   ]
  },
  {
   "cell_type": "code",
   "execution_count": 24,
   "id": "0d971268",
   "metadata": {},
   "outputs": [],
   "source": [
    "roscaler=RobustScaler()"
   ]
  },
  {
   "cell_type": "code",
   "execution_count": 25,
   "id": "2757b409",
   "metadata": {},
   "outputs": [],
   "source": [
    "col=features.columns"
   ]
  },
  {
   "cell_type": "code",
   "execution_count": 26,
   "id": "a25af7a1",
   "metadata": {},
   "outputs": [],
   "source": [
    "features=roscaler.fit_transform(features)"
   ]
  },
  {
   "cell_type": "code",
   "execution_count": 27,
   "id": "134a4b04",
   "metadata": {},
   "outputs": [],
   "source": [
    "features=pd.DataFrame(features,columns=col)"
   ]
  },
  {
   "cell_type": "markdown",
   "id": "c1e4388d",
   "metadata": {},
   "source": [
    "### Splitting Data"
   ]
  },
  {
   "cell_type": "code",
   "execution_count": 28,
   "id": "7a65e5bf",
   "metadata": {},
   "outputs": [],
   "source": [
    "features_train,features_test,target_train,target_test=train_test_split(features,target,test_size=0.2,random_state=22)"
   ]
  },
  {
   "cell_type": "markdown",
   "id": "f489a879",
   "metadata": {},
   "source": [
    "### Calling Model"
   ]
  },
  {
   "cell_type": "code",
   "execution_count": 29,
   "id": "26c42c2e",
   "metadata": {},
   "outputs": [],
   "source": [
    "from sklearn.naive_bayes import GaussianNB"
   ]
  },
  {
   "cell_type": "code",
   "execution_count": 30,
   "id": "d8221997",
   "metadata": {},
   "outputs": [],
   "source": [
    "model=GaussianNB()"
   ]
  },
  {
   "cell_type": "code",
   "execution_count": 31,
   "id": "ce9edefc",
   "metadata": {},
   "outputs": [
    {
     "data": {
      "text/plain": [
       "GaussianNB()"
      ]
     },
     "execution_count": 31,
     "metadata": {},
     "output_type": "execute_result"
    }
   ],
   "source": [
    "model.fit(features_train,target_train)"
   ]
  },
  {
   "cell_type": "code",
   "execution_count": 32,
   "id": "17d3dda2",
   "metadata": {},
   "outputs": [],
   "source": [
    "predicted=model.predict(features_test)"
   ]
  },
  {
   "cell_type": "markdown",
   "id": "ded2f068",
   "metadata": {},
   "source": [
    "### Getting Accuracy Score,Classification Report,Confusion Matrix,Precision And Recall Score"
   ]
  },
  {
   "cell_type": "code",
   "execution_count": 33,
   "id": "1c46b22e",
   "metadata": {},
   "outputs": [
    {
     "data": {
      "text/plain": [
       "0.7569166666666667"
      ]
     },
     "execution_count": 33,
     "metadata": {},
     "output_type": "execute_result"
    }
   ],
   "source": [
    "model.score(features_train,target_train)"
   ]
  },
  {
   "cell_type": "code",
   "execution_count": 34,
   "id": "00c962f5",
   "metadata": {},
   "outputs": [
    {
     "data": {
      "text/plain": [
       "0.767"
      ]
     },
     "execution_count": 34,
     "metadata": {},
     "output_type": "execute_result"
    }
   ],
   "source": [
    "model.score(features_test,target_test)"
   ]
  },
  {
   "cell_type": "code",
   "execution_count": 35,
   "id": "867d68ad",
   "metadata": {},
   "outputs": [
    {
     "data": {
      "text/plain": [
       "0.784639069449196"
      ]
     },
     "execution_count": 35,
     "metadata": {},
     "output_type": "execute_result"
    }
   ],
   "source": [
    "precision_score(target_test,predicted)"
   ]
  },
  {
   "cell_type": "code",
   "execution_count": 36,
   "id": "04a49875",
   "metadata": {},
   "outputs": [
    {
     "data": {
      "text/plain": [
       "0.9705882352941176"
      ]
     },
     "execution_count": 36,
     "metadata": {},
     "output_type": "execute_result"
    }
   ],
   "source": [
    "recall_score(target_test,predicted)"
   ]
  },
  {
   "cell_type": "code",
   "execution_count": 37,
   "id": "79a2d8e3",
   "metadata": {},
   "outputs": [
    {
     "name": "stdout",
     "output_type": "stream",
     "text": [
      "              precision    recall  f1-score   support\n",
      "\n",
      "           0       0.10      0.01      0.02      1274\n",
      "           1       0.78      0.97      0.87      4726\n",
      "\n",
      "    accuracy                           0.77      6000\n",
      "   macro avg       0.44      0.49      0.44      6000\n",
      "weighted avg       0.64      0.77      0.69      6000\n",
      "\n"
     ]
    }
   ],
   "source": [
    "print(classification_report(target_test,predicted))"
   ]
  },
  {
   "cell_type": "code",
   "execution_count": 38,
   "id": "838df6d5",
   "metadata": {
    "scrolled": false
   },
   "outputs": [
    {
     "data": {
      "text/plain": [
       "<AxesSubplot:>"
      ]
     },
     "execution_count": 38,
     "metadata": {},
     "output_type": "execute_result"
    },
    {
     "data": {
      "image/png": "[encoded data removed]",
      "text/plain": [
       "<Figure size 432x288 with 2 Axes>"
      ]
     },
     "metadata": {
      "needs_background": "light"
     },
     "output_type": "display_data"
    }
   ],
   "source": [
    "sns.heatmap(confusion_matrix(target_test,predicted),annot=True,fmt='d')"
   ]
  },
  {
   "cell_type": "markdown",
   "id": "040bc1dc",
   "metadata": {},
   "source": [
    "## Applying all Algorithm"
   ]
  },
  {
   "cell_type": "code",
   "execution_count": 39,
   "id": "93a254c5",
   "metadata": {},
   "outputs": [],
   "source": [
    "from sklearn.linear_model import LogisticRegression,SGDClassifier\n",
    "from sklearn.tree import DecisionTreeClassifier\n",
    "from sklearn.ensemble import RandomForestClassifier, GradientBoostingClassifier,AdaBoostClassifier\n",
    "from sklearn.neighbors import KNeighborsClassifier\n",
    "from sklearn.svm import SVC\n",
    "from sklearn.naive_bayes import GaussianNB\n",
    "from sklearn.discriminant_analysis import LinearDiscriminantAnalysis, QuadraticDiscriminantAnalysis"
   ]
  },
  {
   "cell_type": "code",
   "execution_count": 40,
   "id": "62a5a4ef",
   "metadata": {},
   "outputs": [],
   "source": [
    "models={'lr':LogisticRegression(),\n",
    "        'sg':SGDClassifier(),\n",
    "        'tree':DecisionTreeClassifier(),\n",
    "        'rf':RandomForestClassifier(),\n",
    "        'gb':GradientBoostingClassifier(),\n",
    "        'knn':KNeighborsClassifier(),\n",
    "        'svm':SVC(),\n",
    "        'ad':AdaBoostClassifier(),\n",
    "        'nb':GaussianNB(),\n",
    "        'lda':LinearDiscriminantAnalysis(),\n",
    "        'qda':QuadraticDiscriminantAnalysis()\n",
    "       }"
   ]
  },
  {
   "cell_type": "code",
   "execution_count": 41,
   "id": "6185aabd",
   "metadata": {
    "scrolled": false
   },
   "outputs": [
    {
     "name": "stdout",
     "output_type": "stream",
     "text": [
      "lr confuion matrix: \n",
      " [[   0 1274]\n",
      " [   0 4726]]\n",
      "lr accuracy score: 0.7876666666666666\n",
      "lr precision score: 0.7876666666666666\n",
      "lr recall score: 1.0\n",
      "lr classification report :\n",
      "               precision    recall  f1-score   support\n",
      "\n",
      "           0       0.00      0.00      0.00      1274\n",
      "           1       0.79      1.00      0.88      4726\n",
      "\n",
      "    accuracy                           0.79      6000\n",
      "   macro avg       0.39      0.50      0.44      6000\n",
      "weighted avg       0.62      0.79      0.69      6000\n",
      "\n",
      "\n",
      "\n",
      "sg confuion matrix: \n",
      " [[ 131 1143]\n",
      " [ 475 4251]]\n",
      "sg accuracy score: 0.7303333333333333\n",
      "sg precision score: 0.7880978865406006\n",
      "sg recall score: 0.899492170969107\n",
      "sg classification report :\n",
      "               precision    recall  f1-score   support\n",
      "\n",
      "           0       0.22      0.10      0.14      1274\n",
      "           1       0.79      0.90      0.84      4726\n",
      "\n",
      "    accuracy                           0.73      6000\n",
      "   macro avg       0.50      0.50      0.49      6000\n",
      "weighted avg       0.67      0.73      0.69      6000\n",
      "\n",
      "\n",
      "\n",
      "tree confuion matrix: \n",
      " [[ 423  851]\n",
      " [1072 3654]]\n",
      "tree accuracy score: 0.6795\n",
      "tree precision score: 0.8110987791342952\n",
      "tree recall score: 0.7731696995344901\n",
      "tree classification report :\n",
      "               precision    recall  f1-score   support\n",
      "\n",
      "           0       0.28      0.33      0.31      1274\n",
      "           1       0.81      0.77      0.79      4726\n",
      "\n",
      "    accuracy                           0.68      6000\n",
      "   macro avg       0.55      0.55      0.55      6000\n",
      "weighted avg       0.70      0.68      0.69      6000\n",
      "\n",
      "\n",
      "\n",
      "rf confuion matrix: \n",
      " [[ 151 1123]\n",
      " [ 157 4569]]\n",
      "rf accuracy score: 0.7866666666666666\n",
      "rf precision score: 0.8027055516514406\n",
      "rf recall score: 0.9667795175624206\n",
      "rf classification report :\n",
      "               precision    recall  f1-score   support\n",
      "\n",
      "           0       0.49      0.12      0.19      1274\n",
      "           1       0.80      0.97      0.88      4726\n",
      "\n",
      "    accuracy                           0.79      6000\n",
      "   macro avg       0.65      0.54      0.53      6000\n",
      "weighted avg       0.74      0.79      0.73      6000\n",
      "\n",
      "\n",
      "\n",
      "gb confuion matrix: \n",
      " [[  84 1190]\n",
      " [  36 4690]]\n",
      "gb accuracy score: 0.7956666666666666\n",
      "gb precision score: 0.7976190476190477\n",
      "gb recall score: 0.992382564536606\n",
      "gb classification report :\n",
      "               precision    recall  f1-score   support\n",
      "\n",
      "           0       0.70      0.07      0.12      1274\n",
      "           1       0.80      0.99      0.88      4726\n",
      "\n",
      "    accuracy                           0.80      6000\n",
      "   macro avg       0.75      0.53      0.50      6000\n",
      "weighted avg       0.78      0.80      0.72      6000\n",
      "\n",
      "\n",
      "\n",
      "knn confuion matrix: \n",
      " [[ 212 1062]\n",
      " [ 434 4292]]\n",
      "knn accuracy score: 0.7506666666666667\n",
      "knn precision score: 0.8016436309301457\n",
      "knn recall score: 0.9081675835801947\n",
      "knn classification report :\n",
      "               precision    recall  f1-score   support\n",
      "\n",
      "           0       0.33      0.17      0.22      1274\n",
      "           1       0.80      0.91      0.85      4726\n",
      "\n",
      "    accuracy                           0.75      6000\n",
      "   macro avg       0.56      0.54      0.54      6000\n",
      "weighted avg       0.70      0.75      0.72      6000\n",
      "\n",
      "\n",
      "\n",
      "svm confuion matrix: \n",
      " [[   0 1274]\n",
      " [   0 4726]]\n",
      "svm accuracy score: 0.7876666666666666\n",
      "svm precision score: 0.7876666666666666\n",
      "svm recall score: 1.0\n",
      "svm classification report :\n",
      "               precision    recall  f1-score   support\n",
      "\n",
      "           0       0.00      0.00      0.00      1274\n",
      "           1       0.79      1.00      0.88      4726\n",
      "\n",
      "    accuracy                           0.79      6000\n",
      "   macro avg       0.39      0.50      0.44      6000\n",
      "weighted avg       0.62      0.79      0.69      6000\n",
      "\n",
      "\n",
      "\n",
      "ad confuion matrix: \n",
      " [[  64 1210]\n",
      " [  28 4698]]\n",
      "ad accuracy score: 0.7936666666666666\n",
      "ad precision score: 0.7951929587000677\n",
      "ad recall score: 0.9940753279729158\n",
      "ad classification report :\n",
      "               precision    recall  f1-score   support\n",
      "\n",
      "           0       0.70      0.05      0.09      1274\n",
      "           1       0.80      0.99      0.88      4726\n",
      "\n",
      "    accuracy                           0.79      6000\n",
      "   macro avg       0.75      0.52      0.49      6000\n",
      "weighted avg       0.77      0.79      0.72      6000\n",
      "\n",
      "\n",
      "\n",
      "nb confuion matrix: \n",
      " [[  15 1259]\n",
      " [ 139 4587]]\n",
      "nb accuracy score: 0.767\n",
      "nb precision score: 0.784639069449196\n",
      "nb recall score: 0.9705882352941176\n",
      "nb classification report :\n",
      "               precision    recall  f1-score   support\n",
      "\n",
      "           0       0.10      0.01      0.02      1274\n",
      "           1       0.78      0.97      0.87      4726\n",
      "\n",
      "    accuracy                           0.77      6000\n",
      "   macro avg       0.44      0.49      0.44      6000\n",
      "weighted avg       0.64      0.77      0.69      6000\n",
      "\n",
      "\n",
      "\n",
      "lda confuion matrix: \n",
      " [[   0 1274]\n",
      " [   0 4726]]\n",
      "lda accuracy score: 0.7876666666666666\n",
      "lda precision score: 0.7876666666666666\n",
      "lda recall score: 1.0\n",
      "lda classification report :\n",
      "               precision    recall  f1-score   support\n",
      "\n",
      "           0       0.00      0.00      0.00      1274\n",
      "           1       0.79      1.00      0.88      4726\n",
      "\n",
      "    accuracy                           0.79      6000\n",
      "   macro avg       0.39      0.50      0.44      6000\n",
      "weighted avg       0.62      0.79      0.69      6000\n",
      "\n",
      "\n",
      "\n",
      "qda confuion matrix: \n",
      " [[  34 1240]\n",
      " [ 192 4534]]\n",
      "qda accuracy score: 0.7613333333333333\n",
      "qda precision score: 0.7852441981295463\n",
      "qda recall score: 0.9593736775285654\n",
      "qda classification report :\n",
      "               precision    recall  f1-score   support\n",
      "\n",
      "           0       0.15      0.03      0.05      1274\n",
      "           1       0.79      0.96      0.86      4726\n",
      "\n",
      "    accuracy                           0.76      6000\n",
      "   macro avg       0.47      0.49      0.45      6000\n",
      "weighted avg       0.65      0.76      0.69      6000\n",
      "\n",
      "\n",
      "\n"
     ]
    }
   ],
   "source": [
    "for name, model in models.items():\n",
    "    model1=model.fit(features_train,target_train)\n",
    "    y_pred = model1.predict(features_test)\n",
    "    print(f\"{name} confuion matrix: \\n {confusion_matrix(target_test,y_pred)}\") \n",
    "    print(f'{name} accuracy score: {model1.score(features_test,target_test)}')\n",
    "    print(f'{name} precision score: {precision_score(target_test,y_pred)}')\n",
    "    print(f'{name} recall score: {recall_score(target_test,y_pred)}')\n",
    "    print(f'{name} classification report :\\n {classification_report(target_test,y_pred)}\\n\\n')"
   ]
  },
  {
   "cell_type": "markdown",
   "id": "37525d80",
   "metadata": {},
   "source": [
    "## Random forest,Knn and SGDCClassifire gives est Accuracy"
   ]
  }
 ],
 "metadata": {
  "kernelspec": {
   "display_name": "Python 3 (ipykernel)",
   "language": "python",
   "name": "python3"
  },
  "language_info": {
   "codemirror_mode": {
    "name": "ipython",
    "version": 3
   },
   "file_extension": ".py",
   "mimetype": "text/x-python",
   "name": "python",
   "nbconvert_exporter": "python",
   "pygments_lexer": "ipython3",
   "version": "3.9.7"
  }
 },
 "nbformat": 4,
 "nbformat_minor": 5
}
