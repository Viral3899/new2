{
 "cells": [
  {
   "cell_type": "markdown",
   "id": "320a0fe0",
   "metadata": {},
   "source": [
    "# Loan Application Risk"
   ]
  },
  {
   "cell_type": "markdown",
   "id": "18d06082",
   "metadata": {},
   "source": [
    "# Importing Libraries"
   ]
  },
  {
   "cell_type": "code",
   "execution_count": 1,
   "id": "75349113",
   "metadata": {},
   "outputs": [],
   "source": [
    "import pandas as pd\n",
    "import numpy as np\n",
    "import matplotlib.pyplot as plt\n",
    "%matplotlib inline\n",
    "import seaborn as sns\n",
    "import warnings \n",
    "warnings.filterwarnings('ignore')\n",
    "plt.rcParams[\"figure.figsize\"]=(20,10)"
   ]
  },
  {
   "cell_type": "markdown",
   "id": "ed5b345a",
   "metadata": {},
   "source": [
    "## Reading Dataset"
   ]
  },
  {
   "cell_type": "code",
   "execution_count": 2,
   "id": "f3eee857",
   "metadata": {},
   "outputs": [],
   "source": [
    "df=pd.read_excel('ML7 KNN Loan Appplicant Risk.xlsx')"
   ]
  },
  {
   "cell_type": "code",
   "execution_count": 3,
   "id": "e21eb32d",
   "metadata": {
    "scrolled": true
   },
   "outputs": [
    {
     "data": {
      "text/html": [
       "<div>\n",
       "<style scoped>\n",
       "    .dataframe tbody tr th:only-of-type {\n",
       "        vertical-align: middle;\n",
       "    }\n",
       "\n",
       "    .dataframe tbody tr th {\n",
       "        vertical-align: top;\n",
       "    }\n",
       "\n",
       "    .dataframe thead th {\n",
       "        text-align: right;\n",
       "    }\n",
       "</style>\n",
       "<table border=\"1\" class=\"dataframe\">\n",
       "  <thead>\n",
       "    <tr style=\"text-align: right;\">\n",
       "      <th></th>\n",
       "      <th>Age</th>\n",
       "      <th>Total Work Experience</th>\n",
       "      <th>Number of years in city</th>\n",
       "      <th>Cost to Request Ratio</th>\n",
       "      <th>Cibil score</th>\n",
       "      <th>Overdrafts past12months</th>\n",
       "      <th>Total bounces past12months</th>\n",
       "    </tr>\n",
       "  </thead>\n",
       "  <tbody>\n",
       "    <tr>\n",
       "      <th>0</th>\n",
       "      <td>40.50</td>\n",
       "      <td>2</td>\n",
       "      <td>6</td>\n",
       "      <td>0.842666</td>\n",
       "      <td>594</td>\n",
       "      <td>0</td>\n",
       "      <td>0</td>\n",
       "    </tr>\n",
       "    <tr>\n",
       "      <th>1</th>\n",
       "      <td>41.25</td>\n",
       "      <td>5</td>\n",
       "      <td>2</td>\n",
       "      <td>0.791667</td>\n",
       "      <td>754</td>\n",
       "      <td>0</td>\n",
       "      <td>0</td>\n",
       "    </tr>\n",
       "    <tr>\n",
       "      <th>2</th>\n",
       "      <td>39.50</td>\n",
       "      <td>5</td>\n",
       "      <td>2</td>\n",
       "      <td>0.727273</td>\n",
       "      <td>779</td>\n",
       "      <td>0</td>\n",
       "      <td>0</td>\n",
       "    </tr>\n",
       "    <tr>\n",
       "      <th>3</th>\n",
       "      <td>35.00</td>\n",
       "      <td>1</td>\n",
       "      <td>4</td>\n",
       "      <td>0.820232</td>\n",
       "      <td>818</td>\n",
       "      <td>0</td>\n",
       "      <td>0</td>\n",
       "    </tr>\n",
       "    <tr>\n",
       "      <th>4</th>\n",
       "      <td>34.00</td>\n",
       "      <td>3</td>\n",
       "      <td>3</td>\n",
       "      <td>0.455581</td>\n",
       "      <td>853</td>\n",
       "      <td>0</td>\n",
       "      <td>1</td>\n",
       "    </tr>\n",
       "  </tbody>\n",
       "</table>\n",
       "</div>"
      ],
      "text/plain": [
       "     Age  Total Work Experience  Number of years in city  \\\n",
       "0  40.50                      2                        6   \n",
       "1  41.25                      5                        2   \n",
       "2  39.50                      5                        2   \n",
       "3  35.00                      1                        4   \n",
       "4  34.00                      3                        3   \n",
       "\n",
       "   Cost to Request Ratio  Cibil score  Overdrafts past12months  \\\n",
       "0               0.842666          594                        0   \n",
       "1               0.791667          754                        0   \n",
       "2               0.727273          779                        0   \n",
       "3               0.820232          818                        0   \n",
       "4               0.455581          853                        0   \n",
       "\n",
       "   Total bounces past12months  \n",
       "0                           0  \n",
       "1                           0  \n",
       "2                           0  \n",
       "3                           0  \n",
       "4                           1  "
      ]
     },
     "execution_count": 3,
     "metadata": {},
     "output_type": "execute_result"
    }
   ],
   "source": [
    "df.head()"
   ]
  },
  {
   "cell_type": "markdown",
   "id": "43ddc04a",
   "metadata": {},
   "source": [
    "### Getting Basic Statistics"
   ]
  },
  {
   "cell_type": "code",
   "execution_count": 4,
   "id": "e4da405a",
   "metadata": {},
   "outputs": [
    {
     "data": {
      "text/html": [
       "<div>\n",
       "<style scoped>\n",
       "    .dataframe tbody tr th:only-of-type {\n",
       "        vertical-align: middle;\n",
       "    }\n",
       "\n",
       "    .dataframe tbody tr th {\n",
       "        vertical-align: top;\n",
       "    }\n",
       "\n",
       "    .dataframe thead th {\n",
       "        text-align: right;\n",
       "    }\n",
       "</style>\n",
       "<table border=\"1\" class=\"dataframe\">\n",
       "  <thead>\n",
       "    <tr style=\"text-align: right;\">\n",
       "      <th></th>\n",
       "      <th>Age</th>\n",
       "      <th>Total Work Experience</th>\n",
       "      <th>Number of years in city</th>\n",
       "      <th>Cost to Request Ratio</th>\n",
       "      <th>Cibil score</th>\n",
       "      <th>Overdrafts past12months</th>\n",
       "      <th>Total bounces past12months</th>\n",
       "    </tr>\n",
       "  </thead>\n",
       "  <tbody>\n",
       "    <tr>\n",
       "      <th>count</th>\n",
       "      <td>8995.000000</td>\n",
       "      <td>8995.000000</td>\n",
       "      <td>8995.000000</td>\n",
       "      <td>8995.000000</td>\n",
       "      <td>8995.000000</td>\n",
       "      <td>8995.000000</td>\n",
       "      <td>8995.000000</td>\n",
       "    </tr>\n",
       "    <tr>\n",
       "      <th>mean</th>\n",
       "      <td>38.808202</td>\n",
       "      <td>2.131073</td>\n",
       "      <td>4.288160</td>\n",
       "      <td>0.831183</td>\n",
       "      <td>752.626570</td>\n",
       "      <td>0.322068</td>\n",
       "      <td>1.162757</td>\n",
       "    </tr>\n",
       "    <tr>\n",
       "      <th>std</th>\n",
       "      <td>10.203371</td>\n",
       "      <td>0.892141</td>\n",
       "      <td>1.269416</td>\n",
       "      <td>0.490216</td>\n",
       "      <td>67.645792</td>\n",
       "      <td>0.914998</td>\n",
       "      <td>2.352798</td>\n",
       "    </tr>\n",
       "    <tr>\n",
       "      <th>min</th>\n",
       "      <td>18.100000</td>\n",
       "      <td>1.000000</td>\n",
       "      <td>1.000000</td>\n",
       "      <td>0.008466</td>\n",
       "      <td>351.000000</td>\n",
       "      <td>0.000000</td>\n",
       "      <td>0.000000</td>\n",
       "    </tr>\n",
       "    <tr>\n",
       "      <th>25%</th>\n",
       "      <td>30.830000</td>\n",
       "      <td>1.000000</td>\n",
       "      <td>3.000000</td>\n",
       "      <td>0.662147</td>\n",
       "      <td>730.000000</td>\n",
       "      <td>0.000000</td>\n",
       "      <td>0.000000</td>\n",
       "    </tr>\n",
       "    <tr>\n",
       "      <th>50%</th>\n",
       "      <td>37.200000</td>\n",
       "      <td>2.000000</td>\n",
       "      <td>4.000000</td>\n",
       "      <td>0.800000</td>\n",
       "      <td>768.000000</td>\n",
       "      <td>0.000000</td>\n",
       "      <td>0.000000</td>\n",
       "    </tr>\n",
       "    <tr>\n",
       "      <th>75%</th>\n",
       "      <td>45.400000</td>\n",
       "      <td>3.000000</td>\n",
       "      <td>5.000000</td>\n",
       "      <td>0.930908</td>\n",
       "      <td>797.000000</td>\n",
       "      <td>0.000000</td>\n",
       "      <td>1.000000</td>\n",
       "    </tr>\n",
       "    <tr>\n",
       "      <th>max</th>\n",
       "      <td>83.800000</td>\n",
       "      <td>5.000000</td>\n",
       "      <td>6.000000</td>\n",
       "      <td>12.006623</td>\n",
       "      <td>882.000000</td>\n",
       "      <td>12.000000</td>\n",
       "      <td>12.000000</td>\n",
       "    </tr>\n",
       "  </tbody>\n",
       "</table>\n",
       "</div>"
      ],
      "text/plain": [
       "               Age  Total Work Experience  Number of years in city  \\\n",
       "count  8995.000000            8995.000000              8995.000000   \n",
       "mean     38.808202               2.131073                 4.288160   \n",
       "std      10.203371               0.892141                 1.269416   \n",
       "min      18.100000               1.000000                 1.000000   \n",
       "25%      30.830000               1.000000                 3.000000   \n",
       "50%      37.200000               2.000000                 4.000000   \n",
       "75%      45.400000               3.000000                 5.000000   \n",
       "max      83.800000               5.000000                 6.000000   \n",
       "\n",
       "       Cost to Request Ratio  Cibil score  Overdrafts past12months  \\\n",
       "count            8995.000000  8995.000000              8995.000000   \n",
       "mean                0.831183   752.626570                 0.322068   \n",
       "std                 0.490216    67.645792                 0.914998   \n",
       "min                 0.008466   351.000000                 0.000000   \n",
       "25%                 0.662147   730.000000                 0.000000   \n",
       "50%                 0.800000   768.000000                 0.000000   \n",
       "75%                 0.930908   797.000000                 0.000000   \n",
       "max                12.006623   882.000000                12.000000   \n",
       "\n",
       "       Total bounces past12months  \n",
       "count                 8995.000000  \n",
       "mean                     1.162757  \n",
       "std                      2.352798  \n",
       "min                      0.000000  \n",
       "25%                      0.000000  \n",
       "50%                      0.000000  \n",
       "75%                      1.000000  \n",
       "max                     12.000000  "
      ]
     },
     "execution_count": 4,
     "metadata": {},
     "output_type": "execute_result"
    }
   ],
   "source": [
    "df.describe()"
   ]
  },
  {
   "cell_type": "markdown",
   "id": "2d8d211a",
   "metadata": {},
   "source": [
    "### Getting Informaion of Dataset"
   ]
  },
  {
   "cell_type": "code",
   "execution_count": 5,
   "id": "3c63c980",
   "metadata": {
    "scrolled": true
   },
   "outputs": [
    {
     "name": "stdout",
     "output_type": "stream",
     "text": [
      "<class 'pandas.core.frame.DataFrame'>\n",
      "RangeIndex: 8995 entries, 0 to 8994\n",
      "Data columns (total 7 columns):\n",
      " #   Column                      Non-Null Count  Dtype  \n",
      "---  ------                      --------------  -----  \n",
      " 0   Age                         8995 non-null   float64\n",
      " 1   Total Work Experience       8995 non-null   int64  \n",
      " 2   Number of years in city     8995 non-null   int64  \n",
      " 3   Cost to Request Ratio       8995 non-null   float64\n",
      " 4   Cibil score                 8995 non-null   int64  \n",
      " 5   Overdrafts past12months     8995 non-null   int64  \n",
      " 6   Total bounces past12months  8995 non-null   int64  \n",
      "dtypes: float64(2), int64(5)\n",
      "memory usage: 492.0 KB\n"
     ]
    }
   ],
   "source": [
    "df.info()"
   ]
  },
  {
   "cell_type": "code",
   "execution_count": 6,
   "id": "96ed3245",
   "metadata": {},
   "outputs": [
    {
     "data": {
      "text/plain": [
       "(8995, 7)"
      ]
     },
     "execution_count": 6,
     "metadata": {},
     "output_type": "execute_result"
    }
   ],
   "source": [
    "df.shape"
   ]
  },
  {
   "cell_type": "markdown",
   "id": "6dda5a75",
   "metadata": {},
   "source": [
    "### EDA"
   ]
  },
  {
   "cell_type": "code",
   "execution_count": 7,
   "id": "a2bedcb2",
   "metadata": {
    "scrolled": true
   },
   "outputs": [
    {
     "data": {
      "text/plain": [
       "Age                           0\n",
       "Total Work Experience         0\n",
       "Number of years in city       0\n",
       "Cost to Request Ratio         0\n",
       "Cibil score                   0\n",
       "Overdrafts past12months       0\n",
       "Total bounces past12months    0\n",
       "dtype: int64"
      ]
     },
     "execution_count": 7,
     "metadata": {},
     "output_type": "execute_result"
    }
   ],
   "source": [
    "df.isna().sum()"
   ]
  },
  {
   "cell_type": "markdown",
   "id": "9824d3a4",
   "metadata": {},
   "source": [
    "#### There is No null Values"
   ]
  },
  {
   "cell_type": "code",
   "execution_count": 8,
   "id": "51295c88",
   "metadata": {},
   "outputs": [
    {
     "data": {
      "text/plain": [
       "<matplotlib.collections.PathCollection at 0x1b02c85cc10>"
      ]
     },
     "execution_count": 8,
     "metadata": {},
     "output_type": "execute_result"
    },
    {
     "data": {
      "image/png": "[encoded data removed]",
      "text/plain": [
       "<Figure size 1440x720 with 1 Axes>"
      ]
     },
     "metadata": {
      "needs_background": "light"
     },
     "output_type": "display_data"
    }
   ],
   "source": [
    "plt.scatter(data=df,x='Age',y='Total Work Experience',color='yellowgreen')"
   ]
  },
  {
   "cell_type": "code",
   "execution_count": 9,
   "id": "eb4f8b00",
   "metadata": {},
   "outputs": [
    {
     "data": {
      "text/plain": [
       "<AxesSubplot:xlabel='Age'>"
      ]
     },
     "execution_count": 9,
     "metadata": {},
     "output_type": "execute_result"
    },
    {
     "data": {
      "image/png": "[encoded data removed]",
      "text/plain": [
       "<Figure size 1440x720 with 1 Axes>"
      ]
     },
     "metadata": {
      "needs_background": "light"
     },
     "output_type": "display_data"
    }
   ],
   "source": [
    "sns.boxplot(data=df,x='Age',palette='inferno')"
   ]
  },
  {
   "cell_type": "code",
   "execution_count": 10,
   "id": "4125f55c",
   "metadata": {},
   "outputs": [
    {
     "data": {
      "text/plain": [
       "<AxesSubplot:xlabel='Cibil score'>"
      ]
     },
     "execution_count": 10,
     "metadata": {},
     "output_type": "execute_result"
    },
    {
     "data": {
      "image/png": "[encoded data removed]",
      "text/plain": [
       "<Figure size 1440x720 with 1 Axes>"
      ]
     },
     "metadata": {
      "needs_background": "light"
     },
     "output_type": "display_data"
    }
   ],
   "source": [
    "sns.boxplot(data=df,x='Cibil score',color='y')"
   ]
  },
  {
   "cell_type": "markdown",
   "id": "d26d6034",
   "metadata": {},
   "source": [
    "### Defining Objects For Feature and Target"
   ]
  },
  {
   "cell_type": "code",
   "execution_count": 11,
   "id": "8626c362",
   "metadata": {},
   "outputs": [],
   "source": [
    "features=df.drop(['Total bounces past12months'],axis=1)"
   ]
  },
  {
   "cell_type": "code",
   "execution_count": 12,
   "id": "6a8e950f",
   "metadata": {
    "scrolled": true
   },
   "outputs": [],
   "source": [
    "target=df[\"Total bounces past12months\"]"
   ]
  },
  {
   "cell_type": "code",
   "execution_count": 13,
   "id": "9468e4f5",
   "metadata": {},
   "outputs": [],
   "source": [
    "from sklearn.preprocessing import RobustScaler\n",
    "from sklearn.model_selection import train_test_split\n",
    "from sklearn.neighbors import KNeighborsClassifier\n",
    "from sklearn.metrics import confusion_matrix,f1_score,precision_score,recall_score,accuracy_score,classification_report"
   ]
  },
  {
   "cell_type": "markdown",
   "id": "e9d95344",
   "metadata": {},
   "source": [
    "### Splitting Data"
   ]
  },
  {
   "cell_type": "code",
   "execution_count": 14,
   "id": "cbf89984",
   "metadata": {},
   "outputs": [],
   "source": [
    "features_train,features_test,target_train,target_test=train_test_split(features,target,test_size=0.2,random_state=10)"
   ]
  },
  {
   "cell_type": "markdown",
   "id": "54a9537d",
   "metadata": {},
   "source": [
    "### Calling Model"
   ]
  },
  {
   "cell_type": "code",
   "execution_count": 15,
   "id": "d034cd1e",
   "metadata": {},
   "outputs": [],
   "source": [
    "model=KNeighborsClassifier()"
   ]
  },
  {
   "cell_type": "code",
   "execution_count": 16,
   "id": "98b46015",
   "metadata": {},
   "outputs": [
    {
     "data": {
      "text/plain": [
       "KNeighborsClassifier()"
      ]
     },
     "execution_count": 16,
     "metadata": {},
     "output_type": "execute_result"
    }
   ],
   "source": [
    "model.fit(features_train,target_train)"
   ]
  },
  {
   "cell_type": "code",
   "execution_count": 17,
   "id": "4c67a28c",
   "metadata": {},
   "outputs": [],
   "source": [
    "predicted=model.predict(features_test)"
   ]
  },
  {
   "cell_type": "markdown",
   "id": "f789db8a",
   "metadata": {},
   "source": [
    "### Checking Accuracy,Confusion Matrix,Classification Report"
   ]
  },
  {
   "cell_type": "code",
   "execution_count": 18,
   "id": "b6cf4816",
   "metadata": {},
   "outputs": [
    {
     "data": {
      "text/plain": [
       "0.6823235130628127"
      ]
     },
     "execution_count": 18,
     "metadata": {},
     "output_type": "execute_result"
    }
   ],
   "source": [
    "model.score(features_train,target_train)"
   ]
  },
  {
   "cell_type": "code",
   "execution_count": 19,
   "id": "048b4de7",
   "metadata": {},
   "outputs": [
    {
     "data": {
      "text/plain": [
       "0.6309060589216231"
      ]
     },
     "execution_count": 19,
     "metadata": {},
     "output_type": "execute_result"
    }
   ],
   "source": [
    "model.score(features_test,target_test)"
   ]
  },
  {
   "cell_type": "code",
   "execution_count": 20,
   "id": "c9ffa4fc",
   "metadata": {},
   "outputs": [
    {
     "name": "stdout",
     "output_type": "stream",
     "text": [
      "              precision    recall  f1-score   support\n",
      "\n",
      "           0       0.66      0.96      0.78      1150\n",
      "           1       0.26      0.08      0.12       281\n",
      "           2       0.12      0.02      0.03       109\n",
      "           3       0.00      0.00      0.00        69\n",
      "           4       0.00      0.00      0.00        43\n",
      "           5       0.00      0.00      0.00        28\n",
      "           6       1.00      0.03      0.06        30\n",
      "           7       0.00      0.00      0.00        19\n",
      "           8       0.00      0.00      0.00        20\n",
      "           9       0.33      0.06      0.11        16\n",
      "          10       0.00      0.00      0.00        15\n",
      "          11       0.00      0.00      0.00        11\n",
      "          12       0.00      0.00      0.00         8\n",
      "\n",
      "    accuracy                           0.63      1799\n",
      "   macro avg       0.18      0.09      0.09      1799\n",
      "weighted avg       0.49      0.63      0.53      1799\n",
      "\n"
     ]
    }
   ],
   "source": [
    "print(classification_report(target_test,predicted))"
   ]
  },
  {
   "cell_type": "code",
   "execution_count": 21,
   "id": "b634f503",
   "metadata": {
    "scrolled": false
   },
   "outputs": [
    {
     "data": {
      "text/plain": [
       "<AxesSubplot:>"
      ]
     },
     "execution_count": 21,
     "metadata": {},
     "output_type": "execute_result"
    },
    {
     "data": {
      "image/png": "[encoded data removed]",
      "text/plain": [
       "<Figure size 1440x1440 with 2 Axes>"
      ]
     },
     "metadata": {
      "needs_background": "light"
     },
     "output_type": "display_data"
    }
   ],
   "source": [
    "plt.figure(figsize=(20,20))\n",
    "sns.heatmap(confusion_matrix(target_test,predicted),annot=True,fmt='d')"
   ]
  },
  {
   "cell_type": "code",
   "execution_count": 22,
   "id": "6ff6caf7",
   "metadata": {},
   "outputs": [
    {
     "name": "stdout",
     "output_type": "stream",
     "text": [
      "for value of k 1 accuracy is 0.5380767092829349\n",
      "for value of k 2 accuracy is 0.6309060589216231\n",
      "for value of k 3 accuracy is 0.6342412451361867\n",
      "for value of k 4 accuracy is 0.6436909394107838\n",
      "for value of k 5 accuracy is 0.651473040578099\n",
      "for value of k 6 accuracy is 0.6553640911617565\n",
      "for value of k 7 accuracy is 0.659811006114508\n",
      "for value of k 8 accuracy is 0.6575875486381323\n",
      "for value of k 9 accuracy is 0.6575875486381323\n",
      "for value of k 10 accuracy is 0.6592551417454141\n",
      "for value of k 11 accuracy is 0.6581434130072262\n",
      "for value of k 12 accuracy is 0.6581434130072262\n",
      "for value of k 13 accuracy is 0.6564758198999444\n",
      "for value of k 14 accuracy is 0.660366870483602\n",
      "for value of k 15 accuracy is 0.660366870483602\n",
      "for value of k 16 accuracy is 0.6592551417454141\n",
      "for value of k 17 accuracy is 0.6609227348526959\n",
      "for value of k 18 accuracy is 0.6625903279599777\n",
      "for value of k 19 accuracy is 0.6631461923290717\n",
      "for value of k 20 accuracy is 0.6637020566981656\n",
      "for value of k 21 accuracy is 0.6614785992217899\n",
      "for value of k 22 accuracy is 0.6642579210672596\n",
      "for value of k 23 accuracy is 0.6648137854363535\n",
      "for value of k 24 accuracy is 0.6642579210672596\n",
      "for value of k 25 accuracy is 0.6637020566981656\n",
      "for value of k 26 accuracy is 0.6648137854363535\n",
      "for value of k 27 accuracy is 0.6659255141745414\n",
      "for value of k 28 accuracy is 0.6653696498054474\n",
      "for value of k 29 accuracy is 0.6653696498054474\n",
      "for value of k 30 accuracy is 0.6653696498054474\n",
      "for value of k 31 accuracy is 0.6664813785436353\n",
      "for value of k 32 accuracy is 0.6670372429127293\n",
      "for value of k 33 accuracy is 0.6670372429127293\n",
      "for value of k 34 accuracy is 0.6653696498054474\n",
      "for value of k 35 accuracy is 0.6675931072818232\n",
      "for value of k 36 accuracy is 0.6670372429127293\n",
      "for value of k 37 accuracy is 0.6670372429127293\n",
      "for value of k 38 accuracy is 0.6670372429127293\n",
      "for value of k 39 accuracy is 0.6664813785436353\n",
      "for value of k 40 accuracy is 0.6670372429127293\n",
      "for value of k 41 accuracy is 0.6659255141745414\n",
      "for value of k 42 accuracy is 0.6659255141745414\n",
      "for value of k 43 accuracy is 0.6659255141745414\n",
      "for value of k 44 accuracy is 0.6670372429127293\n",
      "for value of k 45 accuracy is 0.6670372429127293\n",
      "for value of k 46 accuracy is 0.6670372429127293\n",
      "for value of k 47 accuracy is 0.6670372429127293\n",
      "for value of k 48 accuracy is 0.6670372429127293\n",
      "for value of k 49 accuracy is 0.6670372429127293\n",
      "for value of k 50 accuracy is 0.6670372429127293\n",
      "for value of k 51 accuracy is 0.6670372429127293\n",
      "for value of k 52 accuracy is 0.6670372429127293\n",
      "for value of k 53 accuracy is 0.6670372429127293\n",
      "for value of k 54 accuracy is 0.6670372429127293\n",
      "for value of k 55 accuracy is 0.6670372429127293\n",
      "for value of k 56 accuracy is 0.6670372429127293\n",
      "for value of k 57 accuracy is 0.6675931072818232\n",
      "for value of k 58 accuracy is 0.6670372429127293\n",
      "for value of k 59 accuracy is 0.6675931072818232\n",
      "for value of k 60 accuracy is 0.6670372429127293\n",
      "for value of k 61 accuracy is 0.6675931072818232\n",
      "for value of k 62 accuracy is 0.6670372429127293\n",
      "for value of k 63 accuracy is 0.6670372429127293\n",
      "for value of k 64 accuracy is 0.6675931072818232\n",
      "for value of k 65 accuracy is 0.6675931072818232\n",
      "for value of k 66 accuracy is 0.6675931072818232\n",
      "for value of k 67 accuracy is 0.6670372429127293\n",
      "for value of k 68 accuracy is 0.6675931072818232\n",
      "for value of k 69 accuracy is 0.6675931072818232\n"
     ]
    }
   ],
   "source": [
    "for i in range(1,70):\n",
    "    features_train,features_test,target_train,target_test=train_test_split(features,target,test_size=0.2,random_state=43)\n",
    "    model1=KNeighborsClassifier(i).fit(features_train,target_train)\n",
    "    print(f'for value of k {i} accuracy is {model1.score(features_test,target_test)}')"
   ]
  },
  {
   "cell_type": "markdown",
   "id": "cf4d944d",
   "metadata": {},
   "source": [
    "## Random State=43 &  n_neighbors=50 gives best accuracy"
   ]
  },
  {
   "cell_type": "markdown",
   "id": "aeb6c037",
   "metadata": {},
   "source": [
    "### Applying All the Algorithm"
   ]
  },
  {
   "cell_type": "code",
   "execution_count": 24,
   "id": "fb1d1dce",
   "metadata": {},
   "outputs": [],
   "source": [
    "from sklearn.linear_model import LogisticRegression,SGDClassifier\n",
    "from sklearn.tree import DecisionTreeClassifier\n",
    "from sklearn.ensemble import RandomForestClassifier, GradientBoostingClassifier,AdaBoostClassifier\n",
    "from sklearn.neighbors import KNeighborsClassifier\n",
    "from sklearn.svm import SVC\n",
    "from sklearn.naive_bayes import GaussianNB\n",
    "from sklearn.discriminant_analysis import LinearDiscriminantAnalysis, QuadraticDiscriminantAnalysis\n",
    "from xgboost import XGBClassifier"
   ]
  },
  {
   "cell_type": "code",
   "execution_count": 25,
   "id": "d8bbc41d",
   "metadata": {},
   "outputs": [],
   "source": [
    "models={\n",
    "        'lr':LogisticRegression(),\n",
    "        'sg':SGDClassifier(),\n",
    "        'tree':DecisionTreeClassifier(),\n",
    "        'rf':RandomForestClassifier(),\n",
    "        'gb':GradientBoostingClassifier(),\n",
    "        'knn':KNeighborsClassifier(),\n",
    "        'svm':SVC(),\n",
    "        'ad':AdaBoostClassifier(),\n",
    "        'nb':GaussianNB(),\n",
    "        'lda':LinearDiscriminantAnalysis(),\n",
    "        'qda':QuadraticDiscriminantAnalysis(),\n",
    "        'xgb':XGBClassifier()\n",
    "       }"
   ]
  },
  {
   "cell_type": "code",
   "execution_count": 26,
   "id": "616d31a4",
   "metadata": {
    "scrolled": false
   },
   "outputs": [
    {
     "name": "stdout",
     "output_type": "stream",
     "text": [
      "lr confuion matrix: \n",
      " [[1201    0    0    0    0    0    0    0    0    0    0    0    0]\n",
      " [ 231    0    0    0    0    0    0    0    0    0    0    0    0]\n",
      " [ 105    1    0    0    0    0    0    0    0    0    0    0    0]\n",
      " [  70    0    0    0    0    0    0    0    0    0    0    0    0]\n",
      " [  36    1    0    0    0    0    0    0    0    0    0    0    0]\n",
      " [  29    3    0    0    0    0    0    0    0    0    0    0    0]\n",
      " [  18    3    0    0    0    0    0    0    0    0    0    0    0]\n",
      " [  18    3    0    0    0    0    0    0    0    0    0    0    0]\n",
      " [  14    7    0    0    0    0    0    0    0    0    0    0    0]\n",
      " [  13    4    1    0    0    0    0    0    0    0    0    0    0]\n",
      " [  13    3    0    0    0    0    0    0    0    0    0    0    0]\n",
      " [   7    3    0    0    0    0    0    0    0    0    0    0    0]\n",
      " [   8    7    0    0    0    0    0    0    0    0    0    0    0]]\n",
      "lr accuracy score: 0.6675931072818232\n",
      "lr classification report :\n",
      "               precision    recall  f1-score   support\n",
      "\n",
      "           0       0.68      1.00      0.81      1201\n",
      "           1       0.00      0.00      0.00       231\n",
      "           2       0.00      0.00      0.00       106\n",
      "           3       0.00      0.00      0.00        70\n",
      "           4       0.00      0.00      0.00        37\n",
      "           5       0.00      0.00      0.00        32\n",
      "           6       0.00      0.00      0.00        21\n",
      "           7       0.00      0.00      0.00        21\n",
      "           8       0.00      0.00      0.00        21\n",
      "           9       0.00      0.00      0.00        18\n",
      "          10       0.00      0.00      0.00        16\n",
      "          11       0.00      0.00      0.00        10\n",
      "          12       0.00      0.00      0.00        15\n",
      "\n",
      "    accuracy                           0.67      1799\n",
      "   macro avg       0.05      0.08      0.06      1799\n",
      "weighted avg       0.45      0.67      0.54      1799\n",
      "\n",
      "\n",
      "sg confuion matrix: \n",
      " [[   0 1201    0    0    0    0    0    0    0    0    0    0    0]\n",
      " [   0  231    0    0    0    0    0    0    0    0    0    0    0]\n",
      " [   0  106    0    0    0    0    0    0    0    0    0    0    0]\n",
      " [   0   70    0    0    0    0    0    0    0    0    0    0    0]\n",
      " [   0   37    0    0    0    0    0    0    0    0    0    0    0]\n",
      " [   0   32    0    0    0    0    0    0    0    0    0    0    0]\n",
      " [   0   21    0    0    0    0    0    0    0    0    0    0    0]\n",
      " [   0   21    0    0    0    0    0    0    0    0    0    0    0]\n",
      " [   0   20    0    0    0    0    1    0    0    0    0    0    0]\n",
      " [   0   17    0    0    0    0    1    0    0    0    0    0    0]\n",
      " [   0   16    0    0    0    0    0    0    0    0    0    0    0]\n",
      " [   0    9    0    0    0    0    1    0    0    0    0    0    0]\n",
      " [   0   14    0    0    0    0    1    0    0    0    0    0    0]]\n",
      "sg accuracy score: 0.12840466926070038\n",
      "sg classification report :\n",
      "               precision    recall  f1-score   support\n",
      "\n",
      "           0       0.00      0.00      0.00      1201\n",
      "           1       0.13      1.00      0.23       231\n",
      "           2       0.00      0.00      0.00       106\n",
      "           3       0.00      0.00      0.00        70\n",
      "           4       0.00      0.00      0.00        37\n",
      "           5       0.00      0.00      0.00        32\n",
      "           6       0.00      0.00      0.00        21\n",
      "           7       0.00      0.00      0.00        21\n",
      "           8       0.00      0.00      0.00        21\n",
      "           9       0.00      0.00      0.00        18\n",
      "          10       0.00      0.00      0.00        16\n",
      "          11       0.00      0.00      0.00        10\n",
      "          12       0.00      0.00      0.00        15\n",
      "\n",
      "    accuracy                           0.13      1799\n",
      "   macro avg       0.01      0.08      0.02      1799\n",
      "weighted avg       0.02      0.13      0.03      1799\n",
      "\n",
      "\n",
      "tree confuion matrix: \n",
      " [[964 136  48  23   8   6   3   2   3   2   3   3   0]\n",
      " [ 96  58  27  14   9   6   5   7   2   2   1   2   2]\n",
      " [ 35  24  10   7   9   3   6   7   1   1   1   1   1]\n",
      " [ 15  16   9   9   4   4   2   6   0   2   1   1   1]\n",
      " [  8  13   5   3   1   1   1   0   1   1   2   1   0]\n",
      " [  7   7   2   2   2   3   3   4   0   2   0   0   0]\n",
      " [  2   6   3   1   2   0   1   2   2   1   0   1   0]\n",
      " [  2   2   6   0   2   0   1   0   2   3   1   2   0]\n",
      " [  2   3   3   2   1   0   0   0   3   3   2   2   0]\n",
      " [  1   2   2   1   1   1   0   1   2   1   3   3   0]\n",
      " [  1   4   1   2   0   1   3   0   0   2   0   1   1]\n",
      " [  0   0   1   1   2   0   1   0   0   1   1   2   1]\n",
      " [  0   1   2   2   1   0   1   0   3   2   0   2   1]]\n",
      "tree accuracy score: 0.58532518065592\n",
      "tree classification report :\n",
      "               precision    recall  f1-score   support\n",
      "\n",
      "           0       0.85      0.80      0.83      1201\n",
      "           1       0.21      0.25      0.23       231\n",
      "           2       0.08      0.09      0.09       106\n",
      "           3       0.13      0.13      0.13        70\n",
      "           4       0.02      0.03      0.03        37\n",
      "           5       0.12      0.09      0.11        32\n",
      "           6       0.04      0.05      0.04        21\n",
      "           7       0.00      0.00      0.00        21\n",
      "           8       0.16      0.14      0.15        21\n",
      "           9       0.04      0.06      0.05        18\n",
      "          10       0.00      0.00      0.00        16\n",
      "          11       0.10      0.20      0.13        10\n",
      "          12       0.14      0.07      0.09        15\n",
      "\n",
      "    accuracy                           0.59      1799\n",
      "   macro avg       0.15      0.15      0.14      1799\n",
      "weighted avg       0.61      0.59      0.60      1799\n",
      "\n",
      "\n",
      "rf confuion matrix: \n",
      " [[1181   15    2    2    0    0    0    0    0    1    0    0    0]\n",
      " [ 136   61   16    5    4    3    2    1    2    0    1    0    0]\n",
      " [  48   39    6    1    5    2    1    3    1    0    0    0    0]\n",
      " [  23   25    5   10    2    2    0    1    0    1    0    1    0]\n",
      " [  12   16    2    2    1    0    2    1    1    0    0    0    0]\n",
      " [   8   12    1    3    2    2    0    1    3    0    0    0    0]\n",
      " [   5    4    1    0    3    2    1    1    2    0    1    0    1]\n",
      " [   3    8    1    1    1    0    0    2    0    2    1    1    1]\n",
      " [   1    7    1    2    2    0    0    0    3    3    0    1    1]\n",
      " [   1    7    0    1    1    0    0    1    1    2    0    4    0]\n",
      " [   1    5    3    0    0    0    0    0    1    4    0    1    1]\n",
      " [   0    2    0    1    2    0    0    2    0    2    0    1    0]\n",
      " [   0    1    3    1    2    1    1    0    3    1    0    1    1]]\n",
      "rf accuracy score: 0.7065036131183992\n",
      "rf classification report :\n",
      "               precision    recall  f1-score   support\n",
      "\n",
      "           0       0.83      0.98      0.90      1201\n",
      "           1       0.30      0.26      0.28       231\n",
      "           2       0.15      0.06      0.08       106\n",
      "           3       0.34      0.14      0.20        70\n",
      "           4       0.04      0.03      0.03        37\n",
      "           5       0.17      0.06      0.09        32\n",
      "           6       0.14      0.05      0.07        21\n",
      "           7       0.15      0.10      0.12        21\n",
      "           8       0.18      0.14      0.16        21\n",
      "           9       0.12      0.11      0.12        18\n",
      "          10       0.00      0.00      0.00        16\n",
      "          11       0.10      0.10      0.10        10\n",
      "          12       0.20      0.07      0.10        15\n",
      "\n",
      "    accuracy                           0.71      1799\n",
      "   macro avg       0.21      0.16      0.17      1799\n",
      "weighted avg       0.63      0.71      0.66      1799\n",
      "\n",
      "\n",
      "gb confuion matrix: \n",
      " [[1181   13    0    2    0    0    3    0    0    1    0    1    0]\n",
      " [ 139   74    5    5    2    1    1    1    0    0    1    0    2]\n",
      " [  48   41    3    3    1    0    2    1    4    0    1    2    0]\n",
      " [  24   38    1    3    0    0    2    0    1    0    0    0    1]\n",
      " [  12   21    1    1    1    0    0    0    0    0    0    0    1]\n",
      " [   8   14    1    1    0    2    2    0    1    1    2    0    0]\n",
      " [   4    4    1    2    0    0    0    3    4    1    0    1    1]\n",
      " [   3    8    0    2    0    0    1    1    1    3    1    1    0]\n",
      " [   1   10    0    1    2    0    0    0    0    6    1    0    0]\n",
      " [   1    6    0    0    0    2    1    0    2    2    1    3    0]\n",
      " [   1    6    2    0    0    0    1    2    1    3    0    0    0]\n",
      " [   0    4    0    0    0    1    1    0    0    1    0    3    0]\n",
      " [   0    4    1    0    1    1    0    1    3    1    0    1    2]]\n",
      "gb accuracy score: 0.7070594774874931\n",
      "gb classification report :\n",
      "               precision    recall  f1-score   support\n",
      "\n",
      "           0       0.83      0.98      0.90      1201\n",
      "           1       0.30      0.32      0.31       231\n",
      "           2       0.20      0.03      0.05       106\n",
      "           3       0.15      0.04      0.07        70\n",
      "           4       0.14      0.03      0.05        37\n",
      "           5       0.29      0.06      0.10        32\n",
      "           6       0.00      0.00      0.00        21\n",
      "           7       0.11      0.05      0.07        21\n",
      "           8       0.00      0.00      0.00        21\n",
      "           9       0.11      0.11      0.11        18\n",
      "          10       0.00      0.00      0.00        16\n",
      "          11       0.25      0.30      0.27        10\n",
      "          12       0.29      0.13      0.18        15\n",
      "\n",
      "    accuracy                           0.71      1799\n",
      "   macro avg       0.21      0.16      0.16      1799\n",
      "weighted avg       0.63      0.71      0.65      1799\n",
      "\n",
      "\n",
      "knn confuion matrix: \n",
      " [[1149   43    4    2    3    0    0    0    0    0    0    0    0]\n",
      " [ 208   18    3    1    1    0    0    0    0    0    0    0    0]\n",
      " [  97    6    2    0    1    0    0    0    0    0    0    0    0]\n",
      " [  63    6    1    0    0    0    0    0    0    0    0    0    0]\n",
      " [  34    3    0    0    0    0    0    0    0    0    0    0    0]\n",
      " [  26    2    3    0    0    0    0    0    0    0    1    0    0]\n",
      " [  17    2    1    0    0    0    1    0    0    0    0    0    0]\n",
      " [  16    1    0    1    1    0    0    0    1    0    1    0    0]\n",
      " [  15    1    2    1    0    0    0    0    1    0    0    0    1]\n",
      " [  12    1    1    1    0    0    1    0    0    1    1    0    0]\n",
      " [  13    3    0    0    0    0    0    0    0    0    0    0    0]\n",
      " [   6    1    0    0    0    0    1    0    2    0    0    0    0]\n",
      " [   7    3    0    0    2    0    0    0    1    1    0    1    0]]\n"
     ]
    },
    {
     "name": "stdout",
     "output_type": "stream",
     "text": [
      "knn accuracy score: 0.651473040578099\n",
      "knn classification report :\n",
      "               precision    recall  f1-score   support\n",
      "\n",
      "           0       0.69      0.96      0.80      1201\n",
      "           1       0.20      0.08      0.11       231\n",
      "           2       0.12      0.02      0.03       106\n",
      "           3       0.00      0.00      0.00        70\n",
      "           4       0.00      0.00      0.00        37\n",
      "           5       0.00      0.00      0.00        32\n",
      "           6       0.33      0.05      0.08        21\n",
      "           7       0.00      0.00      0.00        21\n",
      "           8       0.20      0.05      0.08        21\n",
      "           9       0.50      0.06      0.10        18\n",
      "          10       0.00      0.00      0.00        16\n",
      "          11       0.00      0.00      0.00        10\n",
      "          12       0.00      0.00      0.00        15\n",
      "\n",
      "    accuracy                           0.65      1799\n",
      "   macro avg       0.16      0.09      0.09      1799\n",
      "weighted avg       0.51      0.65      0.55      1799\n",
      "\n",
      "\n",
      "svm confuion matrix: \n",
      " [[1201    0    0    0    0    0    0    0    0    0    0    0    0]\n",
      " [ 231    0    0    0    0    0    0    0    0    0    0    0    0]\n",
      " [ 106    0    0    0    0    0    0    0    0    0    0    0    0]\n",
      " [  70    0    0    0    0    0    0    0    0    0    0    0    0]\n",
      " [  37    0    0    0    0    0    0    0    0    0    0    0    0]\n",
      " [  32    0    0    0    0    0    0    0    0    0    0    0    0]\n",
      " [  21    0    0    0    0    0    0    0    0    0    0    0    0]\n",
      " [  21    0    0    0    0    0    0    0    0    0    0    0    0]\n",
      " [  21    0    0    0    0    0    0    0    0    0    0    0    0]\n",
      " [  18    0    0    0    0    0    0    0    0    0    0    0    0]\n",
      " [  16    0    0    0    0    0    0    0    0    0    0    0    0]\n",
      " [  10    0    0    0    0    0    0    0    0    0    0    0    0]\n",
      " [  15    0    0    0    0    0    0    0    0    0    0    0    0]]\n",
      "svm accuracy score: 0.6675931072818232\n",
      "svm classification report :\n",
      "               precision    recall  f1-score   support\n",
      "\n",
      "           0       0.67      1.00      0.80      1201\n",
      "           1       0.00      0.00      0.00       231\n",
      "           2       0.00      0.00      0.00       106\n",
      "           3       0.00      0.00      0.00        70\n",
      "           4       0.00      0.00      0.00        37\n",
      "           5       0.00      0.00      0.00        32\n",
      "           6       0.00      0.00      0.00        21\n",
      "           7       0.00      0.00      0.00        21\n",
      "           8       0.00      0.00      0.00        21\n",
      "           9       0.00      0.00      0.00        18\n",
      "          10       0.00      0.00      0.00        16\n",
      "          11       0.00      0.00      0.00        10\n",
      "          12       0.00      0.00      0.00        15\n",
      "\n",
      "    accuracy                           0.67      1799\n",
      "   macro avg       0.05      0.08      0.06      1799\n",
      "weighted avg       0.45      0.67      0.53      1799\n",
      "\n",
      "\n",
      "ad confuion matrix: \n",
      " [[1100   99    1    0    0    0    0    0    1    0    0    0    0]\n",
      " [ 139   76    8    2    0    0    0    0    1    0    0    1    4]\n",
      " [  47   40    9    1    1    0    1    0    0    1    2    2    2]\n",
      " [  21   37    6    0    0    0    1    0    0    0    0    1    4]\n",
      " [  12   21    2    0    0    0    0    0    1    0    0    1    0]\n",
      " [   7   16    1    0    2    0    1    0    2    1    0    0    2]\n",
      " [   3    9    1    0    0    0    0    0    1    1    0    1    5]\n",
      " [   4    8    1    0    0    1    1    0    1    1    1    1    2]\n",
      " [   1    7    3    0    2    0    0    1    0    2    0    4    1]\n",
      " [   2    6    0    0    0    0    1    1    1    1    0    3    3]\n",
      " [   1    7    1    0    0    0    0    2    1    1    0    0    3]\n",
      " [   0    4    0    0    0    0    0    0    1    1    0    2    2]\n",
      " [   0    3    1    0    0    0    0    0    3    2    0    6    0]]\n",
      "ad accuracy score: 0.660366870483602\n",
      "ad classification report :\n",
      "               precision    recall  f1-score   support\n",
      "\n",
      "           0       0.82      0.92      0.87      1201\n",
      "           1       0.23      0.33      0.27       231\n",
      "           2       0.26      0.08      0.13       106\n",
      "           3       0.00      0.00      0.00        70\n",
      "           4       0.00      0.00      0.00        37\n",
      "           5       0.00      0.00      0.00        32\n",
      "           6       0.00      0.00      0.00        21\n",
      "           7       0.00      0.00      0.00        21\n",
      "           8       0.00      0.00      0.00        21\n",
      "           9       0.09      0.06      0.07        18\n",
      "          10       0.00      0.00      0.00        16\n",
      "          11       0.09      0.20      0.13        10\n",
      "          12       0.00      0.00      0.00        15\n",
      "\n",
      "    accuracy                           0.66      1799\n",
      "   macro avg       0.12      0.12      0.11      1799\n",
      "weighted avg       0.60      0.66      0.62      1799\n",
      "\n",
      "\n",
      "nb confuion matrix: \n",
      " [[1192    6    0    0    1    0    0    0    0    0    0    2    0]\n",
      " [ 138   84    5    0    1    0    1    0    0    0    0    2    0]\n",
      " [  48   51    0    0    4    0    0    0    2    0    0    1    0]\n",
      " [  24   42    0    0    0    1    2    1    0    0    0    0    0]\n",
      " [  12   22    0    0    0    0    1    0    1    0    0    1    0]\n",
      " [   8   16    0    1    2    1    0    0    3    0    0    1    0]\n",
      " [   4    8    0    1    3    0    2    0    1    2    0    0    0]\n",
      " [   3    9    0    0    3    1    1    0    2    2    0    0    0]\n",
      " [   1   11    0    0    2    0    0    1    1    4    0    0    1]\n",
      " [   1    6    1    0    1    0    1    2    3    1    0    1    1]\n",
      " [   1    8    0    1    1    0    1    1    2    0    1    0    0]\n",
      " [   0    4    0    0    1    0    0    0    3    0    0    0    2]\n",
      " [   0    4    0    1    1    0    2    1    3    2    0    0    1]]\n",
      "nb accuracy score: 0.7131739855475264\n",
      "nb classification report :\n",
      "               precision    recall  f1-score   support\n",
      "\n",
      "           0       0.83      0.99      0.91      1201\n",
      "           1       0.31      0.36      0.33       231\n",
      "           2       0.00      0.00      0.00       106\n",
      "           3       0.00      0.00      0.00        70\n",
      "           4       0.00      0.00      0.00        37\n",
      "           5       0.33      0.03      0.06        32\n",
      "           6       0.18      0.10      0.12        21\n",
      "           7       0.00      0.00      0.00        21\n",
      "           8       0.05      0.05      0.05        21\n",
      "           9       0.09      0.06      0.07        18\n",
      "          10       1.00      0.06      0.12        16\n",
      "          11       0.00      0.00      0.00        10\n",
      "          12       0.20      0.07      0.10        15\n",
      "\n",
      "    accuracy                           0.71      1799\n",
      "   macro avg       0.23      0.13      0.14      1799\n",
      "weighted avg       0.62      0.71      0.65      1799\n",
      "\n",
      "\n",
      "lda confuion matrix: \n",
      " [[1199    1    0    0    0    0    0    0    1    0    0    0    0]\n",
      " [ 229    0    0    0    0    0    1    1    0    0    0    0    0]\n",
      " [  98    2    0    0    0    0    0    0    4    1    0    1    0]\n",
      " [  66    0    0    0    0    0    1    0    1    2    0    0    0]\n",
      " [  34    1    0    0    0    0    0    0    0    1    0    1    0]\n",
      " [  24    1    0    0    0    0    0    0    4    1    0    0    2]\n",
      " [  12    0    0    0    0    0    2    0    3    1    0    1    2]\n",
      " [  12    0    0    0    0    0    0    1    3    2    0    1    2]\n",
      " [  12    0    0    0    0    0    0    1    1    2    0    0    5]\n",
      " [   8    0    0    0    0    0    0    2    0    3    0    1    4]\n",
      " [   9    0    0    0    0    0    0    2    1    1    0    0    3]\n",
      " [   4    0    0    0    0    0    0    1    0    3    0    0    2]\n",
      " [   4    0    0    0    0    0    1    0    2    3    0    0    5]]\n",
      "lda accuracy score: 0.6731517509727627\n",
      "lda classification report :\n",
      "               precision    recall  f1-score   support\n",
      "\n",
      "           0       0.70      1.00      0.82      1201\n",
      "           1       0.00      0.00      0.00       231\n",
      "           2       0.00      0.00      0.00       106\n",
      "           3       0.00      0.00      0.00        70\n",
      "           4       0.00      0.00      0.00        37\n",
      "           5       0.00      0.00      0.00        32\n",
      "           6       0.40      0.10      0.15        21\n",
      "           7       0.12      0.05      0.07        21\n",
      "           8       0.05      0.05      0.05        21\n",
      "           9       0.15      0.17      0.16        18\n",
      "          10       0.00      0.00      0.00        16\n",
      "          11       0.00      0.00      0.00        10\n",
      "          12       0.20      0.33      0.25        15\n",
      "\n",
      "    accuracy                           0.67      1799\n",
      "   macro avg       0.13      0.13      0.12      1799\n",
      "weighted avg       0.48      0.67      0.56      1799\n",
      "\n",
      "\n",
      "qda confuion matrix: \n",
      " [[1192    6    0    0    1    0    0    0    0    0    0    2    0]\n",
      " [ 138   84    5    0    2    0    0    0    0    0    0    2    0]\n",
      " [  48   51    0    1    1    2    0    1    1    0    0    1    0]\n",
      " [  24   42    0    0    1    1    0    1    1    0    0    0    0]\n",
      " [  12   22    0    0    0    0    1    0    1    0    0    1    0]\n",
      " [   8   16    0    0    1    3    0    0    3    0    0    1    0]\n",
      " [   4    8    0    1    2    2    1    0    1    2    0    0    0]\n",
      " [   3    9    0    0    3    1    0    0    3    2    0    0    0]\n",
      " [   1   10    1    0    1    1    0    2    0    3    1    0    1]\n",
      " [   1    6    1    0    1    0    1    2    3    1    0    1    1]\n",
      " [   1    7    1    0    2    1    0    0    2    0    0    1    1]\n",
      " [   0    4    0    0    1    0    1    0    2    0    0    0    2]\n",
      " [   0    4    0    0    1    1    1    1    4    1    0    1    1]]\n",
      "qda accuracy score: 0.7126181211784325\n",
      "qda classification report :\n",
      "               precision    recall  f1-score   support\n",
      "\n",
      "           0       0.83      0.99      0.91      1201\n",
      "           1       0.31      0.36      0.34       231\n",
      "           2       0.00      0.00      0.00       106\n",
      "           3       0.00      0.00      0.00        70\n",
      "           4       0.00      0.00      0.00        37\n",
      "           5       0.25      0.09      0.14        32\n",
      "           6       0.20      0.05      0.08        21\n",
      "           7       0.00      0.00      0.00        21\n",
      "           8       0.00      0.00      0.00        21\n",
      "           9       0.11      0.06      0.07        18\n",
      "          10       0.00      0.00      0.00        16\n",
      "          11       0.00      0.00      0.00        10\n",
      "          12       0.17      0.07      0.10        15\n",
      "\n",
      "    accuracy                           0.71      1799\n",
      "   macro avg       0.14      0.12      0.12      1799\n",
      "weighted avg       0.61      0.71      0.65      1799\n",
      "\n",
      "\n"
     ]
    },
    {
     "name": "stdout",
     "output_type": "stream",
     "text": [
      "[11:46:16] WARNING: C:/Users/Administrator/workspace/xgboost-win64_release_1.5.1/src/learner.cc:1115: Starting in XGBoost 1.3.0, the default evaluation metric used with the objective 'multi:softprob' was changed from 'merror' to 'mlogloss'. Explicitly set eval_metric if you'd like to restore the old behavior.\n",
      "xgb confuion matrix: \n",
      " [[1169   25    3    2    1    0    0    1    0    0    0    0    0]\n",
      " [ 136   65   14    5    4    0    0    3    1    0    3    0    0]\n",
      " [  49   36    7    3    2    1    4    2    1    0    0    0    1]\n",
      " [  24   25    8    7    1    1    3    0    1    0    0    0    0]\n",
      " [  12   16    2    4    1    0    0    1    1    0    0    0    0]\n",
      " [   9   12    1    1    2    1    1    0    2    0    1    1    1]\n",
      " [   4    3    1    3    2    1    0    0    3    1    1    0    2]\n",
      " [   3    3    3    3    2    0    2    1    2    1    0    1    0]\n",
      " [   1    7    0    2    2    2    1    0    1    3    0    1    1]\n",
      " [   1    4    2    0    1    1    2    0    2    3    0    2    0]\n",
      " [   1    3    3    2    1    0    3    0    0    2    0    0    1]\n",
      " [   0    3    0    1    1    0    1    1    0    1    0    1    1]\n",
      " [   0    1    4    0    2    0    0    1    2    1    0    3    1]]\n",
      "xgb accuracy score: 0.6987215119510839\n",
      "xgb classification report :\n",
      "               precision    recall  f1-score   support\n",
      "\n",
      "           0       0.83      0.97      0.90      1201\n",
      "           1       0.32      0.28      0.30       231\n",
      "           2       0.15      0.07      0.09       106\n",
      "           3       0.21      0.10      0.14        70\n",
      "           4       0.05      0.03      0.03        37\n",
      "           5       0.14      0.03      0.05        32\n",
      "           6       0.00      0.00      0.00        21\n",
      "           7       0.10      0.05      0.06        21\n",
      "           8       0.06      0.05      0.05        21\n",
      "           9       0.25      0.17      0.20        18\n",
      "          10       0.00      0.00      0.00        16\n",
      "          11       0.11      0.10      0.11        10\n",
      "          12       0.12      0.07      0.09        15\n",
      "\n",
      "    accuracy                           0.70      1799\n",
      "   macro avg       0.18      0.15      0.16      1799\n",
      "weighted avg       0.62      0.70      0.65      1799\n",
      "\n",
      "\n"
     ]
    }
   ],
   "source": [
    "for name, model in models.items():\n",
    "    model1=model.fit(features_train,target_train)\n",
    "    y_pred = model1.predict(features_test)\n",
    "    print(f\"{name} confuion matrix: \\n {confusion_matrix(target_test,y_pred)}\") \n",
    "    print(f'{name} accuracy score: {model1.score(features_test,target_test)}')\n",
    "#     print(f'{name} precision score: {precision_score(target_test,y_pred)}')\n",
    "#     print(f'{name} recall score: {recall_score(target_test,y_pred)}')\n",
    "    print(f'{name} classification report :\\n {classification_report(target_test,y_pred)}\\n')"
   ]
  },
  {
   "cell_type": "markdown",
   "id": "7cbc1176",
   "metadata": {},
   "source": [
    "## Random Forest And Naive Bayes Gives Best Accuracy"
   ]
  }
 ],
 "metadata": {
  "kernelspec": {
   "display_name": "Python 3 (ipykernel)",
   "language": "python",
   "name": "python3"
  },
  "language_info": {
   "codemirror_mode": {
    "name": "ipython",
    "version": 3
   },
   "file_extension": ".py",
   "mimetype": "text/x-python",
   "name": "python",
   "nbconvert_exporter": "python",
   "pygments_lexer": "ipython3",
   "version": "3.9.7"
  }
 },
 "nbformat": 4,
 "nbformat_minor": 5
}
