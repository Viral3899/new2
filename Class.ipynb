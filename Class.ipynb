{
 "cells": [
  {
   "cell_type": "code",
   "execution_count": 2,
   "id": "09f9e8f2",
   "metadata": {},
   "outputs": [
    {
     "name": "stdout",
     "output_type": "stream",
     "text": [
      "Hello World\n"
     ]
    }
   ],
   "source": [
    "print(\"Hello World\")"
   ]
  },
  {
   "cell_type": "code",
   "execution_count": 4,
   "id": "aaacb87d",
   "metadata": {},
   "outputs": [
    {
     "data": {
      "text/plain": [
       "5"
      ]
     },
     "execution_count": 4,
     "metadata": {},
     "output_type": "execute_result"
    }
   ],
   "source": [
    "a=5\n",
    "a"
   ]
  },
  {
   "cell_type": "code",
   "execution_count": 6,
   "id": "47f926f7",
   "metadata": {},
   "outputs": [
    {
     "name": "stdout",
     "output_type": "stream",
     "text": [
      "5\n",
      "2\n"
     ]
    }
   ],
   "source": [
    "a=5\n",
    "b=2\n",
    "print(a)\n",
    "print(b)"
   ]
  },
  {
   "cell_type": "code",
   "execution_count": 10,
   "id": "83df0ad8",
   "metadata": {},
   "outputs": [
    {
     "name": "stdout",
     "output_type": "stream",
     "text": [
      "7 is greater than 3\n"
     ]
    }
   ],
   "source": [
    "if 7>3:\n",
    "    print(\"7 is greater than 3\")"
   ]
  },
  {
   "cell_type": "code",
   "execution_count": 12,
   "id": "4aa6a14f",
   "metadata": {},
   "outputs": [
    {
     "data": {
      "text/plain": [
       "int"
      ]
     },
     "execution_count": 12,
     "metadata": {},
     "output_type": "execute_result"
    }
   ],
   "source": [
    "type(a)"
   ]
  },
  {
   "cell_type": "code",
   "execution_count": 16,
   "id": "ec11f9c3",
   "metadata": {},
   "outputs": [
    {
     "name": "stdout",
     "output_type": "stream",
     "text": [
      "apple\n",
      "mango\n",
      "banana\n"
     ]
    }
   ],
   "source": [
    "a,b,c=\"apple\",\"mango\",\"banana\"\n",
    "print(a)\n",
    "print(b)\n",
    "print(c)"
   ]
  },
  {
   "cell_type": "markdown",
   "id": "17665e9a",
   "metadata": {},
   "source": [
    "Viral\\ is \"good\" \\\\ boy"
   ]
  },
  {
   "cell_type": "code",
   "execution_count": 22,
   "id": "ac2a90d9",
   "metadata": {},
   "outputs": [
    {
     "name": "stdout",
     "output_type": "stream",
     "text": [
      "Viral\\ is \"good\"boy\n"
     ]
    }
   ],
   "source": [
    "print(\"Viral\\\\ is \\\"good\\\"boy\")"
   ]
  },
  {
   "cell_type": "code",
   "execution_count": 1,
   "id": "6da4f7ca",
   "metadata": {},
   "outputs": [
    {
     "data": {
      "text/plain": [
       "['apple', 'mango', 'Coconut']"
      ]
     },
     "execution_count": 1,
     "metadata": {},
     "output_type": "execute_result"
    }
   ],
   "source": [
    "l=[\"apple\",\"Banana\",\"mango\",\"Cheery\",\"Coconut\"]\n",
    "l[0::2]"
   ]
  },
  {
   "cell_type": "code",
   "execution_count": 2,
   "id": "87fb9517",
   "metadata": {},
   "outputs": [
    {
     "data": {
      "text/plain": [
       "{'Model': 'Mustang', 'Brand': 'Ford', 'Year': 1964}"
      ]
     },
     "execution_count": 2,
     "metadata": {},
     "output_type": "execute_result"
    }
   ],
   "source": [
    "d = {\n",
    "\"Model\":\"Mustang\",\n",
    "\"Brand\":\"Ford\",\n",
    "\"Year\":1964\n",
    "}\n",
    "d"
   ]
  },
  {
   "cell_type": "code",
   "execution_count": 6,
   "id": "901d67c0",
   "metadata": {},
   "outputs": [
    {
     "data": {
      "text/plain": [
       "dict_keys(['Model', 'Brand', 'Year'])"
      ]
     },
     "execution_count": 6,
     "metadata": {},
     "output_type": "execute_result"
    }
   ],
   "source": [
    "d.keys()"
   ]
  },
  {
   "cell_type": "code",
   "execution_count": 9,
   "id": "7f6b8b6b",
   "metadata": {},
   "outputs": [
    {
     "data": {
      "text/plain": [
       "dict_values(['Mustang', 'Ford', 1964])"
      ]
     },
     "execution_count": 9,
     "metadata": {},
     "output_type": "execute_result"
    }
   ],
   "source": [
    "d.values()"
   ]
  },
  {
   "cell_type": "code",
   "execution_count": 11,
   "id": "c5818d1f",
   "metadata": {},
   "outputs": [
    {
     "data": {
      "text/plain": [
       "dict_items([('Model', 'Mustang'), ('Brand', 'Ford'), ('Year', 1964)])"
      ]
     },
     "execution_count": 11,
     "metadata": {},
     "output_type": "execute_result"
    }
   ],
   "source": [
    "d.items()"
   ]
  },
  {
   "cell_type": "code",
   "execution_count": 12,
   "id": "41af7b4b",
   "metadata": {},
   "outputs": [
    {
     "data": {
      "text/plain": [
       "'Mustang'"
      ]
     },
     "execution_count": 12,
     "metadata": {},
     "output_type": "execute_result"
    }
   ],
   "source": [
    "d[\"Model\"]"
   ]
  },
  {
   "cell_type": "code",
   "execution_count": 14,
   "id": "31ba5086",
   "metadata": {},
   "outputs": [],
   "source": [
    "d[\"Brand\"]=\"Maruti\""
   ]
  },
  {
   "cell_type": "code",
   "execution_count": 15,
   "id": "0d894dc9",
   "metadata": {},
   "outputs": [
    {
     "data": {
      "text/plain": [
       "{'Model': 'Mustang', 'Brand': 'Maruti', 'Year': 1964}"
      ]
     },
     "execution_count": 15,
     "metadata": {},
     "output_type": "execute_result"
    }
   ],
   "source": [
    "d"
   ]
  },
  {
   "cell_type": "code",
   "execution_count": 17,
   "id": "53770a01",
   "metadata": {},
   "outputs": [],
   "source": [
    "# d.get(\"like\")"
   ]
  },
  {
   "cell_type": "code",
   "execution_count": 19,
   "id": "78656271",
   "metadata": {},
   "outputs": [
    {
     "data": {
      "text/plain": [
       "3"
      ]
     },
     "execution_count": 19,
     "metadata": {},
     "output_type": "execute_result"
    }
   ],
   "source": [
    "len(d)"
   ]
  },
  {
   "cell_type": "code",
   "execution_count": 24,
   "id": "9f6ed5b1",
   "metadata": {},
   "outputs": [
    {
     "data": {
      "text/plain": [
       "{'Model': 'Mustang', 'Brand': 'Maruti', 'Year': 1964, 'Color': 'Red'}"
      ]
     },
     "execution_count": 24,
     "metadata": {},
     "output_type": "execute_result"
    }
   ],
   "source": [
    "d[\"Color\"]=\"Red\"\n",
    "d"
   ]
  },
  {
   "cell_type": "code",
   "execution_count": 26,
   "id": "06640398",
   "metadata": {},
   "outputs": [
    {
     "ename": "KeyError",
     "evalue": "'Year'",
     "output_type": "error",
     "traceback": [
      "\u001b[1;31m---------------------------------------------------------------------------\u001b[0m",
      "\u001b[1;31mKeyError\u001b[0m                                  Traceback (most recent call last)",
      "\u001b[1;32m~\\AppData\\Local\\Temp/ipykernel_17336/3736945754.py\u001b[0m in \u001b[0;36m<module>\u001b[1;34m\u001b[0m\n\u001b[1;32m----> 1\u001b[1;33m \u001b[0md\u001b[0m\u001b[1;33m.\u001b[0m\u001b[0mpop\u001b[0m\u001b[1;33m(\u001b[0m\u001b[1;34m\"Year\"\u001b[0m\u001b[1;33m)\u001b[0m\u001b[1;33m\u001b[0m\u001b[1;33m\u001b[0m\u001b[0m\n\u001b[0m",
      "\u001b[1;31mKeyError\u001b[0m: 'Year'"
     ]
    }
   ],
   "source": [
    "d.pop(\"Year\")"
   ]
  },
  {
   "cell_type": "code",
   "execution_count": 27,
   "id": "ab86bc09",
   "metadata": {},
   "outputs": [
    {
     "data": {
      "text/plain": [
       "{'Model': 'Mustang', 'Brand': 'Maruti', 'Color': 'Red'}"
      ]
     },
     "execution_count": 27,
     "metadata": {},
     "output_type": "execute_result"
    }
   ],
   "source": [
    "d"
   ]
  },
  {
   "cell_type": "code",
   "execution_count": 28,
   "id": "7a65bab6",
   "metadata": {},
   "outputs": [
    {
     "data": {
      "text/plain": [
       "('Color', 'Red')"
      ]
     },
     "execution_count": 28,
     "metadata": {},
     "output_type": "execute_result"
    }
   ],
   "source": [
    "d.popitem()"
   ]
  },
  {
   "cell_type": "code",
   "execution_count": 29,
   "id": "8685dcfd",
   "metadata": {},
   "outputs": [
    {
     "data": {
      "text/plain": [
       "{'Model': 'Mustang', 'Brand': 'Maruti'}"
      ]
     },
     "execution_count": 29,
     "metadata": {},
     "output_type": "execute_result"
    }
   ],
   "source": [
    "d"
   ]
  },
  {
   "cell_type": "code",
   "execution_count": 31,
   "id": "ff27e938",
   "metadata": {},
   "outputs": [
    {
     "data": {
      "text/plain": [
       "{'Model': 'Mustang', 'Brand': 'Maruti'}"
      ]
     },
     "execution_count": 31,
     "metadata": {},
     "output_type": "execute_result"
    }
   ],
   "source": [
    "d1=d.copy()\n",
    "d1"
   ]
  },
  {
   "cell_type": "markdown",
   "id": "85462096",
   "metadata": {},
   "source": [
    "                                Operators"
   ]
  },
  {
   "cell_type": "markdown",
   "id": "ffba7bbc",
   "metadata": {},
   "source": [
    "                            Conditional Statment"
   ]
  },
  {
   "cell_type": "code",
   "execution_count": 33,
   "id": "9c940079",
   "metadata": {},
   "outputs": [
    {
     "name": "stdout",
     "output_type": "stream",
     "text": [
      "B is Greater then a & 100\n"
     ]
    }
   ],
   "source": [
    "a=33\n",
    "b=120\n",
    "if b>a and b>100:\n",
    "    print(\"B is Greater then a & 100\")"
   ]
  },
  {
   "cell_type": "code",
   "execution_count": 2,
   "id": "687e755d",
   "metadata": {},
   "outputs": [
    {
     "data": {
      "text/plain": [
       "['apple', 'banana', 'cherry']"
      ]
     },
     "execution_count": 2,
     "metadata": {},
     "output_type": "execute_result"
    }
   ],
   "source": [
    "l=[\"apple\",\"banana\",\"cherry\"]\n",
    "l"
   ]
  },
  {
   "cell_type": "code",
   "execution_count": 6,
   "id": "050fcc66",
   "metadata": {},
   "outputs": [
    {
     "name": "stdout",
     "output_type": "stream",
     "text": [
      "entre the fruit name: \n",
      "You are not list\n"
     ]
    }
   ],
   "source": [
    "fruit=input(\"entre the fruit name: \")\n",
    "if fruit.lower() in l:\n",
    "    print(\"your Fruit is in List\")\n",
    "else:\n",
    "    print(\"You are not list\")\n"
   ]
  },
  {
   "cell_type": "code",
   "execution_count": 9,
   "id": "e5834a72",
   "metadata": {},
   "outputs": [
    {
     "name": "stdout",
     "output_type": "stream",
     "text": [
      "X is Greater than 10\n",
      "And also Greater than 20\n"
     ]
    }
   ],
   "source": [
    "x=100\n",
    "if x>10:\n",
    "    print(\"X is Greater than 10\")\n",
    "    if x>20:\n",
    "        print(\"And also Greater than 20\")\n",
    "    else:\n",
    "        print(\"But not Greater than 20\")\n",
    "else:\n",
    "    print(\"X is not Greater than 10\")"
   ]
  },
  {
   "cell_type": "code",
   "execution_count": 12,
   "id": "1ecacdac",
   "metadata": {},
   "outputs": [
    {
     "name": "stdout",
     "output_type": "stream",
     "text": [
      "a is integer\n"
     ]
    }
   ],
   "source": [
    "a=5\n",
    "if type(a)==int:\n",
    "    print(\"a is integer\")"
   ]
  },
  {
   "cell_type": "code",
   "execution_count": 15,
   "id": "e78d4c1f",
   "metadata": {},
   "outputs": [
    {
     "name": "stdout",
     "output_type": "stream",
     "text": [
      "b is String\n"
     ]
    }
   ],
   "source": [
    "b=\"Viral\"\n",
    "if type(b)==str:\n",
    "    print(\"b is String\")"
   ]
  },
  {
   "cell_type": "code",
   "execution_count": 17,
   "id": "f0088ef4",
   "metadata": {},
   "outputs": [
    {
     "name": "stdout",
     "output_type": "stream",
     "text": [
      "1\n",
      "2\n",
      "3\n",
      "4\n",
      "5\n"
     ]
    }
   ],
   "source": [
    "i=1\n",
    "while i<6:\n",
    "    print(i)\n",
    "    i+=1"
   ]
  },
  {
   "cell_type": "code",
   "execution_count": 21,
   "id": "2075d53b",
   "metadata": {},
   "outputs": [
    {
     "name": "stdout",
     "output_type": "stream",
     "text": [
      "square of 1 is 1\n",
      "square of 2 is 4\n",
      "square of 3 is 9\n",
      "square of 4 is 16\n",
      "square of 5 is 25\n",
      "square of 6 is 36\n",
      "square of 7 is 49\n",
      "square of 8 is 64\n",
      "square of 9 is 81\n",
      "square of 10 is 100\n"
     ]
    }
   ],
   "source": [
    "i=1\n",
    "while i<11:\n",
    "    print(f\"square of {i} is {i**2}\")\n",
    "    i+=1"
   ]
  },
  {
   "cell_type": "code",
   "execution_count": 23,
   "id": "0c8e3942",
   "metadata": {},
   "outputs": [
    {
     "name": "stdout",
     "output_type": "stream",
     "text": [
      "cube of 1 is 1\n",
      "cube of 2 is 8\n",
      "cube of 3 is 27\n",
      "cube of 4 is 64\n",
      "cube of 5 is 125\n",
      "cube of 6 is 216\n",
      "cube of 7 is 343\n",
      "cube of 8 is 512\n",
      "cube of 9 is 729\n",
      "cube of 10 is 1000\n",
      "cube of 11 is 1331\n",
      "cube of 12 is 1728\n",
      "cube of 13 is 2197\n",
      "cube of 14 is 2744\n",
      "cube of 15 is 3375\n",
      "cube of 16 is 4096\n",
      "cube of 17 is 4913\n",
      "cube of 18 is 5832\n",
      "cube of 19 is 6859\n",
      "cube of 20 is 8000\n",
      "cube of 21 is 9261\n",
      "cube of 22 is 10648\n",
      "cube of 23 is 12167\n",
      "cube of 24 is 13824\n",
      "cube of 25 is 15625\n",
      "cube of 26 is 17576\n",
      "cube of 27 is 19683\n",
      "cube of 28 is 21952\n",
      "cube of 29 is 24389\n",
      "cube of 30 is 27000\n",
      "cube of 31 is 29791\n",
      "cube of 32 is 32768\n",
      "cube of 33 is 35937\n",
      "cube of 34 is 39304\n",
      "cube of 35 is 42875\n",
      "cube of 36 is 46656\n",
      "cube of 37 is 50653\n",
      "cube of 38 is 54872\n",
      "cube of 39 is 59319\n",
      "cube of 40 is 64000\n",
      "cube of 41 is 68921\n",
      "cube of 42 is 74088\n",
      "cube of 43 is 79507\n",
      "cube of 44 is 85184\n",
      "cube of 45 is 91125\n",
      "cube of 46 is 97336\n",
      "cube of 47 is 103823\n",
      "cube of 48 is 110592\n",
      "cube of 49 is 117649\n",
      "cube of 50 is 125000\n",
      "cube of 51 is 132651\n",
      "cube of 52 is 140608\n",
      "cube of 53 is 148877\n",
      "cube of 54 is 157464\n",
      "cube of 55 is 166375\n",
      "cube of 56 is 175616\n",
      "cube of 57 is 185193\n",
      "cube of 58 is 195112\n",
      "cube of 59 is 205379\n",
      "cube of 60 is 216000\n",
      "cube of 61 is 226981\n",
      "cube of 62 is 238328\n",
      "cube of 63 is 250047\n",
      "cube of 64 is 262144\n",
      "cube of 65 is 274625\n",
      "cube of 66 is 287496\n",
      "cube of 67 is 300763\n",
      "cube of 68 is 314432\n",
      "cube of 69 is 328509\n",
      "cube of 70 is 343000\n",
      "cube of 71 is 357911\n",
      "cube of 72 is 373248\n",
      "cube of 73 is 389017\n",
      "cube of 74 is 405224\n",
      "cube of 75 is 421875\n",
      "cube of 76 is 438976\n",
      "cube of 77 is 456533\n",
      "cube of 78 is 474552\n",
      "cube of 79 is 493039\n",
      "cube of 80 is 512000\n",
      "cube of 81 is 531441\n",
      "cube of 82 is 551368\n",
      "cube of 83 is 571787\n",
      "cube of 84 is 592704\n",
      "cube of 85 is 614125\n",
      "cube of 86 is 636056\n",
      "cube of 87 is 658503\n",
      "cube of 88 is 681472\n",
      "cube of 89 is 704969\n",
      "cube of 90 is 729000\n",
      "cube of 91 is 753571\n",
      "cube of 92 is 778688\n",
      "cube of 93 is 804357\n",
      "cube of 94 is 830584\n",
      "cube of 95 is 857375\n",
      "cube of 96 is 884736\n",
      "cube of 97 is 912673\n",
      "cube of 98 is 941192\n",
      "cube of 99 is 970299\n",
      "cube of 100 is 1000000\n"
     ]
    }
   ],
   "source": [
    "i=1\n",
    "while i<101:\n",
    "    print(f\"cube of {i} is {i**3}\")\n",
    "    i+=1"
   ]
  },
  {
   "cell_type": "code",
   "execution_count": 25,
   "id": "25603d8a",
   "metadata": {},
   "outputs": [
    {
     "name": "stdout",
     "output_type": "stream",
     "text": [
      "1\n",
      "2\n",
      "3\n",
      "4\n",
      "5\n"
     ]
    }
   ],
   "source": [
    "i=1\n",
    "while i<10:\n",
    "    print(i)\n",
    "    if i==5:\n",
    "        break\n",
    "    i+=1"
   ]
  },
  {
   "cell_type": "code",
   "execution_count": 27,
   "id": "f0e78b3b",
   "metadata": {},
   "outputs": [
    {
     "name": "stdout",
     "output_type": "stream",
     "text": [
      "1\n",
      "2\n",
      "3\n",
      "4\n",
      "6\n",
      "7\n",
      "8\n",
      "9\n",
      "10\n"
     ]
    }
   ],
   "source": [
    "i=0\n",
    "while i<10:\n",
    "    i+=1\n",
    "    if i==5:\n",
    "        continue\n",
    "    print(i)"
   ]
  },
  {
   "cell_type": "code",
   "execution_count": 29,
   "id": "2c24f4d2",
   "metadata": {},
   "outputs": [
    {
     "name": "stdout",
     "output_type": "stream",
     "text": [
      "hello class\n",
      "hello class\n",
      "hello class\n",
      "hello class\n",
      "hello class\n"
     ]
    }
   ],
   "source": [
    "i=1\n",
    "while i<6:\n",
    "    print(\"hello class\")\n",
    "    i+=1"
   ]
  },
  {
   "cell_type": "code",
   "execution_count": 31,
   "id": "d46be137",
   "metadata": {},
   "outputs": [
    {
     "name": "stdout",
     "output_type": "stream",
     "text": [
      "0\n",
      "1\n",
      "2\n",
      "3\n",
      "4\n",
      "5\n",
      "6\n",
      "7\n",
      "8\n",
      "9\n",
      "10\n"
     ]
    }
   ],
   "source": [
    "for i in range (11):\n",
    "    print(i)"
   ]
  },
  {
   "cell_type": "code",
   "execution_count": 46,
   "id": "eb35cca3",
   "metadata": {},
   "outputs": [
    {
     "data": {
      "text/plain": [
       "[10, 11, 12, 13, 14, 15, 16, 17, 18, 19, 20]"
      ]
     },
     "execution_count": 46,
     "metadata": {},
     "output_type": "execute_result"
    }
   ],
   "source": [
    "a=[]\n",
    "for x in range (10,21):\n",
    "    a.append(x)\n",
    "a"
   ]
  },
  {
   "cell_type": "code",
   "execution_count": 52,
   "id": "03d3ccb1",
   "metadata": {},
   "outputs": [
    {
     "name": "stdout",
     "output_type": "stream",
     "text": [
      "square of 5 is 25\n",
      "square of 10 is 100\n",
      "square of 15 is 225\n",
      "square of 20 is 400\n",
      "square of 25 is 625\n",
      "square of 30 is 900\n",
      "square of 35 is 1225\n",
      "square of 40 is 1600\n",
      "square of 45 is 2025\n",
      "square of 50 is 2500\n",
      "square of 55 is 3025\n",
      "square of 60 is 3600\n",
      "square of 65 is 4225\n",
      "square of 70 is 4900\n",
      "square of 75 is 5625\n",
      "square of 80 is 6400\n",
      "square of 85 is 7225\n",
      "square of 90 is 8100\n",
      "square of 95 is 9025\n",
      "square of 100 is 10000\n",
      "Finished\n"
     ]
    }
   ],
   "source": [
    "for i in range(0,101,5):\n",
    "    if i!=0:\n",
    "        print(f\"square of {i} is {i**2}\")\n",
    "print(\"Finished\")"
   ]
  },
  {
   "cell_type": "code",
   "execution_count": 42,
   "id": "28c1c151",
   "metadata": {},
   "outputs": [
    {
     "name": "stdout",
     "output_type": "stream",
     "text": [
      "0\n",
      "1\n",
      "2\n",
      "3\n",
      "4\n",
      "5\n",
      "7\n",
      "8\n",
      "9\n",
      "10\n"
     ]
    }
   ],
   "source": [
    "for y in a:\n",
    "    if y == 6:\n",
    "        continue\n",
    "    print(y)"
   ]
  },
  {
   "cell_type": "code",
   "execution_count": 43,
   "id": "18dbe66e",
   "metadata": {},
   "outputs": [
    {
     "name": "stdout",
     "output_type": "stream",
     "text": [
      "0\n",
      "1\n",
      "2\n",
      "3\n",
      "4\n",
      "5\n",
      "6\n"
     ]
    }
   ],
   "source": [
    "for y in a:\n",
    "    print(y)\n",
    "    if y == 6:\n",
    "        break\n",
    "    \n"
   ]
  },
  {
   "cell_type": "code",
   "execution_count": 44,
   "id": "fa807aa8",
   "metadata": {},
   "outputs": [
    {
     "name": "stdout",
     "output_type": "stream",
     "text": [
      "4\n",
      "9\n",
      "4\n",
      "9\n"
     ]
    }
   ],
   "source": [
    "for d in \"4949\":\n",
    "    print(d)"
   ]
  },
  {
   "cell_type": "code",
   "execution_count": 64,
   "id": "5cc53e84",
   "metadata": {},
   "outputs": [
    {
     "name": "stdout",
     "output_type": "stream",
     "text": [
      "red apple\n",
      "red banana\n",
      "red cherry\n",
      "big apple\n",
      "big banana\n",
      "big cherry\n",
      "tasty apple\n",
      "tasty banana\n",
      "tasty cherry\n"
     ]
    }
   ],
   "source": [
    "adj=[\"red\",\"big\",\"tasty\"]\n",
    "fruits=[\"apple\",\"banana\",\"cherry\"]\n",
    "for i in adj:\n",
    "    for j in fruits:\n",
    "        print(i,j)"
   ]
  },
  {
   "cell_type": "code",
   "execution_count": 68,
   "id": "afb57da0",
   "metadata": {},
   "outputs": [
    {
     "name": "stdout",
     "output_type": "stream",
     "text": [
      "red apple\n",
      "big banana\n",
      "tasty cherry\n"
     ]
    }
   ],
   "source": [
    "for i in range (len(adj)):\n",
    "    print(f\"{adj[i]} {fruits[i]}\")"
   ]
  },
  {
   "cell_type": "code",
   "execution_count": 1,
   "id": "645de2f5",
   "metadata": {},
   "outputs": [],
   "source": [
    "def sample():\n",
    "    print(\"hello\")\n",
    "    print(\"h r u\")\n"
   ]
  },
  {
   "cell_type": "code",
   "execution_count": 3,
   "id": "f480f6a6",
   "metadata": {},
   "outputs": [
    {
     "name": "stdout",
     "output_type": "stream",
     "text": [
      "hello\n",
      "h r u\n"
     ]
    }
   ],
   "source": [
    "sample()"
   ]
  },
  {
   "cell_type": "code",
   "execution_count": 5,
   "id": "e3c688bd",
   "metadata": {},
   "outputs": [
    {
     "ename": "KeyboardInterrupt",
     "evalue": "Interrupted by user",
     "output_type": "error",
     "traceback": [
      "\u001b[1;31m---------------------------------------------------------------------------\u001b[0m",
      "\u001b[1;31mKeyboardInterrupt\u001b[0m                         Traceback (most recent call last)",
      "\u001b[1;32m~\\AppData\\Local\\Temp/ipykernel_10984/4015679885.py\u001b[0m in \u001b[0;36m<module>\u001b[1;34m\u001b[0m\n\u001b[0;32m      1\u001b[0m \u001b[1;32mdef\u001b[0m \u001b[0mmy_func\u001b[0m\u001b[1;33m(\u001b[0m\u001b[0ma\u001b[0m\u001b[1;33m,\u001b[0m\u001b[0mb\u001b[0m\u001b[1;33m,\u001b[0m\u001b[0mc\u001b[0m\u001b[1;33m,\u001b[0m\u001b[0md\u001b[0m\u001b[1;33m)\u001b[0m\u001b[1;33m:\u001b[0m\u001b[1;33m\u001b[0m\u001b[1;33m\u001b[0m\u001b[0m\n\u001b[0;32m      2\u001b[0m     \u001b[1;32mreturn\u001b[0m \u001b[0ma\u001b[0m\u001b[1;33m+\u001b[0m\u001b[0mb\u001b[0m\u001b[1;33m-\u001b[0m\u001b[0mc\u001b[0m\u001b[1;33m*\u001b[0m\u001b[0md\u001b[0m\u001b[1;33m\u001b[0m\u001b[1;33m\u001b[0m\u001b[0m\n\u001b[1;32m----> 3\u001b[1;33m \u001b[0mx\u001b[0m\u001b[1;33m=\u001b[0m\u001b[0mint\u001b[0m\u001b[1;33m(\u001b[0m\u001b[0minput\u001b[0m\u001b[1;33m(\u001b[0m\u001b[1;34m\"enter number: \"\u001b[0m\u001b[1;33m)\u001b[0m\u001b[1;33m)\u001b[0m\u001b[1;33m\u001b[0m\u001b[1;33m\u001b[0m\u001b[0m\n\u001b[0m\u001b[0;32m      4\u001b[0m \u001b[0my\u001b[0m\u001b[1;33m=\u001b[0m\u001b[0mint\u001b[0m\u001b[1;33m(\u001b[0m\u001b[0minput\u001b[0m\u001b[1;33m(\u001b[0m\u001b[1;34m\"enter number: \"\u001b[0m\u001b[1;33m)\u001b[0m\u001b[1;33m)\u001b[0m\u001b[1;33m\u001b[0m\u001b[1;33m\u001b[0m\u001b[0m\n\u001b[0;32m      5\u001b[0m \u001b[0mz\u001b[0m\u001b[1;33m=\u001b[0m\u001b[0mint\u001b[0m\u001b[1;33m(\u001b[0m\u001b[0minput\u001b[0m\u001b[1;33m(\u001b[0m\u001b[1;34m\"enter number: \"\u001b[0m\u001b[1;33m)\u001b[0m\u001b[1;33m)\u001b[0m\u001b[1;33m\u001b[0m\u001b[1;33m\u001b[0m\u001b[0m\n",
      "\u001b[1;32mC:\\ProgramData\\Anaconda3\\lib\\site-packages\\ipykernel\\kernelbase.py\u001b[0m in \u001b[0;36mraw_input\u001b[1;34m(self, prompt)\u001b[0m\n\u001b[0;32m   1004\u001b[0m                 \u001b[1;34m\"raw_input was called, but this frontend does not support input requests.\"\u001b[0m\u001b[1;33m\u001b[0m\u001b[1;33m\u001b[0m\u001b[0m\n\u001b[0;32m   1005\u001b[0m             )\n\u001b[1;32m-> 1006\u001b[1;33m         return self._input_request(\n\u001b[0m\u001b[0;32m   1007\u001b[0m             \u001b[0mstr\u001b[0m\u001b[1;33m(\u001b[0m\u001b[0mprompt\u001b[0m\u001b[1;33m)\u001b[0m\u001b[1;33m,\u001b[0m\u001b[1;33m\u001b[0m\u001b[1;33m\u001b[0m\u001b[0m\n\u001b[0;32m   1008\u001b[0m             \u001b[0mself\u001b[0m\u001b[1;33m.\u001b[0m\u001b[0m_parent_ident\u001b[0m\u001b[1;33m[\u001b[0m\u001b[1;34m\"shell\"\u001b[0m\u001b[1;33m]\u001b[0m\u001b[1;33m,\u001b[0m\u001b[1;33m\u001b[0m\u001b[1;33m\u001b[0m\u001b[0m\n",
      "\u001b[1;32mC:\\ProgramData\\Anaconda3\\lib\\site-packages\\ipykernel\\kernelbase.py\u001b[0m in \u001b[0;36m_input_request\u001b[1;34m(self, prompt, ident, parent, password)\u001b[0m\n\u001b[0;32m   1049\u001b[0m             \u001b[1;32mexcept\u001b[0m \u001b[0mKeyboardInterrupt\u001b[0m\u001b[1;33m:\u001b[0m\u001b[1;33m\u001b[0m\u001b[1;33m\u001b[0m\u001b[0m\n\u001b[0;32m   1050\u001b[0m                 \u001b[1;31m# re-raise KeyboardInterrupt, to truncate traceback\u001b[0m\u001b[1;33m\u001b[0m\u001b[1;33m\u001b[0m\u001b[0m\n\u001b[1;32m-> 1051\u001b[1;33m                 \u001b[1;32mraise\u001b[0m \u001b[0mKeyboardInterrupt\u001b[0m\u001b[1;33m(\u001b[0m\u001b[1;34m\"Interrupted by user\"\u001b[0m\u001b[1;33m)\u001b[0m \u001b[1;32mfrom\u001b[0m \u001b[1;32mNone\u001b[0m\u001b[1;33m\u001b[0m\u001b[1;33m\u001b[0m\u001b[0m\n\u001b[0m\u001b[0;32m   1052\u001b[0m             \u001b[1;32mexcept\u001b[0m \u001b[0mException\u001b[0m\u001b[1;33m:\u001b[0m\u001b[1;33m\u001b[0m\u001b[1;33m\u001b[0m\u001b[0m\n\u001b[0;32m   1053\u001b[0m                 \u001b[0mself\u001b[0m\u001b[1;33m.\u001b[0m\u001b[0mlog\u001b[0m\u001b[1;33m.\u001b[0m\u001b[0mwarning\u001b[0m\u001b[1;33m(\u001b[0m\u001b[1;34m\"Invalid Message:\"\u001b[0m\u001b[1;33m,\u001b[0m \u001b[0mexc_info\u001b[0m\u001b[1;33m=\u001b[0m\u001b[1;32mTrue\u001b[0m\u001b[1;33m)\u001b[0m\u001b[1;33m\u001b[0m\u001b[1;33m\u001b[0m\u001b[0m\n",
      "\u001b[1;31mKeyboardInterrupt\u001b[0m: Interrupted by user"
     ]
    }
   ],
   "source": [
    "def my_func(a,b,c,d):\n",
    "    return a+b-c*d\n",
    "x=int(input(\"enter number: \"))\n",
    "y=int(input(\"enter number: \"))\n",
    "z=int(input(\"enter number: \"))\n",
    "q=int(input(\"enter number: \"))\n",
    "my_func(x,y,z,q)"
   ]
  },
  {
   "cell_type": "code",
   "execution_count": 12,
   "id": "f5887c18",
   "metadata": {},
   "outputs": [
    {
     "name": "stdout",
     "output_type": "stream",
     "text": [
      "1\n",
      "4\n",
      "9\n",
      "16\n",
      "25\n"
     ]
    }
   ],
   "source": [
    "def square(a):\n",
    "    for i in range(1,a+1):\n",
    "        print(i**2)\n",
    "square(5)"
   ]
  },
  {
   "cell_type": "code",
   "execution_count": 16,
   "id": "3f68a253",
   "metadata": {},
   "outputs": [
    {
     "name": "stdout",
     "output_type": "stream",
     "text": [
      "the data type of variable is <class 'str'>\n"
     ]
    }
   ],
   "source": [
    "def typeof(a):\n",
    "    print(f\"the data type of variable is {type(a)}\")\n",
    "typeof(\"hi\")"
   ]
  },
  {
   "cell_type": "code",
   "execution_count": 17,
   "id": "a31940e7",
   "metadata": {},
   "outputs": [
    {
     "data": {
      "text/plain": [
       "9"
      ]
     },
     "execution_count": 17,
     "metadata": {},
     "output_type": "execute_result"
    }
   ],
   "source": [
    "def my_func2(a=4,b=5):\n",
    "    return a+b\n",
    "my_func2()"
   ]
  },
  {
   "cell_type": "code",
   "execution_count": 18,
   "id": "42b5bfed",
   "metadata": {},
   "outputs": [
    {
     "data": {
      "text/plain": [
       "14"
      ]
     },
     "execution_count": 18,
     "metadata": {},
     "output_type": "execute_result"
    }
   ],
   "source": [
    "my_func2(9)"
   ]
  },
  {
   "cell_type": "code",
   "execution_count": 19,
   "id": "6d0908c0",
   "metadata": {},
   "outputs": [
    {
     "data": {
      "text/plain": [
       "25"
      ]
     },
     "execution_count": 19,
     "metadata": {},
     "output_type": "execute_result"
    }
   ],
   "source": [
    "square=lambda a:a**2\n",
    "square(5)"
   ]
  },
  {
   "cell_type": "code",
   "execution_count": null,
   "id": "5f888671",
   "metadata": {},
   "outputs": [],
   "source": []
  }
 ],
 "metadata": {
  "kernelspec": {
   "display_name": "Python 3 (ipykernel)",
   "language": "python",
   "name": "python3"
  },
  "language_info": {
   "codemirror_mode": {
    "name": "ipython",
    "version": 3
   },
   "file_extension": ".py",
   "mimetype": "text/x-python",
   "name": "python",
   "nbconvert_exporter": "python",
   "pygments_lexer": "ipython3",
   "version": "3.9.7"
  }
 },
 "nbformat": 4,
 "nbformat_minor": 5
}
