{
 "cells": [
  {
   "cell_type": "markdown",
   "id": "3623413b",
   "metadata": {},
   "source": [
    "# Red Wine Quality Prediction"
   ]
  },
  {
   "cell_type": "markdown",
   "id": "0679e916",
   "metadata": {},
   "source": [
    "# Importing Libraries"
   ]
  },
  {
   "cell_type": "code",
   "execution_count": 1,
   "id": "e38132b0",
   "metadata": {
    "scrolled": true
   },
   "outputs": [],
   "source": [
    "import pandas as pd\n",
    "import numpy as np\n",
    "import matplotlib.pyplot as plt\n",
    "%matplotlib inline\n",
    "import seaborn as sns\n",
    "from sklearn.svm import SVC\n",
    "from sklearn.linear_model import LogisticRegression\n",
    "from  sklearn.metrics import confusion_matrix,precision_score,recall_score,f1_score,accuracy_score,classification_report\n",
    "from sklearn.model_selection import train_test_split\n",
    "from sklearn.preprocessing import RobustScaler,StandardScaler\n",
    "from sklearn.preprocessing import LabelEncoder,OneHotEncoder\n",
    "import warnings\n",
    "warnings.filterwarnings('ignore')"
   ]
  },
  {
   "cell_type": "markdown",
   "id": "899a6bcc",
   "metadata": {},
   "source": [
    "## Reading Dataset"
   ]
  },
  {
   "cell_type": "code",
   "execution_count": 2,
   "id": "047ec9e1",
   "metadata": {
    "scrolled": true
   },
   "outputs": [],
   "source": [
    "df=pd.read_csv(\"ML6 SVM Red wine Quality.csv\")"
   ]
  },
  {
   "cell_type": "code",
   "execution_count": 3,
   "id": "cc94fd60",
   "metadata": {
    "scrolled": true
   },
   "outputs": [
    {
     "data": {
      "text/html": [
       "<div>\n",
       "<style scoped>\n",
       "    .dataframe tbody tr th:only-of-type {\n",
       "        vertical-align: middle;\n",
       "    }\n",
       "\n",
       "    .dataframe tbody tr th {\n",
       "        vertical-align: top;\n",
       "    }\n",
       "\n",
       "    .dataframe thead th {\n",
       "        text-align: right;\n",
       "    }\n",
       "</style>\n",
       "<table border=\"1\" class=\"dataframe\">\n",
       "  <thead>\n",
       "    <tr style=\"text-align: right;\">\n",
       "      <th></th>\n",
       "      <th>Quality_Category</th>\n",
       "      <th>volatileacidity</th>\n",
       "      <th>citricacid</th>\n",
       "      <th>residualsugar</th>\n",
       "      <th>chlorides</th>\n",
       "      <th>freesulfurdioxide</th>\n",
       "      <th>totalsulfurdioxide</th>\n",
       "      <th>density</th>\n",
       "      <th>sulphates</th>\n",
       "      <th>alcohol</th>\n",
       "    </tr>\n",
       "  </thead>\n",
       "  <tbody>\n",
       "    <tr>\n",
       "      <th>0</th>\n",
       "      <td>0</td>\n",
       "      <td>0.30</td>\n",
       "      <td>0.34</td>\n",
       "      <td>1.6</td>\n",
       "      <td>0.049</td>\n",
       "      <td>14</td>\n",
       "      <td>132</td>\n",
       "      <td>0.994</td>\n",
       "      <td>0.49</td>\n",
       "      <td>9.5</td>\n",
       "    </tr>\n",
       "    <tr>\n",
       "      <th>1</th>\n",
       "      <td>0</td>\n",
       "      <td>0.23</td>\n",
       "      <td>0.32</td>\n",
       "      <td>8.5</td>\n",
       "      <td>0.058</td>\n",
       "      <td>47</td>\n",
       "      <td>186</td>\n",
       "      <td>0.996</td>\n",
       "      <td>0.40</td>\n",
       "      <td>9.9</td>\n",
       "    </tr>\n",
       "    <tr>\n",
       "      <th>2</th>\n",
       "      <td>0</td>\n",
       "      <td>0.28</td>\n",
       "      <td>0.40</td>\n",
       "      <td>6.9</td>\n",
       "      <td>0.050</td>\n",
       "      <td>30</td>\n",
       "      <td>97</td>\n",
       "      <td>0.995</td>\n",
       "      <td>0.44</td>\n",
       "      <td>10.1</td>\n",
       "    </tr>\n",
       "    <tr>\n",
       "      <th>3</th>\n",
       "      <td>0</td>\n",
       "      <td>0.32</td>\n",
       "      <td>0.16</td>\n",
       "      <td>7.0</td>\n",
       "      <td>0.045</td>\n",
       "      <td>30</td>\n",
       "      <td>136</td>\n",
       "      <td>0.995</td>\n",
       "      <td>0.47</td>\n",
       "      <td>9.6</td>\n",
       "    </tr>\n",
       "    <tr>\n",
       "      <th>4</th>\n",
       "      <td>0</td>\n",
       "      <td>0.27</td>\n",
       "      <td>0.36</td>\n",
       "      <td>20.7</td>\n",
       "      <td>0.045</td>\n",
       "      <td>45</td>\n",
       "      <td>170</td>\n",
       "      <td>1.001</td>\n",
       "      <td>0.45</td>\n",
       "      <td>8.8</td>\n",
       "    </tr>\n",
       "  </tbody>\n",
       "</table>\n",
       "</div>"
      ],
      "text/plain": [
       "   Quality_Category  volatileacidity  citricacid  residualsugar  chlorides  \\\n",
       "0                 0             0.30        0.34            1.6      0.049   \n",
       "1                 0             0.23        0.32            8.5      0.058   \n",
       "2                 0             0.28        0.40            6.9      0.050   \n",
       "3                 0             0.32        0.16            7.0      0.045   \n",
       "4                 0             0.27        0.36           20.7      0.045   \n",
       "\n",
       "   freesulfurdioxide  totalsulfurdioxide  density  sulphates  alcohol  \n",
       "0                 14                 132    0.994       0.49      9.5  \n",
       "1                 47                 186    0.996       0.40      9.9  \n",
       "2                 30                  97    0.995       0.44     10.1  \n",
       "3                 30                 136    0.995       0.47      9.6  \n",
       "4                 45                 170    1.001       0.45      8.8  "
      ]
     },
     "execution_count": 3,
     "metadata": {},
     "output_type": "execute_result"
    }
   ],
   "source": [
    "df.head()"
   ]
  },
  {
   "cell_type": "code",
   "execution_count": 4,
   "id": "f750d50f",
   "metadata": {
    "scrolled": true
   },
   "outputs": [
    {
     "data": {
      "text/plain": [
       "(4894, 10)"
      ]
     },
     "execution_count": 4,
     "metadata": {},
     "output_type": "execute_result"
    }
   ],
   "source": [
    "df.shape"
   ]
  },
  {
   "cell_type": "markdown",
   "id": "f72614c4",
   "metadata": {},
   "source": [
    "### Getting Information Of Dataset"
   ]
  },
  {
   "cell_type": "code",
   "execution_count": 5,
   "id": "6ea00aab",
   "metadata": {
    "scrolled": true
   },
   "outputs": [
    {
     "name": "stdout",
     "output_type": "stream",
     "text": [
      "<class 'pandas.core.frame.DataFrame'>\n",
      "RangeIndex: 4894 entries, 0 to 4893\n",
      "Data columns (total 10 columns):\n",
      " #   Column              Non-Null Count  Dtype  \n",
      "---  ------              --------------  -----  \n",
      " 0   Quality_Category    4894 non-null   int64  \n",
      " 1   volatileacidity     4894 non-null   float64\n",
      " 2   citricacid          4894 non-null   float64\n",
      " 3   residualsugar       4894 non-null   float64\n",
      " 4   chlorides           4894 non-null   float64\n",
      " 5   freesulfurdioxide   4894 non-null   int64  \n",
      " 6   totalsulfurdioxide  4894 non-null   int64  \n",
      " 7   density             4894 non-null   float64\n",
      " 8   sulphates           4894 non-null   float64\n",
      " 9   alcohol             4894 non-null   float64\n",
      "dtypes: float64(7), int64(3)\n",
      "memory usage: 382.5 KB\n"
     ]
    }
   ],
   "source": [
    "df.info()"
   ]
  },
  {
   "cell_type": "code",
   "execution_count": 6,
   "id": "2ffa9388",
   "metadata": {
    "scrolled": true
   },
   "outputs": [
    {
     "data": {
      "text/html": [
       "<div>\n",
       "<style scoped>\n",
       "    .dataframe tbody tr th:only-of-type {\n",
       "        vertical-align: middle;\n",
       "    }\n",
       "\n",
       "    .dataframe tbody tr th {\n",
       "        vertical-align: top;\n",
       "    }\n",
       "\n",
       "    .dataframe thead th {\n",
       "        text-align: right;\n",
       "    }\n",
       "</style>\n",
       "<table border=\"1\" class=\"dataframe\">\n",
       "  <thead>\n",
       "    <tr style=\"text-align: right;\">\n",
       "      <th></th>\n",
       "      <th>Quality_Category</th>\n",
       "      <th>volatileacidity</th>\n",
       "      <th>citricacid</th>\n",
       "      <th>residualsugar</th>\n",
       "      <th>chlorides</th>\n",
       "      <th>freesulfurdioxide</th>\n",
       "      <th>totalsulfurdioxide</th>\n",
       "      <th>density</th>\n",
       "      <th>sulphates</th>\n",
       "      <th>alcohol</th>\n",
       "    </tr>\n",
       "  </thead>\n",
       "  <tbody>\n",
       "    <tr>\n",
       "      <th>count</th>\n",
       "      <td>4894.000000</td>\n",
       "      <td>4894.000000</td>\n",
       "      <td>4894.000000</td>\n",
       "      <td>4894.000000</td>\n",
       "      <td>4894.000000</td>\n",
       "      <td>4894.000000</td>\n",
       "      <td>4894.000000</td>\n",
       "      <td>4894.000000</td>\n",
       "      <td>4894.000000</td>\n",
       "      <td>4894.000000</td>\n",
       "    </tr>\n",
       "    <tr>\n",
       "      <th>mean</th>\n",
       "      <td>0.216387</td>\n",
       "      <td>0.278335</td>\n",
       "      <td>0.334146</td>\n",
       "      <td>6.391582</td>\n",
       "      <td>0.045773</td>\n",
       "      <td>35.311606</td>\n",
       "      <td>138.368615</td>\n",
       "      <td>0.994048</td>\n",
       "      <td>0.489904</td>\n",
       "      <td>10.514610</td>\n",
       "    </tr>\n",
       "    <tr>\n",
       "      <th>std</th>\n",
       "      <td>0.411823</td>\n",
       "      <td>0.100801</td>\n",
       "      <td>0.121047</td>\n",
       "      <td>5.071695</td>\n",
       "      <td>0.021855</td>\n",
       "      <td>17.019553</td>\n",
       "      <td>42.498278</td>\n",
       "      <td>0.003007</td>\n",
       "      <td>0.114153</td>\n",
       "      <td>1.230665</td>\n",
       "    </tr>\n",
       "    <tr>\n",
       "      <th>min</th>\n",
       "      <td>0.000000</td>\n",
       "      <td>0.080000</td>\n",
       "      <td>0.000000</td>\n",
       "      <td>0.600000</td>\n",
       "      <td>0.009000</td>\n",
       "      <td>2.000000</td>\n",
       "      <td>9.000000</td>\n",
       "      <td>0.987000</td>\n",
       "      <td>0.220000</td>\n",
       "      <td>8.000000</td>\n",
       "    </tr>\n",
       "    <tr>\n",
       "      <th>25%</th>\n",
       "      <td>0.000000</td>\n",
       "      <td>0.210000</td>\n",
       "      <td>0.270000</td>\n",
       "      <td>1.700000</td>\n",
       "      <td>0.036000</td>\n",
       "      <td>23.000000</td>\n",
       "      <td>108.000000</td>\n",
       "      <td>0.992000</td>\n",
       "      <td>0.410000</td>\n",
       "      <td>9.500000</td>\n",
       "    </tr>\n",
       "    <tr>\n",
       "      <th>50%</th>\n",
       "      <td>0.000000</td>\n",
       "      <td>0.260000</td>\n",
       "      <td>0.320000</td>\n",
       "      <td>5.200000</td>\n",
       "      <td>0.043000</td>\n",
       "      <td>34.000000</td>\n",
       "      <td>134.000000</td>\n",
       "      <td>0.994000</td>\n",
       "      <td>0.470000</td>\n",
       "      <td>10.400000</td>\n",
       "    </tr>\n",
       "    <tr>\n",
       "      <th>75%</th>\n",
       "      <td>0.000000</td>\n",
       "      <td>0.320000</td>\n",
       "      <td>0.390000</td>\n",
       "      <td>9.900000</td>\n",
       "      <td>0.050000</td>\n",
       "      <td>46.000000</td>\n",
       "      <td>167.000000</td>\n",
       "      <td>0.996000</td>\n",
       "      <td>0.550000</td>\n",
       "      <td>11.400000</td>\n",
       "    </tr>\n",
       "    <tr>\n",
       "      <th>max</th>\n",
       "      <td>1.000000</td>\n",
       "      <td>1.100000</td>\n",
       "      <td>1.660000</td>\n",
       "      <td>65.800000</td>\n",
       "      <td>0.346000</td>\n",
       "      <td>289.000000</td>\n",
       "      <td>440.000000</td>\n",
       "      <td>1.039000</td>\n",
       "      <td>1.080000</td>\n",
       "      <td>14.200000</td>\n",
       "    </tr>\n",
       "  </tbody>\n",
       "</table>\n",
       "</div>"
      ],
      "text/plain": [
       "       Quality_Category  volatileacidity   citricacid  residualsugar  \\\n",
       "count       4894.000000      4894.000000  4894.000000    4894.000000   \n",
       "mean           0.216387         0.278335     0.334146       6.391582   \n",
       "std            0.411823         0.100801     0.121047       5.071695   \n",
       "min            0.000000         0.080000     0.000000       0.600000   \n",
       "25%            0.000000         0.210000     0.270000       1.700000   \n",
       "50%            0.000000         0.260000     0.320000       5.200000   \n",
       "75%            0.000000         0.320000     0.390000       9.900000   \n",
       "max            1.000000         1.100000     1.660000      65.800000   \n",
       "\n",
       "         chlorides  freesulfurdioxide  totalsulfurdioxide      density  \\\n",
       "count  4894.000000        4894.000000         4894.000000  4894.000000   \n",
       "mean      0.045773          35.311606          138.368615     0.994048   \n",
       "std       0.021855          17.019553           42.498278     0.003007   \n",
       "min       0.009000           2.000000            9.000000     0.987000   \n",
       "25%       0.036000          23.000000          108.000000     0.992000   \n",
       "50%       0.043000          34.000000          134.000000     0.994000   \n",
       "75%       0.050000          46.000000          167.000000     0.996000   \n",
       "max       0.346000         289.000000          440.000000     1.039000   \n",
       "\n",
       "         sulphates      alcohol  \n",
       "count  4894.000000  4894.000000  \n",
       "mean      0.489904    10.514610  \n",
       "std       0.114153     1.230665  \n",
       "min       0.220000     8.000000  \n",
       "25%       0.410000     9.500000  \n",
       "50%       0.470000    10.400000  \n",
       "75%       0.550000    11.400000  \n",
       "max       1.080000    14.200000  "
      ]
     },
     "execution_count": 6,
     "metadata": {},
     "output_type": "execute_result"
    }
   ],
   "source": [
    "df.describe()"
   ]
  },
  {
   "cell_type": "code",
   "execution_count": 7,
   "id": "362fd0e1",
   "metadata": {
    "scrolled": true
   },
   "outputs": [
    {
     "data": {
      "text/plain": [
       "Quality_Category      0\n",
       "volatileacidity       0\n",
       "citricacid            0\n",
       "residualsugar         0\n",
       "chlorides             0\n",
       "freesulfurdioxide     0\n",
       "totalsulfurdioxide    0\n",
       "density               0\n",
       "sulphates             0\n",
       "alcohol               0\n",
       "dtype: int64"
      ]
     },
     "execution_count": 7,
     "metadata": {},
     "output_type": "execute_result"
    }
   ],
   "source": [
    "df.isna().sum()"
   ]
  },
  {
   "cell_type": "markdown",
   "id": "9ad241cf",
   "metadata": {},
   "source": [
    "### There is No null Values"
   ]
  },
  {
   "cell_type": "markdown",
   "id": "71ffe271",
   "metadata": {},
   "source": [
    "## EDA"
   ]
  },
  {
   "cell_type": "code",
   "execution_count": 8,
   "id": "14ffc24c",
   "metadata": {
    "scrolled": true
   },
   "outputs": [
    {
     "data": {
      "text/plain": [
       "Index(['Quality_Category', 'volatileacidity', 'citricacid', 'residualsugar',\n",
       "       'chlorides', 'freesulfurdioxide', 'totalsulfurdioxide', 'density',\n",
       "       'sulphates', 'alcohol'],\n",
       "      dtype='object')"
      ]
     },
     "execution_count": 8,
     "metadata": {},
     "output_type": "execute_result"
    }
   ],
   "source": [
    "df.columns"
   ]
  },
  {
   "cell_type": "code",
   "execution_count": 9,
   "id": "16533d43",
   "metadata": {
    "scrolled": true
   },
   "outputs": [
    {
     "data": {
      "text/plain": [
       "<AxesSubplot:>"
      ]
     },
     "execution_count": 9,
     "metadata": {},
     "output_type": "execute_result"
    },
    {
     "data": {
      "image/png": "[encoded data removed]",
      "text/plain": [
       "<Figure size 432x288 with 1 Axes>"
      ]
     },
     "metadata": {
      "needs_background": "light"
     },
     "output_type": "display_data"
    }
   ],
   "source": [
    "df[\"Quality_Category\"].value_counts().plot(kind='bar',color='pink')"
   ]
  },
  {
   "cell_type": "code",
   "execution_count": 10,
   "id": "8454f11c",
   "metadata": {
    "scrolled": false
   },
   "outputs": [
    {
     "data": {
      "text/plain": [
       "<AxesSubplot:xlabel='volatileacidity', ylabel='citricacid'>"
      ]
     },
     "execution_count": 10,
     "metadata": {},
     "output_type": "execute_result"
    },
    {
     "data": {
      "image/png": "[encoded data removed]",
      "text/plain": [
       "<Figure size 1440x1440 with 1 Axes>"
      ]
     },
     "metadata": {
      "needs_background": "light"
     },
     "output_type": "display_data"
    }
   ],
   "source": [
    "plt.figure(figsize=(20,20))\n",
    "sns.regplot(data=df,x=\"volatileacidity\",y='citricacid')"
   ]
  },
  {
   "cell_type": "code",
   "execution_count": 11,
   "id": "ae299067",
   "metadata": {
    "scrolled": false
   },
   "outputs": [
    {
     "data": {
      "text/plain": [
       "<AxesSubplot:xlabel='residualsugar', ylabel='chlorides'>"
      ]
     },
     "execution_count": 11,
     "metadata": {},
     "output_type": "execute_result"
    },
    {
     "data": {
      "image/png": "[encoded data removed]",
      "text/plain": [
       "<Figure size 1440x1440 with 1 Axes>"
      ]
     },
     "metadata": {
      "needs_background": "light"
     },
     "output_type": "display_data"
    }
   ],
   "source": [
    "plt.figure(figsize=(20,20))\n",
    "sns.regplot(data=df,x=\"residualsugar\",y='chlorides')"
   ]
  },
  {
   "cell_type": "code",
   "execution_count": 12,
   "id": "aed12d5c",
   "metadata": {
    "scrolled": true
   },
   "outputs": [
    {
     "data": {
      "text/plain": [
       "<AxesSubplot:xlabel='sulphates', ylabel='alcohol'>"
      ]
     },
     "execution_count": 12,
     "metadata": {},
     "output_type": "execute_result"
    },
    {
     "data": {
      "image/png": "[encoded data removed]",
      "text/plain": [
       "<Figure size 1440x1440 with 1 Axes>"
      ]
     },
     "metadata": {
      "needs_background": "light"
     },
     "output_type": "display_data"
    }
   ],
   "source": [
    "plt.figure(figsize=(20,20))\n",
    "sns.regplot(data=df,x=\"sulphates\",y='alcohol')"
   ]
  },
  {
   "cell_type": "code",
   "execution_count": 13,
   "id": "29322d4a",
   "metadata": {
    "scrolled": true
   },
   "outputs": [
    {
     "data": {
      "image/png": "[encoded data removed]",
      "text/plain": [
       "<Figure size 1440x1440 with 12 Axes>"
      ]
     },
     "metadata": {
      "needs_background": "light"
     },
     "output_type": "display_data"
    }
   ],
   "source": [
    "df.hist(bins=20,color='yellowgreen',figsize=(20,20));"
   ]
  },
  {
   "cell_type": "markdown",
   "id": "620d8e88",
   "metadata": {},
   "source": [
    "### Defining objects for  Features and Target "
   ]
  },
  {
   "cell_type": "code",
   "execution_count": 14,
   "id": "759de8ce",
   "metadata": {
    "scrolled": true
   },
   "outputs": [],
   "source": [
    "features=df.drop([\"Quality_Category\"],axis=1)"
   ]
  },
  {
   "cell_type": "code",
   "execution_count": 15,
   "id": "4e4e530d",
   "metadata": {
    "scrolled": true
   },
   "outputs": [],
   "source": [
    "target=df[\"Quality_Category\"]"
   ]
  },
  {
   "cell_type": "code",
   "execution_count": 16,
   "id": "62eaa7c2",
   "metadata": {
    "scrolled": true
   },
   "outputs": [],
   "source": [
    "features_train, features_test, target_train, target_test = train_test_split(features,target, test_size=0.2,random_state=2)"
   ]
  },
  {
   "cell_type": "markdown",
   "id": "a41d402c",
   "metadata": {},
   "source": [
    "### Without Scaling"
   ]
  },
  {
   "cell_type": "markdown",
   "id": "574713af",
   "metadata": {},
   "source": [
    "## Model  SVM "
   ]
  },
  {
   "cell_type": "code",
   "execution_count": 17,
   "id": "00193967",
   "metadata": {
    "scrolled": true
   },
   "outputs": [],
   "source": [
    "model=SVC()"
   ]
  },
  {
   "cell_type": "code",
   "execution_count": 18,
   "id": "135dadf9",
   "metadata": {
    "scrolled": true
   },
   "outputs": [
    {
     "data": {
      "text/plain": [
       "SVC()"
      ]
     },
     "execution_count": 18,
     "metadata": {},
     "output_type": "execute_result"
    }
   ],
   "source": [
    "model.fit(features_train,target_train)"
   ]
  },
  {
   "cell_type": "code",
   "execution_count": 19,
   "id": "f676e643",
   "metadata": {
    "scrolled": true
   },
   "outputs": [],
   "source": [
    "predicted_category=model.predict(features_test)"
   ]
  },
  {
   "cell_type": "markdown",
   "id": "f3b097b1",
   "metadata": {},
   "source": [
    "#### Checking Accuracy ,Recall ,Precision ,F1 Score And Confusion Matrix of Model"
   ]
  },
  {
   "cell_type": "code",
   "execution_count": 20,
   "id": "79782c8e",
   "metadata": {
    "scrolled": true
   },
   "outputs": [
    {
     "name": "stdout",
     "output_type": "stream",
     "text": [
      "Training Accuracy of Model is 0.7851851851851852\n"
     ]
    }
   ],
   "source": [
    "print(\"Training Accuracy of Model is\",model.score(features_train,target_train))"
   ]
  },
  {
   "cell_type": "code",
   "execution_count": 21,
   "id": "2c1fdb55",
   "metadata": {
    "scrolled": true
   },
   "outputs": [
    {
     "name": "stdout",
     "output_type": "stream",
     "text": [
      "Testing Accuracy of Model is 0.7773237997957099\n"
     ]
    }
   ],
   "source": [
    "print(\"Testing Accuracy of Model is\",model.score(features_test,target_test))"
   ]
  },
  {
   "cell_type": "code",
   "execution_count": 22,
   "id": "4e721430",
   "metadata": {
    "scrolled": true
   },
   "outputs": [
    {
     "name": "stdout",
     "output_type": "stream",
     "text": [
      "[[761   0]\n",
      " [218   0]]\n"
     ]
    },
    {
     "data": {
      "text/plain": [
       "<AxesSubplot:>"
      ]
     },
     "execution_count": 22,
     "metadata": {},
     "output_type": "execute_result"
    },
    {
     "data": {
      "image/png": "[encoded data removed]",
      "text/plain": [
       "<Figure size 432x288 with 2 Axes>"
      ]
     },
     "metadata": {
      "needs_background": "light"
     },
     "output_type": "display_data"
    }
   ],
   "source": [
    "cm=confusion_matrix(target_test,predicted_category)\n",
    "print(cm)\n",
    "sns.heatmap(cm,annot=True,fmt='d')"
   ]
  },
  {
   "cell_type": "code",
   "execution_count": 23,
   "id": "0609076a",
   "metadata": {
    "scrolled": true
   },
   "outputs": [
    {
     "name": "stdout",
     "output_type": "stream",
     "text": [
      "Recall Score of Model is 0.0\n"
     ]
    }
   ],
   "source": [
    "print(\"Recall Score of Model is\",recall_score(target_test,predicted_category))"
   ]
  },
  {
   "cell_type": "code",
   "execution_count": 24,
   "id": "292141be",
   "metadata": {
    "scrolled": true
   },
   "outputs": [
    {
     "name": "stdout",
     "output_type": "stream",
     "text": [
      "Precision Score of Model is 0.0\n"
     ]
    }
   ],
   "source": [
    "print(\"Precision Score of Model is\",precision_score(target_test,predicted_category))"
   ]
  },
  {
   "cell_type": "code",
   "execution_count": 25,
   "id": "ffa2dcd0",
   "metadata": {
    "scrolled": true
   },
   "outputs": [
    {
     "name": "stdout",
     "output_type": "stream",
     "text": [
      "F1 Score of Model is 0.0\n"
     ]
    }
   ],
   "source": [
    "print(\"F1 Score of Model is\",f1_score(target_test,predicted_category))"
   ]
  },
  {
   "cell_type": "code",
   "execution_count": 26,
   "id": "6f1b69a6",
   "metadata": {
    "scrolled": true
   },
   "outputs": [
    {
     "name": "stdout",
     "output_type": "stream",
     "text": [
      "              precision    recall  f1-score   support\n",
      "\n",
      "           0       0.78      1.00      0.87       761\n",
      "           1       0.00      0.00      0.00       218\n",
      "\n",
      "    accuracy                           0.78       979\n",
      "   macro avg       0.39      0.50      0.44       979\n",
      "weighted avg       0.60      0.78      0.68       979\n",
      "\n"
     ]
    }
   ],
   "source": [
    "    print(classification_report(target_test,predicted_category))"
   ]
  },
  {
   "cell_type": "markdown",
   "id": "41cfefc6",
   "metadata": {},
   "source": [
    "## Applying all Algorithm"
   ]
  },
  {
   "cell_type": "code",
   "execution_count": 27,
   "id": "58d75c5e",
   "metadata": {},
   "outputs": [],
   "source": [
    "from sklearn.linear_model import LogisticRegression,SGDClassifier\n",
    "from sklearn.tree import DecisionTreeClassifier\n",
    "from sklearn.ensemble import RandomForestClassifier, GradientBoostingClassifier,AdaBoostClassifier\n",
    "from sklearn.neighbors import KNeighborsClassifier\n",
    "from sklearn.svm import SVC\n",
    "from sklearn.naive_bayes import GaussianNB\n",
    "from sklearn.discriminant_analysis import LinearDiscriminantAnalysis, QuadraticDiscriminantAnalysis"
   ]
  },
  {
   "cell_type": "code",
   "execution_count": 28,
   "id": "f0c31e89",
   "metadata": {},
   "outputs": [],
   "source": [
    "models={'lr':LogisticRegression(),\n",
    "        'sg':SGDClassifier(),\n",
    "        'tree':DecisionTreeClassifier(),\n",
    "        'rf':RandomForestClassifier(),\n",
    "        'gb':GradientBoostingClassifier(),\n",
    "        'knn':KNeighborsClassifier(),\n",
    "        'svm':SVC(),\n",
    "        'ad':AdaBoostClassifier(),\n",
    "        'nb':GaussianNB(),\n",
    "        'lda':LinearDiscriminantAnalysis(),\n",
    "        'qda':QuadraticDiscriminantAnalysis()\n",
    "       }"
   ]
  },
  {
   "cell_type": "code",
   "execution_count": 29,
   "id": "cc2930c8",
   "metadata": {
    "scrolled": true
   },
   "outputs": [
    {
     "name": "stdout",
     "output_type": "stream",
     "text": [
      "lr confuion matrix: \n",
      " [[730  31]\n",
      " [168  50]]\n",
      "lr accuracy score: 0.7967313585291114\n",
      "lr precision score: 0.6172839506172839\n",
      "lr recall score: 0.22935779816513763\n",
      "lr classification report :\n",
      "               precision    recall  f1-score   support\n",
      "\n",
      "           0       0.81      0.96      0.88       761\n",
      "           1       0.62      0.23      0.33       218\n",
      "\n",
      "    accuracy                           0.80       979\n",
      "   macro avg       0.72      0.59      0.61       979\n",
      "weighted avg       0.77      0.80      0.76       979\n",
      "\n",
      "\n",
      "\n",
      "sg confuion matrix: \n",
      " [[755   6]\n",
      " [218   0]]\n",
      "sg accuracy score: 0.7711950970377937\n",
      "sg precision score: 0.0\n",
      "sg recall score: 0.0\n",
      "sg classification report :\n",
      "               precision    recall  f1-score   support\n",
      "\n",
      "           0       0.78      0.99      0.87       761\n",
      "           1       0.00      0.00      0.00       218\n",
      "\n",
      "    accuracy                           0.77       979\n",
      "   macro avg       0.39      0.50      0.44       979\n",
      "weighted avg       0.60      0.77      0.68       979\n",
      "\n",
      "\n",
      "\n",
      "tree confuion matrix: \n",
      " [[673  88]\n",
      " [ 85 133]]\n",
      "tree accuracy score: 0.8232890704800817\n",
      "tree precision score: 0.6018099547511312\n",
      "tree recall score: 0.6100917431192661\n",
      "tree classification report :\n",
      "               precision    recall  f1-score   support\n",
      "\n",
      "           0       0.89      0.88      0.89       761\n",
      "           1       0.60      0.61      0.61       218\n",
      "\n",
      "    accuracy                           0.82       979\n",
      "   macro avg       0.74      0.75      0.75       979\n",
      "weighted avg       0.82      0.82      0.82       979\n",
      "\n",
      "\n",
      "\n",
      "rf confuion matrix: \n",
      " [[724  37]\n",
      " [ 84 134]]\n",
      "rf accuracy score: 0.8764044943820225\n",
      "rf precision score: 0.783625730994152\n",
      "rf recall score: 0.6146788990825688\n",
      "rf classification report :\n",
      "               precision    recall  f1-score   support\n",
      "\n",
      "           0       0.90      0.95      0.92       761\n",
      "           1       0.78      0.61      0.69       218\n",
      "\n",
      "    accuracy                           0.88       979\n",
      "   macro avg       0.84      0.78      0.81       979\n",
      "weighted avg       0.87      0.88      0.87       979\n",
      "\n",
      "\n",
      "\n",
      "gb confuion matrix: \n",
      " [[713  48]\n",
      " [128  90]]\n",
      "gb accuracy score: 0.8202247191011236\n",
      "gb precision score: 0.6521739130434783\n",
      "gb recall score: 0.41284403669724773\n",
      "gb classification report :\n",
      "               precision    recall  f1-score   support\n",
      "\n",
      "           0       0.85      0.94      0.89       761\n",
      "           1       0.65      0.41      0.51       218\n",
      "\n",
      "    accuracy                           0.82       979\n",
      "   macro avg       0.75      0.67      0.70       979\n",
      "weighted avg       0.80      0.82      0.80       979\n",
      "\n",
      "\n",
      "\n",
      "knn confuion matrix: \n",
      " [[691  70]\n",
      " [135  83]]\n",
      "knn accuracy score: 0.7906026557711952\n",
      "knn precision score: 0.5424836601307189\n",
      "knn recall score: 0.38073394495412843\n",
      "knn classification report :\n",
      "               precision    recall  f1-score   support\n",
      "\n",
      "           0       0.84      0.91      0.87       761\n",
      "           1       0.54      0.38      0.45       218\n",
      "\n",
      "    accuracy                           0.79       979\n",
      "   macro avg       0.69      0.64      0.66       979\n",
      "weighted avg       0.77      0.79      0.78       979\n",
      "\n",
      "\n",
      "\n",
      "svm confuion matrix: \n",
      " [[761   0]\n",
      " [218   0]]\n",
      "svm accuracy score: 0.7773237997957099\n",
      "svm precision score: 0.0\n",
      "svm recall score: 0.0\n",
      "svm classification report :\n",
      "               precision    recall  f1-score   support\n",
      "\n",
      "           0       0.78      1.00      0.87       761\n",
      "           1       0.00      0.00      0.00       218\n",
      "\n",
      "    accuracy                           0.78       979\n",
      "   macro avg       0.39      0.50      0.44       979\n",
      "weighted avg       0.60      0.78      0.68       979\n",
      "\n",
      "\n",
      "\n",
      "ad confuion matrix: \n",
      " [[691  70]\n",
      " [131  87]]\n",
      "ad accuracy score: 0.7946884576098059\n",
      "ad precision score: 0.554140127388535\n",
      "ad recall score: 0.39908256880733944\n",
      "ad classification report :\n",
      "               precision    recall  f1-score   support\n",
      "\n",
      "           0       0.84      0.91      0.87       761\n",
      "           1       0.55      0.40      0.46       218\n",
      "\n",
      "    accuracy                           0.79       979\n",
      "   macro avg       0.70      0.65      0.67       979\n",
      "weighted avg       0.78      0.79      0.78       979\n",
      "\n",
      "\n",
      "\n",
      "nb confuion matrix: \n",
      " [[566 195]\n",
      " [ 66 152]]\n",
      "nb accuracy score: 0.7334014300306435\n",
      "nb precision score: 0.43804034582132567\n",
      "nb recall score: 0.6972477064220184\n",
      "nb classification report :\n",
      "               precision    recall  f1-score   support\n",
      "\n",
      "           0       0.90      0.74      0.81       761\n",
      "           1       0.44      0.70      0.54       218\n",
      "\n",
      "    accuracy                           0.73       979\n",
      "   macro avg       0.67      0.72      0.68       979\n",
      "weighted avg       0.79      0.73      0.75       979\n",
      "\n",
      "\n",
      "\n",
      "lda confuion matrix: \n",
      " [[712  49]\n",
      " [160  58]]\n",
      "lda accuracy score: 0.7865168539325843\n",
      "lda precision score: 0.5420560747663551\n",
      "lda recall score: 0.26605504587155965\n",
      "lda classification report :\n",
      "               precision    recall  f1-score   support\n",
      "\n",
      "           0       0.82      0.94      0.87       761\n",
      "           1       0.54      0.27      0.36       218\n",
      "\n",
      "    accuracy                           0.79       979\n",
      "   macro avg       0.68      0.60      0.61       979\n",
      "weighted avg       0.76      0.79      0.76       979\n",
      "\n",
      "\n",
      "\n",
      "qda confuion matrix: \n",
      " [[602 159]\n",
      " [ 82 136]]\n",
      "qda accuracy score: 0.7538304392236976\n",
      "qda precision score: 0.4610169491525424\n",
      "qda recall score: 0.6238532110091743\n",
      "qda classification report :\n",
      "               precision    recall  f1-score   support\n",
      "\n",
      "           0       0.88      0.79      0.83       761\n",
      "           1       0.46      0.62      0.53       218\n",
      "\n",
      "    accuracy                           0.75       979\n",
      "   macro avg       0.67      0.71      0.68       979\n",
      "weighted avg       0.79      0.75      0.77       979\n",
      "\n",
      "\n",
      "\n"
     ]
    }
   ],
   "source": [
    "for name, model in models.items():\n",
    "    model1=model.fit(features_train,target_train)\n",
    "    y_pred = model1.predict(features_test)\n",
    "    print(f\"{name} confuion matrix: \\n {confusion_matrix(target_test,y_pred)}\") \n",
    "    print(f'{name} accuracy score: {model1.score(features_test,target_test)}')\n",
    "    print(f'{name} precision score: {precision_score(target_test,y_pred)}')\n",
    "    print(f'{name} recall score: {recall_score(target_test,y_pred)}')\n",
    "    print(f'{name} classification report :\\n {classification_report(target_test,y_pred)}\\n\\n')"
   ]
  },
  {
   "cell_type": "markdown",
   "id": "525a71d2",
   "metadata": {},
   "source": [
    "# Scaling"
   ]
  },
  {
   "cell_type": "code",
   "execution_count": 30,
   "id": "d956ddb5",
   "metadata": {
    "scrolled": true
   },
   "outputs": [],
   "source": [
    "features=df.drop([\"Quality_Category\"],axis=1)"
   ]
  },
  {
   "cell_type": "code",
   "execution_count": 31,
   "id": "566d3a5a",
   "metadata": {
    "scrolled": true
   },
   "outputs": [],
   "source": [
    "target=df[\"Quality_Category\"]"
   ]
  },
  {
   "cell_type": "code",
   "execution_count": 32,
   "id": "d11cf99d",
   "metadata": {
    "scrolled": true
   },
   "outputs": [
    {
     "data": {
      "text/plain": [
       "Index(['volatileacidity', 'citricacid', 'residualsugar', 'chlorides',\n",
       "       'freesulfurdioxide', 'totalsulfurdioxide', 'density', 'sulphates',\n",
       "       'alcohol'],\n",
       "      dtype='object')"
      ]
     },
     "execution_count": 32,
     "metadata": {},
     "output_type": "execute_result"
    }
   ],
   "source": [
    "col=features_train.columns\n",
    "col"
   ]
  },
  {
   "cell_type": "code",
   "execution_count": 33,
   "id": "d8e03981",
   "metadata": {
    "scrolled": true
   },
   "outputs": [],
   "source": [
    "rob_scaler=RobustScaler()\n",
    "std_scaler=StandardScaler()"
   ]
  },
  {
   "cell_type": "code",
   "execution_count": 34,
   "id": "84931adf",
   "metadata": {
    "scrolled": true
   },
   "outputs": [],
   "source": [
    "features=std_scaler.fit_transform(features)"
   ]
  },
  {
   "cell_type": "code",
   "execution_count": 35,
   "id": "a87bfbe7",
   "metadata": {
    "scrolled": true
   },
   "outputs": [],
   "source": [
    "features=pd.DataFrame(features,columns=col)"
   ]
  },
  {
   "cell_type": "code",
   "execution_count": 36,
   "id": "0f3cef19",
   "metadata": {
    "scrolled": true
   },
   "outputs": [
    {
     "data": {
      "text/html": [
       "<div>\n",
       "<style scoped>\n",
       "    .dataframe tbody tr th:only-of-type {\n",
       "        vertical-align: middle;\n",
       "    }\n",
       "\n",
       "    .dataframe tbody tr th {\n",
       "        vertical-align: top;\n",
       "    }\n",
       "\n",
       "    .dataframe thead th {\n",
       "        text-align: right;\n",
       "    }\n",
       "</style>\n",
       "<table border=\"1\" class=\"dataframe\">\n",
       "  <thead>\n",
       "    <tr style=\"text-align: right;\">\n",
       "      <th></th>\n",
       "      <th>volatileacidity</th>\n",
       "      <th>citricacid</th>\n",
       "      <th>residualsugar</th>\n",
       "      <th>chlorides</th>\n",
       "      <th>freesulfurdioxide</th>\n",
       "      <th>totalsulfurdioxide</th>\n",
       "      <th>density</th>\n",
       "      <th>sulphates</th>\n",
       "      <th>alcohol</th>\n",
       "    </tr>\n",
       "  </thead>\n",
       "  <tbody>\n",
       "    <tr>\n",
       "      <th>0</th>\n",
       "      <td>0.214954</td>\n",
       "      <td>0.048367</td>\n",
       "      <td>-0.944866</td>\n",
       "      <td>0.147691</td>\n",
       "      <td>-1.252312</td>\n",
       "      <td>-0.149871</td>\n",
       "      <td>-0.016107</td>\n",
       "      <td>0.000841</td>\n",
       "      <td>-0.824525</td>\n",
       "    </tr>\n",
       "    <tr>\n",
       "      <th>1</th>\n",
       "      <td>-0.479557</td>\n",
       "      <td>-0.116875</td>\n",
       "      <td>0.415765</td>\n",
       "      <td>0.559542</td>\n",
       "      <td>0.686833</td>\n",
       "      <td>1.120898</td>\n",
       "      <td>0.649085</td>\n",
       "      <td>-0.787657</td>\n",
       "      <td>-0.499464</td>\n",
       "    </tr>\n",
       "    <tr>\n",
       "      <th>2</th>\n",
       "      <td>0.016522</td>\n",
       "      <td>0.544093</td>\n",
       "      <td>0.100257</td>\n",
       "      <td>0.193452</td>\n",
       "      <td>-0.312120</td>\n",
       "      <td>-0.973518</td>\n",
       "      <td>0.316489</td>\n",
       "      <td>-0.437213</td>\n",
       "      <td>-0.336933</td>\n",
       "    </tr>\n",
       "    <tr>\n",
       "      <th>3</th>\n",
       "      <td>0.413386</td>\n",
       "      <td>-1.438811</td>\n",
       "      <td>0.119976</td>\n",
       "      <td>-0.035354</td>\n",
       "      <td>-0.312120</td>\n",
       "      <td>-0.055740</td>\n",
       "      <td>0.316489</td>\n",
       "      <td>-0.174380</td>\n",
       "      <td>-0.743259</td>\n",
       "    </tr>\n",
       "    <tr>\n",
       "      <th>4</th>\n",
       "      <td>-0.082693</td>\n",
       "      <td>0.213609</td>\n",
       "      <td>2.821519</td>\n",
       "      <td>-0.035354</td>\n",
       "      <td>0.569309</td>\n",
       "      <td>0.744374</td>\n",
       "      <td>2.312065</td>\n",
       "      <td>-0.349602</td>\n",
       "      <td>-1.393381</td>\n",
       "    </tr>\n",
       "    <tr>\n",
       "      <th>...</th>\n",
       "      <td>...</td>\n",
       "      <td>...</td>\n",
       "      <td>...</td>\n",
       "      <td>...</td>\n",
       "      <td>...</td>\n",
       "      <td>...</td>\n",
       "      <td>...</td>\n",
       "      <td>...</td>\n",
       "      <td>...</td>\n",
       "    </tr>\n",
       "    <tr>\n",
       "      <th>4889</th>\n",
       "      <td>-0.677989</td>\n",
       "      <td>-0.364738</td>\n",
       "      <td>-0.944866</td>\n",
       "      <td>-0.309921</td>\n",
       "      <td>-0.664692</td>\n",
       "      <td>-1.091182</td>\n",
       "      <td>-1.013894</td>\n",
       "      <td>0.088452</td>\n",
       "      <td>0.556984</td>\n",
       "    </tr>\n",
       "    <tr>\n",
       "      <th>4890</th>\n",
       "      <td>0.413386</td>\n",
       "      <td>0.213609</td>\n",
       "      <td>0.317169</td>\n",
       "      <td>0.056168</td>\n",
       "      <td>1.274452</td>\n",
       "      <td>0.697309</td>\n",
       "      <td>0.316489</td>\n",
       "      <td>-0.261991</td>\n",
       "      <td>-0.743259</td>\n",
       "    </tr>\n",
       "    <tr>\n",
       "      <th>4891</th>\n",
       "      <td>-0.380341</td>\n",
       "      <td>-1.190948</td>\n",
       "      <td>-1.023743</td>\n",
       "      <td>-0.218399</td>\n",
       "      <td>-0.312120</td>\n",
       "      <td>-0.644059</td>\n",
       "      <td>-0.348702</td>\n",
       "      <td>-0.261991</td>\n",
       "      <td>-0.905790</td>\n",
       "    </tr>\n",
       "    <tr>\n",
       "      <th>4892</th>\n",
       "      <td>0.115738</td>\n",
       "      <td>-0.282117</td>\n",
       "      <td>-1.043462</td>\n",
       "      <td>-1.087862</td>\n",
       "      <td>-0.899740</td>\n",
       "      <td>-0.667592</td>\n",
       "      <td>-1.679086</td>\n",
       "      <td>-0.962879</td>\n",
       "      <td>1.857227</td>\n",
       "    </tr>\n",
       "    <tr>\n",
       "      <th>4893</th>\n",
       "      <td>-0.677989</td>\n",
       "      <td>0.378851</td>\n",
       "      <td>-1.102620</td>\n",
       "      <td>-1.179385</td>\n",
       "      <td>-0.782216</td>\n",
       "      <td>-0.949985</td>\n",
       "      <td>-1.679086</td>\n",
       "      <td>-1.488545</td>\n",
       "      <td>1.044575</td>\n",
       "    </tr>\n",
       "  </tbody>\n",
       "</table>\n",
       "<p>4894 rows × 9 columns</p>\n",
       "</div>"
      ],
      "text/plain": [
       "      volatileacidity  citricacid  residualsugar  chlorides  \\\n",
       "0            0.214954    0.048367      -0.944866   0.147691   \n",
       "1           -0.479557   -0.116875       0.415765   0.559542   \n",
       "2            0.016522    0.544093       0.100257   0.193452   \n",
       "3            0.413386   -1.438811       0.119976  -0.035354   \n",
       "4           -0.082693    0.213609       2.821519  -0.035354   \n",
       "...               ...         ...            ...        ...   \n",
       "4889        -0.677989   -0.364738      -0.944866  -0.309921   \n",
       "4890         0.413386    0.213609       0.317169   0.056168   \n",
       "4891        -0.380341   -1.190948      -1.023743  -0.218399   \n",
       "4892         0.115738   -0.282117      -1.043462  -1.087862   \n",
       "4893        -0.677989    0.378851      -1.102620  -1.179385   \n",
       "\n",
       "      freesulfurdioxide  totalsulfurdioxide   density  sulphates   alcohol  \n",
       "0             -1.252312           -0.149871 -0.016107   0.000841 -0.824525  \n",
       "1              0.686833            1.120898  0.649085  -0.787657 -0.499464  \n",
       "2             -0.312120           -0.973518  0.316489  -0.437213 -0.336933  \n",
       "3             -0.312120           -0.055740  0.316489  -0.174380 -0.743259  \n",
       "4              0.569309            0.744374  2.312065  -0.349602 -1.393381  \n",
       "...                 ...                 ...       ...        ...       ...  \n",
       "4889          -0.664692           -1.091182 -1.013894   0.088452  0.556984  \n",
       "4890           1.274452            0.697309  0.316489  -0.261991 -0.743259  \n",
       "4891          -0.312120           -0.644059 -0.348702  -0.261991 -0.905790  \n",
       "4892          -0.899740           -0.667592 -1.679086  -0.962879  1.857227  \n",
       "4893          -0.782216           -0.949985 -1.679086  -1.488545  1.044575  \n",
       "\n",
       "[4894 rows x 9 columns]"
      ]
     },
     "execution_count": 36,
     "metadata": {},
     "output_type": "execute_result"
    }
   ],
   "source": [
    "features"
   ]
  },
  {
   "cell_type": "code",
   "execution_count": 37,
   "id": "5e86e539",
   "metadata": {
    "scrolled": true
   },
   "outputs": [],
   "source": [
    "features_train, features_test, target_train, target_test = train_test_split(features,target, test_size=0.2,random_state=2)"
   ]
  },
  {
   "cell_type": "code",
   "execution_count": 38,
   "id": "ae99d461",
   "metadata": {
    "scrolled": true
   },
   "outputs": [
    {
     "data": {
      "text/html": [
       "<div>\n",
       "<style scoped>\n",
       "    .dataframe tbody tr th:only-of-type {\n",
       "        vertical-align: middle;\n",
       "    }\n",
       "\n",
       "    .dataframe tbody tr th {\n",
       "        vertical-align: top;\n",
       "    }\n",
       "\n",
       "    .dataframe thead th {\n",
       "        text-align: right;\n",
       "    }\n",
       "</style>\n",
       "<table border=\"1\" class=\"dataframe\">\n",
       "  <thead>\n",
       "    <tr style=\"text-align: right;\">\n",
       "      <th></th>\n",
       "      <th>volatileacidity</th>\n",
       "      <th>citricacid</th>\n",
       "      <th>residualsugar</th>\n",
       "      <th>chlorides</th>\n",
       "      <th>freesulfurdioxide</th>\n",
       "      <th>totalsulfurdioxide</th>\n",
       "      <th>density</th>\n",
       "      <th>sulphates</th>\n",
       "      <th>alcohol</th>\n",
       "    </tr>\n",
       "  </thead>\n",
       "  <tbody>\n",
       "    <tr>\n",
       "      <th>622</th>\n",
       "      <td>2.794570</td>\n",
       "      <td>-1.769296</td>\n",
       "      <td>0.790432</td>\n",
       "      <td>2.298468</td>\n",
       "      <td>-0.782216</td>\n",
       "      <td>0.909103</td>\n",
       "      <td>1.314277</td>\n",
       "      <td>-0.349602</td>\n",
       "      <td>-1.149585</td>\n",
       "    </tr>\n",
       "    <tr>\n",
       "      <th>3392</th>\n",
       "      <td>0.115738</td>\n",
       "      <td>-0.447359</td>\n",
       "      <td>0.750993</td>\n",
       "      <td>-0.630250</td>\n",
       "      <td>0.451785</td>\n",
       "      <td>-0.008675</td>\n",
       "      <td>0.316489</td>\n",
       "      <td>-0.174380</td>\n",
       "      <td>0.069393</td>\n",
       "    </tr>\n",
       "    <tr>\n",
       "      <th>1177</th>\n",
       "      <td>1.405546</td>\n",
       "      <td>0.957199</td>\n",
       "      <td>0.534081</td>\n",
       "      <td>-0.767534</td>\n",
       "      <td>-0.899740</td>\n",
       "      <td>-0.314601</td>\n",
       "      <td>0.649085</td>\n",
       "      <td>-1.138101</td>\n",
       "      <td>-0.336933</td>\n",
       "    </tr>\n",
       "    <tr>\n",
       "      <th>3614</th>\n",
       "      <td>-0.082693</td>\n",
       "      <td>-0.777843</td>\n",
       "      <td>1.224256</td>\n",
       "      <td>-0.081115</td>\n",
       "      <td>0.745595</td>\n",
       "      <td>-0.479330</td>\n",
       "      <td>0.981681</td>\n",
       "      <td>0.614118</td>\n",
       "      <td>-0.418199</td>\n",
       "    </tr>\n",
       "    <tr>\n",
       "      <th>3520</th>\n",
       "      <td>0.810250</td>\n",
       "      <td>-0.529980</td>\n",
       "      <td>-0.018059</td>\n",
       "      <td>-0.813295</td>\n",
       "      <td>0.275499</td>\n",
       "      <td>-0.149871</td>\n",
       "      <td>-0.681298</td>\n",
       "      <td>-0.787657</td>\n",
       "      <td>0.882044</td>\n",
       "    </tr>\n",
       "    <tr>\n",
       "      <th>...</th>\n",
       "      <td>...</td>\n",
       "      <td>...</td>\n",
       "      <td>...</td>\n",
       "      <td>...</td>\n",
       "      <td>...</td>\n",
       "      <td>...</td>\n",
       "      <td>...</td>\n",
       "      <td>...</td>\n",
       "      <td>...</td>\n",
       "    </tr>\n",
       "    <tr>\n",
       "      <th>831</th>\n",
       "      <td>1.405546</td>\n",
       "      <td>0.048367</td>\n",
       "      <td>-0.412445</td>\n",
       "      <td>-0.264160</td>\n",
       "      <td>-0.077073</td>\n",
       "      <td>-0.714658</td>\n",
       "      <td>-0.681298</td>\n",
       "      <td>-0.349602</td>\n",
       "      <td>1.857227</td>\n",
       "    </tr>\n",
       "    <tr>\n",
       "      <th>4374</th>\n",
       "      <td>0.413386</td>\n",
       "      <td>-1.108327</td>\n",
       "      <td>0.041099</td>\n",
       "      <td>-0.218399</td>\n",
       "      <td>-1.546121</td>\n",
       "      <td>-0.291068</td>\n",
       "      <td>0.316489</td>\n",
       "      <td>0.176063</td>\n",
       "      <td>-1.393381</td>\n",
       "    </tr>\n",
       "    <tr>\n",
       "      <th>2328</th>\n",
       "      <td>1.207114</td>\n",
       "      <td>-0.116875</td>\n",
       "      <td>0.829870</td>\n",
       "      <td>0.147691</td>\n",
       "      <td>0.157975</td>\n",
       "      <td>1.662152</td>\n",
       "      <td>1.314277</td>\n",
       "      <td>0.876951</td>\n",
       "      <td>-0.987055</td>\n",
       "    </tr>\n",
       "    <tr>\n",
       "      <th>2546</th>\n",
       "      <td>0.512602</td>\n",
       "      <td>-1.604053</td>\n",
       "      <td>-0.313849</td>\n",
       "      <td>0.284974</td>\n",
       "      <td>-0.488406</td>\n",
       "      <td>-0.244002</td>\n",
       "      <td>0.316489</td>\n",
       "      <td>-0.086770</td>\n",
       "      <td>-0.905790</td>\n",
       "    </tr>\n",
       "    <tr>\n",
       "      <th>3480</th>\n",
       "      <td>0.909466</td>\n",
       "      <td>-0.777843</td>\n",
       "      <td>-0.057498</td>\n",
       "      <td>-0.630250</td>\n",
       "      <td>-0.958502</td>\n",
       "      <td>-1.232379</td>\n",
       "      <td>-1.679086</td>\n",
       "      <td>-2.014210</td>\n",
       "      <td>2.344818</td>\n",
       "    </tr>\n",
       "  </tbody>\n",
       "</table>\n",
       "<p>979 rows × 9 columns</p>\n",
       "</div>"
      ],
      "text/plain": [
       "      volatileacidity  citricacid  residualsugar  chlorides  \\\n",
       "622          2.794570   -1.769296       0.790432   2.298468   \n",
       "3392         0.115738   -0.447359       0.750993  -0.630250   \n",
       "1177         1.405546    0.957199       0.534081  -0.767534   \n",
       "3614        -0.082693   -0.777843       1.224256  -0.081115   \n",
       "3520         0.810250   -0.529980      -0.018059  -0.813295   \n",
       "...               ...         ...            ...        ...   \n",
       "831          1.405546    0.048367      -0.412445  -0.264160   \n",
       "4374         0.413386   -1.108327       0.041099  -0.218399   \n",
       "2328         1.207114   -0.116875       0.829870   0.147691   \n",
       "2546         0.512602   -1.604053      -0.313849   0.284974   \n",
       "3480         0.909466   -0.777843      -0.057498  -0.630250   \n",
       "\n",
       "      freesulfurdioxide  totalsulfurdioxide   density  sulphates   alcohol  \n",
       "622           -0.782216            0.909103  1.314277  -0.349602 -1.149585  \n",
       "3392           0.451785           -0.008675  0.316489  -0.174380  0.069393  \n",
       "1177          -0.899740           -0.314601  0.649085  -1.138101 -0.336933  \n",
       "3614           0.745595           -0.479330  0.981681   0.614118 -0.418199  \n",
       "3520           0.275499           -0.149871 -0.681298  -0.787657  0.882044  \n",
       "...                 ...                 ...       ...        ...       ...  \n",
       "831           -0.077073           -0.714658 -0.681298  -0.349602  1.857227  \n",
       "4374          -1.546121           -0.291068  0.316489   0.176063 -1.393381  \n",
       "2328           0.157975            1.662152  1.314277   0.876951 -0.987055  \n",
       "2546          -0.488406           -0.244002  0.316489  -0.086770 -0.905790  \n",
       "3480          -0.958502           -1.232379 -1.679086  -2.014210  2.344818  \n",
       "\n",
       "[979 rows x 9 columns]"
      ]
     },
     "execution_count": 38,
     "metadata": {},
     "output_type": "execute_result"
    }
   ],
   "source": [
    "features_test"
   ]
  },
  {
   "cell_type": "markdown",
   "id": "94bdafbf",
   "metadata": {},
   "source": [
    "## Model - SVM "
   ]
  },
  {
   "cell_type": "code",
   "execution_count": 39,
   "id": "8a0e8534",
   "metadata": {
    "scrolled": true
   },
   "outputs": [],
   "source": [
    "model=SVC()"
   ]
  },
  {
   "cell_type": "code",
   "execution_count": 40,
   "id": "cd24ca40",
   "metadata": {
    "scrolled": true
   },
   "outputs": [
    {
     "data": {
      "text/plain": [
       "SVC()"
      ]
     },
     "execution_count": 40,
     "metadata": {},
     "output_type": "execute_result"
    }
   ],
   "source": [
    "model.fit(features_train,target_train)"
   ]
  },
  {
   "cell_type": "code",
   "execution_count": 41,
   "id": "77e1a0f2",
   "metadata": {
    "scrolled": true
   },
   "outputs": [],
   "source": [
    "predicted_category=model.predict(features_test)"
   ]
  },
  {
   "cell_type": "markdown",
   "id": "eec3e512",
   "metadata": {},
   "source": [
    "#### Checking Accuracy ,Recall ,Precision ,F1 Score And Confusion Matrix of Model"
   ]
  },
  {
   "cell_type": "code",
   "execution_count": 42,
   "id": "3ddf6fd8",
   "metadata": {
    "scrolled": true
   },
   "outputs": [
    {
     "name": "stdout",
     "output_type": "stream",
     "text": [
      "Training Accuracy of Model is 0.8268199233716476\n"
     ]
    }
   ],
   "source": [
    "print(\"Training Accuracy of Model is\",model.score(features_train,target_train))"
   ]
  },
  {
   "cell_type": "code",
   "execution_count": 43,
   "id": "ebd1fe29",
   "metadata": {
    "scrolled": true
   },
   "outputs": [
    {
     "name": "stdout",
     "output_type": "stream",
     "text": [
      "Testing Accuracy of Model is 0.8069458631256384\n"
     ]
    }
   ],
   "source": [
    "print(\"Testing Accuracy of Model is\",model.score(features_test,target_test))"
   ]
  },
  {
   "cell_type": "code",
   "execution_count": 44,
   "id": "63791b42",
   "metadata": {
    "scrolled": true
   },
   "outputs": [
    {
     "name": "stdout",
     "output_type": "stream",
     "text": [
      "[[732  29]\n",
      " [160  58]]\n"
     ]
    },
    {
     "data": {
      "text/plain": [
       "<AxesSubplot:>"
      ]
     },
     "execution_count": 44,
     "metadata": {},
     "output_type": "execute_result"
    },
    {
     "data": {
      "image/png": "[encoded data removed]",
      "text/plain": [
       "<Figure size 432x288 with 2 Axes>"
      ]
     },
     "metadata": {
      "needs_background": "light"
     },
     "output_type": "display_data"
    }
   ],
   "source": [
    "cm=confusion_matrix(target_test,predicted_category)\n",
    "print(cm)\n",
    "sns.heatmap(cm,annot=True,fmt='d')"
   ]
  },
  {
   "cell_type": "code",
   "execution_count": 45,
   "id": "76586a38",
   "metadata": {
    "scrolled": true
   },
   "outputs": [
    {
     "name": "stdout",
     "output_type": "stream",
     "text": [
      "Recall Score of Model is 0.26605504587155965\n"
     ]
    }
   ],
   "source": [
    "print(\"Recall Score of Model is\",recall_score(target_test,predicted_category))"
   ]
  },
  {
   "cell_type": "code",
   "execution_count": 46,
   "id": "cba7a3e8",
   "metadata": {
    "scrolled": true
   },
   "outputs": [
    {
     "name": "stdout",
     "output_type": "stream",
     "text": [
      "Precision Score of Model is 0.6666666666666666\n"
     ]
    }
   ],
   "source": [
    "print(\"Precision Score of Model is\",precision_score(target_test,predicted_category))"
   ]
  },
  {
   "cell_type": "code",
   "execution_count": 47,
   "id": "57c9870a",
   "metadata": {
    "scrolled": true
   },
   "outputs": [
    {
     "name": "stdout",
     "output_type": "stream",
     "text": [
      "F1 Score of Model is 0.380327868852459\n"
     ]
    }
   ],
   "source": [
    "print(\"F1 Score of Model is\",f1_score(target_test,predicted_category))"
   ]
  },
  {
   "cell_type": "code",
   "execution_count": 48,
   "id": "db67462a",
   "metadata": {
    "scrolled": false
   },
   "outputs": [
    {
     "name": "stdout",
     "output_type": "stream",
     "text": [
      "              precision    recall  f1-score   support\n",
      "\n",
      "           0       0.82      0.96      0.89       761\n",
      "           1       0.67      0.27      0.38       218\n",
      "\n",
      "    accuracy                           0.81       979\n",
      "   macro avg       0.74      0.61      0.63       979\n",
      "weighted avg       0.79      0.81      0.77       979\n",
      "\n"
     ]
    }
   ],
   "source": [
    "    print(classification_report(target_test,predicted_category))"
   ]
  },
  {
   "cell_type": "markdown",
   "id": "d5360a4b",
   "metadata": {},
   "source": [
    "## Applying all Algorithm"
   ]
  },
  {
   "cell_type": "code",
   "execution_count": 49,
   "id": "147c6be2",
   "metadata": {},
   "outputs": [],
   "source": [
    "from sklearn.linear_model import LogisticRegression,SGDClassifier\n",
    "from sklearn.tree import DecisionTreeClassifier\n",
    "from sklearn.ensemble import RandomForestClassifier, GradientBoostingClassifier,AdaBoostClassifier\n",
    "from sklearn.neighbors import KNeighborsClassifier\n",
    "from sklearn.svm import SVC\n",
    "from sklearn.naive_bayes import GaussianNB\n",
    "from sklearn.discriminant_analysis import LinearDiscriminantAnalysis, QuadraticDiscriminantAnalysis"
   ]
  },
  {
   "cell_type": "code",
   "execution_count": 50,
   "id": "3441515c",
   "metadata": {},
   "outputs": [],
   "source": [
    "models={'lr':LogisticRegression(),\n",
    "        'sg':SGDClassifier(),\n",
    "        'tree':DecisionTreeClassifier(),\n",
    "        'rf':RandomForestClassifier(),\n",
    "        'gb':GradientBoostingClassifier(),\n",
    "        'knn':KNeighborsClassifier(),\n",
    "        'svm':SVC(),\n",
    "        'ad':AdaBoostClassifier(),\n",
    "        'nb':GaussianNB(),\n",
    "        'lda':LinearDiscriminantAnalysis(),\n",
    "        'qda':QuadraticDiscriminantAnalysis()\n",
    "       }"
   ]
  },
  {
   "cell_type": "code",
   "execution_count": 51,
   "id": "87287105",
   "metadata": {
    "scrolled": false
   },
   "outputs": [
    {
     "name": "stdout",
     "output_type": "stream",
     "text": [
      "lr confuion matrix: \n",
      " [[719  42]\n",
      " [168  50]]\n",
      "lr accuracy score: 0.7854954034729316\n",
      "lr precision score: 0.5434782608695652\n",
      "lr recall score: 0.22935779816513763\n",
      "lr classification report :\n",
      "               precision    recall  f1-score   support\n",
      "\n",
      "           0       0.81      0.94      0.87       761\n",
      "           1       0.54      0.23      0.32       218\n",
      "\n",
      "    accuracy                           0.79       979\n",
      "   macro avg       0.68      0.59      0.60       979\n",
      "weighted avg       0.75      0.79      0.75       979\n",
      "\n",
      "\n",
      "\n",
      "sg confuion matrix: \n",
      " [[761   0]\n",
      " [218   0]]\n",
      "sg accuracy score: 0.7773237997957099\n",
      "sg precision score: 0.0\n",
      "sg recall score: 0.0\n",
      "sg classification report :\n",
      "               precision    recall  f1-score   support\n",
      "\n",
      "           0       0.78      1.00      0.87       761\n",
      "           1       0.00      0.00      0.00       218\n",
      "\n",
      "    accuracy                           0.78       979\n",
      "   macro avg       0.39      0.50      0.44       979\n",
      "weighted avg       0.60      0.78      0.68       979\n",
      "\n",
      "\n",
      "\n",
      "tree confuion matrix: \n",
      " [[681  80]\n",
      " [ 79 139]]\n",
      "tree accuracy score: 0.8375893769152196\n",
      "tree precision score: 0.634703196347032\n",
      "tree recall score: 0.6376146788990825\n",
      "tree classification report :\n",
      "               precision    recall  f1-score   support\n",
      "\n",
      "           0       0.90      0.89      0.90       761\n",
      "           1       0.63      0.64      0.64       218\n",
      "\n",
      "    accuracy                           0.84       979\n",
      "   macro avg       0.77      0.77      0.77       979\n",
      "weighted avg       0.84      0.84      0.84       979\n",
      "\n",
      "\n",
      "\n",
      "rf confuion matrix: \n",
      " [[723  38]\n",
      " [ 79 139]]\n",
      "rf accuracy score: 0.8804902962206334\n",
      "rf precision score: 0.7853107344632768\n",
      "rf recall score: 0.6376146788990825\n",
      "rf classification report :\n",
      "               precision    recall  f1-score   support\n",
      "\n",
      "           0       0.90      0.95      0.93       761\n",
      "           1       0.79      0.64      0.70       218\n",
      "\n",
      "    accuracy                           0.88       979\n",
      "   macro avg       0.84      0.79      0.81       979\n",
      "weighted avg       0.88      0.88      0.88       979\n",
      "\n",
      "\n",
      "\n",
      "gb confuion matrix: \n",
      " [[713  48]\n",
      " [128  90]]\n",
      "gb accuracy score: 0.8202247191011236\n",
      "gb precision score: 0.6521739130434783\n",
      "gb recall score: 0.41284403669724773\n",
      "gb classification report :\n",
      "               precision    recall  f1-score   support\n",
      "\n",
      "           0       0.85      0.94      0.89       761\n",
      "           1       0.65      0.41      0.51       218\n",
      "\n",
      "    accuracy                           0.82       979\n",
      "   macro avg       0.75      0.67      0.70       979\n",
      "weighted avg       0.80      0.82      0.80       979\n",
      "\n",
      "\n",
      "\n",
      "knn confuion matrix: \n",
      " [[691  70]\n",
      " [105 113]]\n",
      "knn accuracy score: 0.8212461695607763\n",
      "knn precision score: 0.6174863387978142\n",
      "knn recall score: 0.518348623853211\n",
      "knn classification report :\n",
      "               precision    recall  f1-score   support\n",
      "\n",
      "           0       0.87      0.91      0.89       761\n",
      "           1       0.62      0.52      0.56       218\n",
      "\n",
      "    accuracy                           0.82       979\n",
      "   macro avg       0.74      0.71      0.73       979\n",
      "weighted avg       0.81      0.82      0.82       979\n",
      "\n",
      "\n",
      "\n",
      "svm confuion matrix: \n",
      " [[732  29]\n",
      " [160  58]]\n",
      "svm accuracy score: 0.8069458631256384\n",
      "svm precision score: 0.6666666666666666\n",
      "svm recall score: 0.26605504587155965\n",
      "svm classification report :\n",
      "               precision    recall  f1-score   support\n",
      "\n",
      "           0       0.82      0.96      0.89       761\n",
      "           1       0.67      0.27      0.38       218\n",
      "\n",
      "    accuracy                           0.81       979\n",
      "   macro avg       0.74      0.61      0.63       979\n",
      "weighted avg       0.79      0.81      0.77       979\n",
      "\n",
      "\n",
      "\n",
      "ad confuion matrix: \n",
      " [[691  70]\n",
      " [131  87]]\n",
      "ad accuracy score: 0.7946884576098059\n",
      "ad precision score: 0.554140127388535\n",
      "ad recall score: 0.39908256880733944\n",
      "ad classification report :\n",
      "               precision    recall  f1-score   support\n",
      "\n",
      "           0       0.84      0.91      0.87       761\n",
      "           1       0.55      0.40      0.46       218\n",
      "\n",
      "    accuracy                           0.79       979\n",
      "   macro avg       0.70      0.65      0.67       979\n",
      "weighted avg       0.78      0.79      0.78       979\n",
      "\n",
      "\n",
      "\n",
      "nb confuion matrix: \n",
      " [[563 198]\n",
      " [ 66 152]]\n",
      "nb accuracy score: 0.7303370786516854\n",
      "nb precision score: 0.4342857142857143\n",
      "nb recall score: 0.6972477064220184\n",
      "nb classification report :\n",
      "               precision    recall  f1-score   support\n",
      "\n",
      "           0       0.90      0.74      0.81       761\n",
      "           1       0.43      0.70      0.54       218\n",
      "\n",
      "    accuracy                           0.73       979\n",
      "   macro avg       0.66      0.72      0.67       979\n",
      "weighted avg       0.79      0.73      0.75       979\n",
      "\n",
      "\n",
      "\n",
      "lda confuion matrix: \n",
      " [[712  49]\n",
      " [160  58]]\n",
      "lda accuracy score: 0.7865168539325843\n",
      "lda precision score: 0.5420560747663551\n",
      "lda recall score: 0.26605504587155965\n",
      "lda classification report :\n",
      "               precision    recall  f1-score   support\n",
      "\n",
      "           0       0.82      0.94      0.87       761\n",
      "           1       0.54      0.27      0.36       218\n",
      "\n",
      "    accuracy                           0.79       979\n",
      "   macro avg       0.68      0.60      0.61       979\n",
      "weighted avg       0.76      0.79      0.76       979\n",
      "\n",
      "\n",
      "\n",
      "qda confuion matrix: \n",
      " [[602 159]\n",
      " [ 82 136]]\n",
      "qda accuracy score: 0.7538304392236976\n",
      "qda precision score: 0.4610169491525424\n",
      "qda recall score: 0.6238532110091743\n",
      "qda classification report :\n",
      "               precision    recall  f1-score   support\n",
      "\n",
      "           0       0.88      0.79      0.83       761\n",
      "           1       0.46      0.62      0.53       218\n",
      "\n",
      "    accuracy                           0.75       979\n",
      "   macro avg       0.67      0.71      0.68       979\n",
      "weighted avg       0.79      0.75      0.77       979\n",
      "\n",
      "\n",
      "\n"
     ]
    }
   ],
   "source": [
    "for name, model in models.items():\n",
    "    model1=model.fit(features_train,target_train)\n",
    "    y_pred = model1.predict(features_test)\n",
    "    print(f\"{name} confuion matrix: \\n {confusion_matrix(target_test,y_pred)}\") \n",
    "    print(f'{name} accuracy score: {model1.score(features_test,target_test)}')\n",
    "    print(f'{name} precision score: {precision_score(target_test,y_pred)}')\n",
    "    print(f'{name} recall score: {recall_score(target_test,y_pred)}')\n",
    "    print(f'{name} classification report :\\n {classification_report(target_test,y_pred)}\\n\\n')"
   ]
  },
  {
   "cell_type": "markdown",
   "id": "e1b36973",
   "metadata": {},
   "source": [
    "### Random Forest Gives Best Accuracy"
   ]
  }
 ],
 "metadata": {
  "kernelspec": {
   "display_name": "Python 3 (ipykernel)",
   "language": "python",
   "name": "python3"
  },
  "language_info": {
   "codemirror_mode": {
    "name": "ipython",
    "version": 3
   },
   "file_extension": ".py",
   "mimetype": "text/x-python",
   "name": "python",
   "nbconvert_exporter": "python",
   "pygments_lexer": "ipython3",
   "version": "3.9.7"
  }
 },
 "nbformat": 4,
 "nbformat_minor": 5
}
